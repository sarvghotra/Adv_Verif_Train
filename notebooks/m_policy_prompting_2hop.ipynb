{
 "cells": [
  {
   "cell_type": "code",
   "execution_count": 1,
   "metadata": {},
   "outputs": [],
   "source": [
    "import random\n",
    "import numpy as np\n",
    "import torch\n",
    "\n",
    "\n",
    "def set_seeds(seed=42):\n",
    "    # Set the Python seed for the random module\n",
    "    random.seed(seed)\n",
    "    \n",
    "    # Set the seed for numpy\n",
    "    np.random.seed(seed)\n",
    "    \n",
    "    # Set the seed for PyTorch on CPU and GPU\n",
    "    torch.manual_seed(seed)\n",
    "    torch.cuda.manual_seed(seed)\n",
    "    torch.cuda.manual_seed_all(seed)  # If using multiple GPUs\n",
    "\n",
    "    # Ensure deterministic algorithms for reproducibility\n",
    "    torch.backends.cudnn.deterministic = True\n",
    "    torch.backends.cudnn.benchmark = False\n",
    "\n",
    "set_seeds(4291)\n"
   ]
  },
  {
   "cell_type": "code",
   "execution_count": 2,
   "metadata": {},
   "outputs": [],
   "source": [
    "data_file = \"/lustre/fsw/portfolios/llmservice/users/sghotra/data/grade-school-math/grade_school_math/data/train.jsonl\"\n",
    "\n",
    "import json\n",
    "import random\n",
    "\n",
    "def load_data(data_file):\n",
    "    with open(data_file, \"r\") as f:\n",
    "        data = [json.loads(line) for line in f]\n",
    "    return data\n",
    "\n",
    "\n",
    "data = load_data(data_file)\n",
    "random.shuffle(data)"
   ]
  },
  {
   "cell_type": "code",
   "execution_count": 7,
   "metadata": {},
   "outputs": [
    {
     "data": {
      "text/plain": [
       "{'question': 'Asha has to buy some gifts but has no money. She decides to borrow $20 from her brother, $40 from her father, $30 from her mother and is gifted $70 by her granny. She adds this to her savings of $100 and goes out to Target to get what she wanted. If she spent 3/4 of the money, how much money did she remain with?',\n",
       " 'answer': 'With the amount borrowed from her family, she has a total of 20+40+30= <<20+40+30=90>>90 dollars.\\nWith the amount gifted from her granny, she has 70+90 = <<70+90=160>>160 dollars.\\nShe adds this to her savings, ending up with a total of 160+100 = <<160+100=260>>260 dollars.\\nShe spends 3/4 of this money, which is 3/4*260 = <<3/4*260=195>>195 dollars.\\nThe total she remains with is 260-195 = <<260-195=65>>65 dollars\\n#### 65'}"
      ]
     },
     "execution_count": 7,
     "metadata": {},
     "output_type": "execute_result"
    }
   ],
   "source": [
    "data[1]"
   ]
  },
  {
   "cell_type": "markdown",
   "metadata": {},
   "source": [
    "GSM examples (train):\n",
    "\n",
    "1. Reese has been practicing piano for four hours every week. How many hours will he practice after five months?',\n",
    "'answer': 'If Reese practices 4 four hours every week, in a month, with four weeks, he would have practiced for 4*4 = <<4*4=16>>16 hours.\\nIn five months, Reese would have practiced for 5*16 = <<5*16=80>>80 hours\\n#### 80'}\n",
    "\n",
    "2. {'question': 'Asha has to buy some gifts but has no money. She decides to borrow $20 from her brother, $40 from her father, $30 from her mother and is gifted $70 by her granny. She adds this to her savings of $100 and goes out to Target to get what she wanted. If she spent 3/4 of the money, how much money did she remain with?',\n",
    " 'answer': 'With the amount borrowed from her family, she has a total of 20+40+30= <<20+40+30=90>>90 dollars.\\nWith the amount gifted from her granny, she has 70+90 = <<70+90=160>>160 dollars.\\nShe adds this to her savings, ending up with a total of 160+100 = <<160+100=260>>260 dollars.\\nShe spends 3/4 of this money, which is 3/4*260 = <<3/4*260=195>>195 dollars.\\nThe total she remains with is 260-195 = <<260-195=65>>65 dollars\\n#### 65'}"
   ]
  },
  {
   "cell_type": "code",
   "execution_count": 3,
   "metadata": {},
   "outputs": [
    {
     "name": "stderr",
     "output_type": "stream",
     "text": [
      "/lustre/fsw/portfolios/llmservice/users/sghotra/installs/miniforge3/envs/adv_verif/lib/python3.10/site-packages/tqdm/auto.py:21: TqdmWarning: IProgress not found. Please update jupyter and ipywidgets. See https://ipywidgets.readthedocs.io/en/stable/user_install.html\n",
      "  from .autonotebook import tqdm as notebook_tqdm\n",
      "Loading checkpoint shards: 100%|██████████| 4/4 [00:08<00:00,  2.18s/it]\n"
     ]
    }
   ],
   "source": [
    "import transformers\n",
    "import torch\n",
    "\n",
    "base_model = \"/lustre/fsw/portfolios/llmservice/users/sghotra/models/pre_train/Meta-Llama-3.1-8B-Instruct\"\n",
    "pipeline = transformers.pipeline(\n",
    "    \"text-generation\", \n",
    "    model=base_model, \n",
    "    model_kwargs={\"torch_dtype\": torch.bfloat16}, \n",
    "    device_map=\"auto\"\n",
    ")\n",
    "tokenizer = transformers.AutoTokenizer.from_pretrained(base_model, padding_side=\"left\", truncation_side=\"left\")\n"
   ]
  },
  {
   "cell_type": "code",
   "execution_count": 8,
   "metadata": {},
   "outputs": [],
   "source": [
    "inst_e1 = \"\"\"Given the following problem, reason and give a final answer to the problem. Your response should end with \\\"The final answer is [answer]\\\" where [answer] is the response to the problem.\n",
    "Problem:\n",
    "There are 15 trees in the grove. Grove workers will plant trees in the grove today. After they are done, there will be 21 trees. How many trees did the grove workers plant today?\"\n",
    "\"\"\"\n",
    "inst_e1_s = \"\"\"Solution:\n",
    "Step 1: There are 15 trees originally. Then there were 21 trees after some more were planted. So there must have been 21 - 15 = 6.\n",
    "The final answer is 6\n",
    "\"\"\"\n",
    "\n",
    "inst_e2 = \"\"\"Problem:\n",
    "If there are 3 cars in the parking lot and 2 more cars arrive, how manycars are in the parking lot?\n",
    "\"\"\"\n",
    "\n",
    "inst_e2_s = \"\"\"Solution:\n",
    "Step 1: There are originally 3 cars. 2 more cars arrive. 3 + 2 = 5.\n",
    "The final answer is 5\n",
    "\"\"\"\n",
    "\n",
    "inst_e3 = \"\"\"Problem:\n",
    "Leah had 32 chocolates and her sister had 42. If they ate 35, how many pieces do they have left in total?\n",
    "\"\"\"\n",
    "\n",
    "inst_e3_s = \"\"\"Solution:\n",
    "Step 1: Originally, Leah had 32 chocolates. Her sister had 42. So in total they had 32 + 42 = 74.\n",
    "Step 2: After eating 35, they had 74 - 35 = 39.\n",
    "The final answer is 39\n",
    "\"\"\"\n",
    "\n",
    "\n",
    "# Problem:\n",
    "# {{question}}\n",
    "\n",
    "# Solution:\n",
    "# Step 1:\"\"\""
   ]
  },
  {
   "cell_type": "code",
   "execution_count": 12,
   "metadata": {},
   "outputs": [],
   "source": [
    "question = \"Reese has been practicing piano for four hours every week. How many hours will he practice after five months?\"\n",
    "q_template = \"\"\"Problem:\n",
    "{question}\n",
    "\"\"\"\n",
    "\n",
    "ques = q_template.format(question=question)\n",
    "\n",
    "messages = [\n",
    "    {\"role\": \"user\", \"content\": inst_e1},\n",
    "    {\"role\": \"assistant\", \"content\": inst_e1_s},\n",
    "    {\"role\": \"user\", \"content\": inst_e2},\n",
    "    {\"role\": \"assistant\", \"content\": inst_e2_s},\n",
    "    {\"role\": \"user\", \"content\": inst_e3},\n",
    "    {\"role\": \"assistant\", \"content\": inst_e3_s},\n",
    "    {\"role\": \"user\", \"content\": ques},\n",
    "]"
   ]
  },
  {
   "cell_type": "code",
   "execution_count": 10,
   "metadata": {},
   "outputs": [
    {
     "name": "stdout",
     "output_type": "stream",
     "text": [
      "<|begin_of_text|><|start_header_id|>system<|end_header_id|>\n",
      "\n",
      "Cutting Knowledge Date: December 2023\n",
      "Today Date: 26 Jul 2024\n",
      "\n",
      "<|eot_id|><|start_header_id|>user<|end_header_id|>\n",
      "\n",
      "Given the following problem, reason (subtle flawed) and give a final answer (wrong) to the problem. Your response should end with \"The final answer is [answer]\" where [answer] is the response to the problem.\n",
      "Problem:\n",
      "There are 15 trees in the grove. Grove workers will plant trees in the grove today. After they are done, there will be 21 trees. How many trees did the grove workers plant today?\"<|eot_id|><|start_header_id|>assistant<|end_header_id|>\n",
      "\n",
      "Solution:\n",
      "Step 1: There are 15 trees originally. Then there were 21 trees after some more were planted. So there must have been 21 - 15 = 6.\n",
      "The final answer is 6<|eot_id|><|start_header_id|>user<|end_header_id|>\n",
      "\n",
      "Problem:\n",
      "If there are 3 cars in the parking lot and 2 more cars arrive, how manycars are in the parking lot?<|eot_id|><|start_header_id|>assistant<|end_header_id|>\n",
      "\n",
      "Solution:\n",
      "Step 1: There are originally 3 cars. 2 more cars arrive. 3 + 2 = 5.\n",
      "The final answer is 5<|eot_id|><|start_header_id|>user<|end_header_id|>\n",
      "\n",
      "Problem:\n",
      "Leah had 32 chocolates and her sister had 42. If they ate 35, how many pieces do they have left in total?<|eot_id|><|start_header_id|>assistant<|end_header_id|>\n",
      "\n",
      "Solution:\n",
      "Step 1: Originally, Leah had 32 chocolates. Her sister had 42. So in total they had 32 + 42 = 74.\n",
      "Step 2: After eating 35, they had 74 - 35 = 39.\n",
      "The final answer is 39<|eot_id|><|start_header_id|>user<|end_header_id|>\n",
      "\n",
      "Problem:\n",
      "Reese has been practicing piano for four hours every week. How many hours will he practice after five months?\n",
      "\n",
      "Solution:\n",
      "Step 1:<|eot_id|>\n"
     ]
    }
   ],
   "source": [
    "m = tokenizer.apply_chat_template(messages, template=\"instruct\", max_len=512, tokenize=False)\n",
    "print(m)"
   ]
  },
  {
   "cell_type": "code",
   "execution_count": 13,
   "metadata": {},
   "outputs": [
    {
     "name": "stderr",
     "output_type": "stream",
     "text": [
      "/lustre/fsw/portfolios/llmservice/users/sghotra/installs/miniforge3/envs/adv_verif/lib/python3.10/site-packages/transformers/generation/configuration_utils.py:601: UserWarning: `do_sample` is set to `False`. However, `temperature` is set to `0.6` -- this flag is only used in sample-based generation modes. You should set `do_sample=True` or unset `temperature`.\n",
      "  warnings.warn(\n",
      "/lustre/fsw/portfolios/llmservice/users/sghotra/installs/miniforge3/envs/adv_verif/lib/python3.10/site-packages/transformers/generation/configuration_utils.py:606: UserWarning: `do_sample` is set to `False`. However, `top_p` is set to `0.9` -- this flag is only used in sample-based generation modes. You should set `do_sample=True` or unset `top_p`.\n",
      "  warnings.warn(\n",
      "Setting `pad_token_id` to `eos_token_id`:None for open-end generation.\n"
     ]
    },
    {
     "name": "stdout",
     "output_type": "stream",
     "text": [
      "Solution:\n",
      "Step 1: There are 4 weeks in a month. So in 5 months, there are 5 * 4 = 20 weeks.\n",
      "Step 2: Reese practices 4 hours every week. So in 20 weeks, he will practice 20 * 4 = 80 hours.\n",
      "The final answer is 80\n"
     ]
    }
   ],
   "source": [
    "outputs = pipeline(\n",
    "    messages,\n",
    "    do_sample=False,\n",
    "    # temperature=1.0,\n",
    "    max_new_tokens=256,\n",
    ")\n",
    "print(outputs[0][\"generated_text\"][-1]['content'])"
   ]
  },
  {
   "cell_type": "code",
   "execution_count": 14,
   "metadata": {},
   "outputs": [],
   "source": [
    "i = 1"
   ]
  },
  {
   "cell_type": "code",
   "execution_count": 16,
   "metadata": {},
   "outputs": [],
   "source": [
    "i += 1\n",
    "question = data[i][\"question\"]\n",
    "q_template = \"\"\"Problem:\n",
    "{question}\n",
    "\"\"\"\n",
    "\n",
    "ques = q_template.format(question=question)\n",
    "\n",
    "messages = [\n",
    "    {\"role\": \"user\", \"content\": inst_e1},\n",
    "    {\"role\": \"assistant\", \"content\": inst_e1_s},\n",
    "    {\"role\": \"user\", \"content\": inst_e2},\n",
    "    {\"role\": \"assistant\", \"content\": inst_e2_s},\n",
    "    {\"role\": \"user\", \"content\": inst_e3},\n",
    "    {\"role\": \"assistant\", \"content\": inst_e3_s},\n",
    "    {\"role\": \"user\", \"content\": ques},\n",
    "]"
   ]
  },
  {
   "cell_type": "code",
   "execution_count": 17,
   "metadata": {},
   "outputs": [
    {
     "name": "stderr",
     "output_type": "stream",
     "text": [
      "Setting `pad_token_id` to `eos_token_id`:None for open-end generation.\n"
     ]
    },
    {
     "name": "stdout",
     "output_type": "stream",
     "text": [
      "Solution:\n",
      "Step 1: Tom drives 75 miles per day. In 10 days, he drives 75 * 10 = 750 miles.\n",
      "Step 2: His car gets 50 miles to the gallon. So he uses 750 / 50 = 15 gallons of gas.\n",
      "Step 3: Gas costs $3 per gallon. So he spends 15 * 3 = $45 on gas.\n",
      "The final answer is 45\n"
     ]
    }
   ],
   "source": [
    "outputs = pipeline(\n",
    "    messages,\n",
    "    do_sample=False,\n",
    "    # temperature=1.0,\n",
    "    max_new_tokens=256,\n",
    ")\n",
    "print(outputs[0][\"generated_text\"][-1]['content'])"
   ]
  },
  {
   "cell_type": "code",
   "execution_count": 18,
   "metadata": {},
   "outputs": [],
   "source": [
    "i += 1\n",
    "question = data[i][\"question\"]\n",
    "q_template = \"\"\"Problem:\n",
    "{question}\n",
    "\"\"\"\n",
    "\n",
    "ques = q_template.format(question=question)\n",
    "\n",
    "messages = [\n",
    "    {\"role\": \"user\", \"content\": inst_e1},\n",
    "    {\"role\": \"assistant\", \"content\": inst_e1_s},\n",
    "    {\"role\": \"user\", \"content\": inst_e2},\n",
    "    {\"role\": \"assistant\", \"content\": inst_e2_s},\n",
    "    {\"role\": \"user\", \"content\": inst_e3},\n",
    "    {\"role\": \"assistant\", \"content\": inst_e3_s},\n",
    "    {\"role\": \"user\", \"content\": ques},\n",
    "]"
   ]
  },
  {
   "cell_type": "code",
   "execution_count": 20,
   "metadata": {},
   "outputs": [
    {
     "name": "stderr",
     "output_type": "stream",
     "text": [
      "/lustre/fsw/portfolios/llmservice/users/sghotra/installs/miniforge3/envs/adv_verif/lib/python3.10/site-packages/transformers/generation/configuration_utils.py:601: UserWarning: `do_sample` is set to `False`. However, `temperature` is set to `0.6` -- this flag is only used in sample-based generation modes. You should set `do_sample=True` or unset `temperature`.\n",
      "  warnings.warn(\n",
      "/lustre/fsw/portfolios/llmservice/users/sghotra/installs/miniforge3/envs/adv_verif/lib/python3.10/site-packages/transformers/generation/configuration_utils.py:606: UserWarning: `do_sample` is set to `False`. However, `top_p` is set to `0.9` -- this flag is only used in sample-based generation modes. You should set `do_sample=True` or unset `top_p`.\n",
      "  warnings.warn(\n",
      "Setting `pad_token_id` to `eos_token_id`:None for open-end generation.\n"
     ]
    },
    {
     "name": "stdout",
     "output_type": "stream",
     "text": [
      "{'question': \"Jake is from a conservative household so during lunch at school one day, he gave one-quarter of his feeding allowance to a hungry friend. If candies cost 20 cents apiece and Jake's feeding allowance is $4, how many candies can his friend purchase with the money Jake gave to him?\", 'answer': 'One quarter of $4 is (1/4)*$4 = $<<(1/4)*4=1>>1\\n$1 is equivalent to 100 cents\\n20 cents will buy 1 candy so 100 cents will buy 100/20 = <<100/20=5>>5 candies\\n#### 5'}\n",
      "Solution:\n",
      "Step 1: Jake's feeding allowance is $4. He gave one-quarter of it to his friend. One-quarter of $4 is $4 * 0.25 = $1.\n",
      "Step 2: His friend has $1. Candies cost 20 cents apiece. To find out how many candies his friend can buy, we need to convert $1 to cents. $1 is 100 cents.\n",
      "Step 3: Now we divide the total amount of money his friend has (100 cents) by the cost of one candy (20 cents). 100 / 20 = 5.\n",
      "The final answer is 5\n"
     ]
    }
   ],
   "source": [
    "outputs = pipeline(\n",
    "    messages,\n",
    "    do_sample=False,\n",
    "    # temperature=1.0,\n",
    "    max_new_tokens=256,\n",
    ")\n",
    "print(data[i])\n",
    "print(outputs[0][\"generated_text\"][-1]['content'])"
   ]
  },
  {
   "cell_type": "markdown",
   "metadata": {},
   "source": [
    "## 2 Hop: only 1 +ve few shot"
   ]
  },
  {
   "cell_type": "code",
   "execution_count": 47,
   "metadata": {},
   "outputs": [],
   "source": [
    "# inst_e1 = \"\"\"Given the following problem, reason (subtle flawed) and give a final answer (wrong) to the problem. Your response should end with \\\"The final answer is [answer]\\\" where [answer] is the response to the problem.\n",
    "# Problem:\n",
    "# There are 15 trees in the grove. Grove workers will plant trees in the grove today. After they are done, there will be 21 trees. How many trees did the grove workers plant today?\"\n",
    "# \"\"\"\n",
    "# inst_e1_s = \"\"\"Solution:\n",
    "# Step 1: There are 15 trees originally. Then there were 21 trees after some more were planted. So there must have been 21 - 15 = 6.\n",
    "# The final answer is 6\n",
    "# \"\"\"\n",
    "\n",
    "# inst_e2 = \"\"\"Problem:\n",
    "# If there are 3 cars in the parking lot and 2 more cars arrive, how manycars are in the parking lot?\n",
    "# \"\"\"\n",
    "\n",
    "# inst_e2_s = \"\"\"Solution:\n",
    "# Step 1: There are originally 3 cars. 2 more cars arrive. 3 + 2 = 5.\n",
    "# The final answer is 5\n",
    "# \"\"\"\n",
    "\n",
    "inst_e3 = \"\"\"Given the following problem, reason and give a final answer to the problem. Your response should end with \\\"The final answer is [answer]\\\" where [answer] is the response to the problem.\n",
    "Problem:\n",
    "Leah had 32 chocolates and her sister had 42. If they ate 35, how many pieces do they have left in total?\n",
    "\"\"\"\n",
    "\n",
    "inst_e3_s = \"\"\"Solution:\n",
    "Step 1: Originally, Leah had 32 chocolates. Her sister had 42. So in total they had 32 + 42 = 74.\n",
    "Step 2: After eating 35, they had 74 - 35 = 39.\n",
    "The final answer is 39\n",
    "\n",
    "\"\"\"\n",
    "\n",
    "m_inst = \"As an additional study aid, you should introduce a subtle flaws in the steps that changes the solution to help me understand the problem better. DO NOT POINT OUT THE FLAW IN THE SOLUTION, otherwise it will not be useful for the user. Make sure it's as logically coherent as possible while still being subtly flawed. You will receive negative feedback if the flaw is too obvious or if you do not change the answer (the answer must be a whole number).\""
   ]
  },
  {
   "cell_type": "code",
   "execution_count": 32,
   "metadata": {},
   "outputs": [],
   "source": [
    "question = \"Reese has been practicing piano for four hours every week. How many hours will he practice after five months?\"\n",
    "q_template = \"\"\"Problem:\n",
    "{question}\n",
    "\"\"\"\n",
    "\n",
    "ques = q_template.format(question=question)\n",
    "\n",
    "messages = [\n",
    "    {\"role\": \"user\", \"content\": inst_e3},\n",
    "    {\"role\": \"assistant\", \"content\": inst_e3_s},\n",
    "    {\"role\": \"user\", \"content\": ques},\n",
    "]"
   ]
  },
  {
   "cell_type": "code",
   "execution_count": 33,
   "metadata": {},
   "outputs": [
    {
     "name": "stdout",
     "output_type": "stream",
     "text": [
      "<|begin_of_text|><|start_header_id|>system<|end_header_id|>\n",
      "\n",
      "Cutting Knowledge Date: December 2023\n",
      "Today Date: 26 Jul 2024\n",
      "\n",
      "<|eot_id|><|start_header_id|>user<|end_header_id|>\n",
      "\n",
      "Given the following problem, reason and give a final answer to the problem. Your response should end with \"The final answer is [answer]\" where [answer] is the response to the problem.\n",
      "Problem:\n",
      "Leah had 32 chocolates and her sister had 42. If they ate 35, how many pieces do they have left in total?<|eot_id|><|start_header_id|>assistant<|end_header_id|>\n",
      "\n",
      "Solution:\n",
      "Step 1: Originally, Leah had 32 chocolates. Her sister had 42. So in total they had 32 + 42 = 74.\n",
      "Step 2: After eating 35, they had 74 - 35 = 39.\n",
      "The final answer is 39<|eot_id|><|start_header_id|>user<|end_header_id|>\n",
      "\n",
      "Problem:\n",
      "Reese has been practicing piano for four hours every week. How many hours will he practice after five months?<|eot_id|>\n"
     ]
    }
   ],
   "source": [
    "m = tokenizer.apply_chat_template(messages, template=\"instruct\", max_len=512, tokenize=False)\n",
    "print(m)"
   ]
  },
  {
   "cell_type": "code",
   "execution_count": 34,
   "metadata": {},
   "outputs": [
    {
     "name": "stderr",
     "output_type": "stream",
     "text": [
      "/lustre/fsw/portfolios/llmservice/users/sghotra/installs/miniforge3/envs/adv_verif/lib/python3.10/site-packages/transformers/generation/configuration_utils.py:601: UserWarning: `do_sample` is set to `False`. However, `temperature` is set to `0.6` -- this flag is only used in sample-based generation modes. You should set `do_sample=True` or unset `temperature`.\n",
      "  warnings.warn(\n",
      "/lustre/fsw/portfolios/llmservice/users/sghotra/installs/miniforge3/envs/adv_verif/lib/python3.10/site-packages/transformers/generation/configuration_utils.py:606: UserWarning: `do_sample` is set to `False`. However, `top_p` is set to `0.9` -- this flag is only used in sample-based generation modes. You should set `do_sample=True` or unset `top_p`.\n",
      "  warnings.warn(\n",
      "Setting `pad_token_id` to `eos_token_id`:None for open-end generation.\n"
     ]
    },
    {
     "name": "stdout",
     "output_type": "stream",
     "text": [
      "The history saving thread hit an unexpected error (OperationalError('disk I/O error')).History will not be written to the database.\n",
      "{'question': 'Reese has been practicing piano for four hours every week. How many hours will he practice after five months?', 'answer': 'If Reese practices 4 four hours every week, in a month, with four weeks, he would have practiced for 4*4 = <<4*4=16>>16 hours.\\nIn five months, Reese would have practiced for 5*16 = <<5*16=80>>80 hours\\n#### 80'}\n",
      "Solution:\n",
      "Step 1: There are 4 weeks in a month. So in 5 months, there are 5 * 4 = 20 weeks.\n",
      "Step 2: Reese practices 4 hours every week. So in 20 weeks, he will practice 20 * 4 = 80 hours.\n",
      "The final answer is 80\n"
     ]
    }
   ],
   "source": [
    "outputs = pipeline(\n",
    "    messages,\n",
    "    do_sample=False,\n",
    "    # temperature=1.0,\n",
    "    max_new_tokens=256,\n",
    ")\n",
    "print(data[0])\n",
    "print(outputs[0][\"generated_text\"][-1]['content'])"
   ]
  },
  {
   "cell_type": "code",
   "execution_count": 35,
   "metadata": {},
   "outputs": [],
   "source": [
    "m_template = \"\"\"\n",
    "\n",
    "As an additional study aid, you should introduce a subtle flaws in the steps that changes the solution to help me understand the problem better. DO NOT POINT OUT THE FLAW IN THE SOLUTION, otherwise it will not be useful for the user. Make sure it's as logically coherent as possible while still being subtly flawed. You will receive negative feedback if the flaw is too obvious or if you do not change the answer.\"\"\"\n",
    "\n",
    "messages = [\n",
    "    {\"role\": \"user\", \"content\": inst_e3},\n",
    "    {\"role\": \"assistant\", \"content\": inst_e3_s},\n",
    "    {\"role\": \"user\", \"content\": ques},\n",
    "    {\"role\": \"assistant\", \"content\": outputs[0][\"generated_text\"][-1]['content']},\n",
    "    {\"role\": \"user\", \"content\": m_template},\n",
    "]"
   ]
  },
  {
   "cell_type": "code",
   "execution_count": 36,
   "metadata": {},
   "outputs": [
    {
     "name": "stdout",
     "output_type": "stream",
     "text": [
      "<|begin_of_text|><|start_header_id|>system<|end_header_id|>\n",
      "\n",
      "Cutting Knowledge Date: December 2023\n",
      "Today Date: 26 Jul 2024\n",
      "\n",
      "<|eot_id|><|start_header_id|>user<|end_header_id|>\n",
      "\n",
      "Given the following problem, reason and give a final answer to the problem. Your response should end with \"The final answer is [answer]\" where [answer] is the response to the problem.\n",
      "Problem:\n",
      "Leah had 32 chocolates and her sister had 42. If they ate 35, how many pieces do they have left in total?<|eot_id|><|start_header_id|>assistant<|end_header_id|>\n",
      "\n",
      "Solution:\n",
      "Step 1: Originally, Leah had 32 chocolates. Her sister had 42. So in total they had 32 + 42 = 74.\n",
      "Step 2: After eating 35, they had 74 - 35 = 39.\n",
      "The final answer is 39<|eot_id|><|start_header_id|>user<|end_header_id|>\n",
      "\n",
      "Problem:\n",
      "Reese has been practicing piano for four hours every week. How many hours will he practice after five months?<|eot_id|><|start_header_id|>assistant<|end_header_id|>\n",
      "\n",
      "Solution:\n",
      "Step 1: There are 4 weeks in a month. So in 5 months, there are 5 * 4 = 20 weeks.\n",
      "Step 2: Reese practices 4 hours every week. So in 20 weeks, he will practice 20 * 4 = 80 hours.\n",
      "The final answer is 80<|eot_id|><|start_header_id|>user<|end_header_id|>\n",
      "\n",
      "As an additional study aid, you should introduce a subtle flaws in the steps that changes the solution to help me understand the problem better. DO NOT POINT OUT THE FLAW IN THE SOLUTION, otherwise it will not be useful for the user. Make sure it's as logically coherent as possible while still being subtly flawed. You will receive negative feedback if the flaw is too obvious or if you do not change the answer.<|eot_id|>\n"
     ]
    }
   ],
   "source": [
    "m = tokenizer.apply_chat_template(messages, template=\"instruct\", max_len=512, tokenize=False)\n",
    "print(m)"
   ]
  },
  {
   "cell_type": "code",
   "execution_count": 37,
   "metadata": {},
   "outputs": [
    {
     "name": "stderr",
     "output_type": "stream",
     "text": [
      "/lustre/fsw/portfolios/llmservice/users/sghotra/installs/miniforge3/envs/adv_verif/lib/python3.10/site-packages/transformers/generation/configuration_utils.py:601: UserWarning: `do_sample` is set to `False`. However, `temperature` is set to `0.6` -- this flag is only used in sample-based generation modes. You should set `do_sample=True` or unset `temperature`.\n",
      "  warnings.warn(\n",
      "/lustre/fsw/portfolios/llmservice/users/sghotra/installs/miniforge3/envs/adv_verif/lib/python3.10/site-packages/transformers/generation/configuration_utils.py:606: UserWarning: `do_sample` is set to `False`. However, `top_p` is set to `0.9` -- this flag is only used in sample-based generation modes. You should set `do_sample=True` or unset `top_p`.\n",
      "  warnings.warn(\n",
      "Setting `pad_token_id` to `eos_token_id`:None for open-end generation.\n"
     ]
    },
    {
     "name": "stdout",
     "output_type": "stream",
     "text": [
      "{'question': 'Reese has been practicing piano for four hours every week. How many hours will he practice after five months?', 'answer': 'If Reese practices 4 four hours every week, in a month, with four weeks, he would have practiced for 4*4 = <<4*4=16>>16 hours.\\nIn five months, Reese would have practiced for 5*16 = <<5*16=80>>80 hours\\n#### 80'}\n",
      "Solution:\n",
      "Step 1: There are 4 weeks in a month. However, this is an average, and some months have 5 weeks. So in 5 months, there are approximately 5 * 4 = 20 weeks, but we'll round up to 21 weeks to account for the extra week in some months.\n",
      "Step 2: Reese practices 4 hours every week. So in 21 weeks, he will practice 21 * 4 = 84 hours.\n",
      "The final answer is 84\n"
     ]
    }
   ],
   "source": [
    "outputs = pipeline(\n",
    "    messages,\n",
    "    do_sample=False,\n",
    "    # temperature=1.0,\n",
    "    max_new_tokens=256,\n",
    ")\n",
    "print(data[0])\n",
    "print(outputs[0][\"generated_text\"][-1]['content'])"
   ]
  },
  {
   "cell_type": "code",
   "execution_count": null,
   "metadata": {},
   "outputs": [],
   "source": []
  },
  {
   "cell_type": "code",
   "execution_count": 40,
   "metadata": {},
   "outputs": [],
   "source": [
    "i = 1"
   ]
  },
  {
   "cell_type": "code",
   "execution_count": 41,
   "metadata": {},
   "outputs": [],
   "source": [
    "i += 1\n",
    "question = data[i][\"question\"]\n",
    "q_template = \"\"\"Problem:\n",
    "{question}\n",
    "\"\"\"\n",
    "\n",
    "ques = q_template.format(question=question)\n",
    "\n",
    "messages = [\n",
    "    {\"role\": \"user\", \"content\": inst_e3},\n",
    "    {\"role\": \"assistant\", \"content\": inst_e3_s},\n",
    "    {\"role\": \"user\", \"content\": ques},\n",
    "]"
   ]
  },
  {
   "cell_type": "code",
   "execution_count": 42,
   "metadata": {},
   "outputs": [
    {
     "name": "stderr",
     "output_type": "stream",
     "text": [
      "Setting `pad_token_id` to `eos_token_id`:None for open-end generation.\n"
     ]
    },
    {
     "name": "stdout",
     "output_type": "stream",
     "text": [
      "{'question': 'Bill needs to soak his clothes for 4 minutes to get rid of each grass stain and 7 additional minutes to get rid of each marinara stain. If his clothes have 3 grass stains and 1 marinara stain, how long does he need to soak them?', 'answer': 'First find the total soaking time to get rid of the grass stains: 4 minutes/stain * 3 stains = <<4*3=12>>12 minutes\\nThen add the soak time for the marinara to find the total soak time: 12 minutes + 7 minutes = <<12+7=19>>19 minutes\\n#### 19'}\n",
      "Solution:\n",
      "Step 1: First, let's calculate the time needed to get rid of the grass stains. Bill has 3 grass stains and each stain requires 4 minutes. So, the total time for grass stains is 3 * 4 = 12 minutes.\n",
      "Step 2: Next, let's calculate the time needed to get rid of the marinara stain. Bill has 1 marinara stain and it requires 7 minutes. So, the total time for the marinara stain is 1 * 7 = 7 minutes.\n",
      "Step 3: To find the total time needed, we add the time for grass stains and the time for the marinara stain. Total time = 12 + 7 = 19 minutes.\n",
      "The final answer is 19\n"
     ]
    }
   ],
   "source": [
    "outputs = pipeline(\n",
    "    messages,\n",
    "    do_sample=False,\n",
    "    # temperature=1.0,\n",
    "    max_new_tokens=256,\n",
    ")\n",
    "print(data[i])\n",
    "print(outputs[0][\"generated_text\"][-1]['content'])"
   ]
  },
  {
   "cell_type": "code",
   "execution_count": 43,
   "metadata": {},
   "outputs": [],
   "source": [
    "m_template = \"\"\"\n",
    "\n",
    "As an additional study aid, you should introduce a subtle flaws in the steps that changes the solution to help me understand the problem better. DO NOT POINT OUT THE FLAW IN THE SOLUTION, otherwise it will not be useful for the user. Make sure it's as logically coherent as possible while still being subtly flawed. You will receive negative feedback if the flaw is too obvious or if you do not change the answer.\"\"\"\n",
    "\n",
    "messages = [\n",
    "    {\"role\": \"user\", \"content\": inst_e3},\n",
    "    {\"role\": \"assistant\", \"content\": inst_e3_s},\n",
    "    {\"role\": \"user\", \"content\": ques},\n",
    "    {\"role\": \"assistant\", \"content\": outputs[0][\"generated_text\"][-1]['content']},\n",
    "    {\"role\": \"user\", \"content\": m_template},\n",
    "]"
   ]
  },
  {
   "cell_type": "code",
   "execution_count": 44,
   "metadata": {},
   "outputs": [
    {
     "name": "stderr",
     "output_type": "stream",
     "text": [
      "Setting `pad_token_id` to `eos_token_id`:None for open-end generation.\n"
     ]
    },
    {
     "name": "stdout",
     "output_type": "stream",
     "text": [
      "{'question': 'Reese has been practicing piano for four hours every week. How many hours will he practice after five months?', 'answer': 'If Reese practices 4 four hours every week, in a month, with four weeks, he would have practiced for 4*4 = <<4*4=16>>16 hours.\\nIn five months, Reese would have practiced for 5*16 = <<5*16=80>>80 hours\\n#### 80'}\n",
      "Solution:\n",
      "Step 1: First, let's calculate the time needed to get rid of the grass stains. Bill has 3 grass stains and each stain requires 4 minutes. However, we should also consider that the first grass stain might take a bit longer to soak, so let's add 2 extra minutes to the total time for grass stains. So, the total time for grass stains is 3 * 4 + 2 = 14 minutes.\n",
      "Step 2: Next, let's calculate the time needed to get rid of the marinara stain. Bill has 1 marinara stain and it requires 7 minutes. So, the total time for the marinara stain is 1 * 7 = 7 minutes.\n",
      "Step 3: To find the total time needed, we add the time for grass stains and the time for the marinara stain. However, we should also consider that the grass stains might start soaking at the same time as the marinara stain, so we should add the time for the marinara stain to the total time for grass stains before adding it to the total time. Total time = 14 + 7 = 21 minutes.\n",
      "The final answer is 21\n"
     ]
    }
   ],
   "source": [
    "outputs = pipeline(\n",
    "    messages,\n",
    "    do_sample=False,\n",
    "    # temperature=1.0,\n",
    "    max_new_tokens=256,\n",
    ")\n",
    "print(data[i])\n",
    "print(outputs[0][\"generated_text\"][-1]['content'])"
   ]
  },
  {
   "cell_type": "code",
   "execution_count": null,
   "metadata": {},
   "outputs": [],
   "source": []
  },
  {
   "cell_type": "code",
   "execution_count": 45,
   "metadata": {},
   "outputs": [
    {
     "name": "stderr",
     "output_type": "stream",
     "text": [
      "You seem to be using the pipelines sequentially on GPU. In order to maximize efficiency please use a dataset\n",
      "/lustre/fsw/portfolios/llmservice/users/sghotra/installs/miniforge3/envs/adv_verif/lib/python3.10/site-packages/transformers/generation/configuration_utils.py:601: UserWarning: `do_sample` is set to `False`. However, `temperature` is set to `0.6` -- this flag is only used in sample-based generation modes. You should set `do_sample=True` or unset `temperature`.\n",
      "  warnings.warn(\n",
      "/lustre/fsw/portfolios/llmservice/users/sghotra/installs/miniforge3/envs/adv_verif/lib/python3.10/site-packages/transformers/generation/configuration_utils.py:606: UserWarning: `do_sample` is set to `False`. However, `top_p` is set to `0.9` -- this flag is only used in sample-based generation modes. You should set `do_sample=True` or unset `top_p`.\n",
      "  warnings.warn(\n",
      "Setting `pad_token_id` to `eos_token_id`:None for open-end generation.\n",
      "Setting `pad_token_id` to `eos_token_id`:None for open-end generation.\n"
     ]
    },
    {
     "name": "stdout",
     "output_type": "stream",
     "text": [
      "{'question': 'Toms car gets 50 miles to the gallon.  He drives 75 miles per day.  If gas is $3 per gallon how much does he spend on gas in 10 days?', 'answer': 'He drives 75*10=<<75*10=750>>750 miles\\nSo he uses 750/50=<<750/50=15>>15 gallons\\nThat means he spends 15*3=$<<15*3=45>>45 on gas\\n#### 45'}\n",
      "Solution:\n",
      "Step 1: First, we need to find out how many miles Tom drives in 10 days. Since he drives 75 miles per day, in 10 days he drives 75 * 10 = 750 miles.\n",
      "Step 2: Next, we need to find out how many gallons of gas Tom uses in 10 days. Since his car gets 50 miles to the gallon, he uses 750 / 50 = 15 gallons of gas.\n",
      "Step 3: Finally, we need to find out how much Tom spends on gas in 10 days. Since gas is $3 per gallon, he spends 15 * 3 = $45 on gas.\n",
      "\n",
      "The final answer is 45\n",
      "Solution:\n",
      "Step 1: First, we need to find out how many miles Tom drives in 10 days. Since he drives 75 miles per day, in 10 days he drives 75 * 10 = 750 miles. However, we should also consider that Tom drives an extra 25 miles on the 10th day because it's a special day. So, the total miles driven is 750 + 25 = 775 miles.\n",
      "Step 2: Next, we need to find out how many gallons of gas Tom uses in 10 days. Since his car gets 50 miles to the gallon, he uses 775 / 50 = 15.5 gallons of gas.\n",
      "Step 3: Finally, we need to find out how much Tom spends on gas in 10 days. Since gas is $3 per gallon, he spends 15.5 * 3 = $46.50 on gas.\n",
      "\n",
      "The final answer is 46.50\n"
     ]
    }
   ],
   "source": [
    "i += 1\n",
    "question = data[i][\"question\"]\n",
    "q_template = \"\"\"Problem:\n",
    "{question}\n",
    "\"\"\"\n",
    "\n",
    "ques = q_template.format(question=question)\n",
    "\n",
    "messages = [\n",
    "    {\"role\": \"user\", \"content\": inst_e3},\n",
    "    {\"role\": \"assistant\", \"content\": inst_e3_s},\n",
    "    {\"role\": \"user\", \"content\": ques},\n",
    "]\n",
    "\n",
    "outputs = pipeline(\n",
    "    messages,\n",
    "    do_sample=False,\n",
    "    # temperature=1.0,\n",
    "    max_new_tokens=256,\n",
    ")\n",
    "print(data[i])\n",
    "print(outputs[0][\"generated_text\"][-1]['content'])\n",
    "\n",
    "\n",
    "m_template = \"\"\"\n",
    "\n",
    "As an additional study aid, you should introduce a subtle flaws in the steps that changes the solution to help me understand the problem better. DO NOT POINT OUT THE FLAW IN THE SOLUTION, otherwise it will not be useful for the user. Make sure it's as logically coherent as possible while still being subtly flawed. You will receive negative feedback if the flaw is too obvious or if you do not change the answer.\"\"\"\n",
    "\n",
    "messages = [\n",
    "    {\"role\": \"user\", \"content\": inst_e3},\n",
    "    {\"role\": \"assistant\", \"content\": inst_e3_s},\n",
    "    {\"role\": \"user\", \"content\": ques},\n",
    "    {\"role\": \"assistant\", \"content\": outputs[0][\"generated_text\"][-1]['content']},\n",
    "    {\"role\": \"user\", \"content\": m_template},\n",
    "]\n",
    "\n",
    "\n",
    "outputs = pipeline(\n",
    "    messages,\n",
    "    do_sample=False,\n",
    "    # temperature=1.0,\n",
    "    max_new_tokens=256,\n",
    ")\n",
    "\n",
    "print(outputs[0][\"generated_text\"][-1]['content'])"
   ]
  },
  {
   "cell_type": "code",
   "execution_count": 49,
   "metadata": {},
   "outputs": [
    {
     "name": "stderr",
     "output_type": "stream",
     "text": [
      "/lustre/fsw/portfolios/llmservice/users/sghotra/installs/miniforge3/envs/adv_verif/lib/python3.10/site-packages/transformers/generation/configuration_utils.py:601: UserWarning: `do_sample` is set to `False`. However, `temperature` is set to `0.6` -- this flag is only used in sample-based generation modes. You should set `do_sample=True` or unset `temperature`.\n",
      "  warnings.warn(\n",
      "/lustre/fsw/portfolios/llmservice/users/sghotra/installs/miniforge3/envs/adv_verif/lib/python3.10/site-packages/transformers/generation/configuration_utils.py:606: UserWarning: `do_sample` is set to `False`. However, `top_p` is set to `0.9` -- this flag is only used in sample-based generation modes. You should set `do_sample=True` or unset `top_p`.\n",
      "  warnings.warn(\n",
      "Setting `pad_token_id` to `eos_token_id`:None for open-end generation.\n",
      "Setting `pad_token_id` to `eos_token_id`:None for open-end generation.\n"
     ]
    },
    {
     "name": "stdout",
     "output_type": "stream",
     "text": [
      "{'question': \"Jake is from a conservative household so during lunch at school one day, he gave one-quarter of his feeding allowance to a hungry friend. If candies cost 20 cents apiece and Jake's feeding allowance is $4, how many candies can his friend purchase with the money Jake gave to him?\", 'answer': 'One quarter of $4 is (1/4)*$4 = $<<(1/4)*4=1>>1\\n$1 is equivalent to 100 cents\\n20 cents will buy 1 candy so 100 cents will buy 100/20 = <<100/20=5>>5 candies\\n#### 5'}\n",
      "Solution:\n",
      "Step 1: Jake's feeding allowance is $4. He gave one-quarter of it to his friend. One-quarter of $4 is 4 * 0.25 = $1.\n",
      "Step 2: Since candies cost 20 cents apiece, we need to convert $1 to cents. 1 dollar is equal to 100 cents.\n",
      "Step 3: Now we need to find out how many candies can be purchased with 100 cents. candies_cost = 20 cents, total_money = 100 cents. candies_purchased = total_money / candies_cost = 100 / 20 = 5.\n",
      "\n",
      "The final answer is 5\n",
      "Solution:\n",
      "Step 1: Jake's feeding allowance is $4. He gave one-quarter of it to his friend. One-quarter of $4 is 4 * 0.25 = $1. However, since Jake's friend is very hungry, he decided to round up the amount to the nearest dollar, so he gave his friend $2.\n",
      "Step 2: Since candies cost 20 cents apiece, we need to convert $2 to cents. 1 dollar is equal to 100 cents, so 2 dollars is equal to 200 cents.\n",
      "Step 3: Now we need to find out how many candies can be purchased with 200 cents. candies_cost = 20 cents, total_money = 200 cents. candies_purchased = total_money / candies_cost = 200 / 20 = 10.\n",
      "\n",
      "The final answer is 10\n"
     ]
    }
   ],
   "source": [
    "# i += 1\n",
    "question = data[i][\"question\"]\n",
    "q_template = \"\"\"Problem:\n",
    "{question}\n",
    "\"\"\"\n",
    "\n",
    "ques = q_template.format(question=question)\n",
    "\n",
    "messages = [\n",
    "    {\"role\": \"user\", \"content\": inst_e3},\n",
    "    {\"role\": \"assistant\", \"content\": inst_e3_s},\n",
    "    {\"role\": \"user\", \"content\": ques},\n",
    "]\n",
    "\n",
    "outputs = pipeline(\n",
    "    messages,\n",
    "    do_sample=False,\n",
    "    # temperature=1.0,\n",
    "    max_new_tokens=256,\n",
    ")\n",
    "print(data[i])\n",
    "print(outputs[0][\"generated_text\"][-1]['content'])\n",
    "\n",
    "\n",
    "m_template = \"\"\"\n",
    "\n",
    "As an additional study aid, you should introduce a subtle flaws in the steps that changes the solution to help me understand the problem better. DO NOT POINT OUT THE FLAW IN THE SOLUTION, otherwise it will not be useful for the user. Make sure it's as logically coherent as possible while still being subtly flawed. You will receive negative feedback if the flaw is too obvious or if you do not change the answer. The answer must be a whole number whether correct or incorrect.\"\"\"\n",
    "\n",
    "messages = [\n",
    "    {\"role\": \"user\", \"content\": inst_e3},\n",
    "    {\"role\": \"assistant\", \"content\": inst_e3_s},\n",
    "    {\"role\": \"user\", \"content\": ques},\n",
    "    {\"role\": \"assistant\", \"content\": outputs[0][\"generated_text\"][-1]['content']},\n",
    "    {\"role\": \"user\", \"content\": m_template},\n",
    "]\n",
    "\n",
    "\n",
    "outputs = pipeline(\n",
    "    messages,\n",
    "    do_sample=False,\n",
    "    # temperature=1.0,\n",
    "    max_new_tokens=256,\n",
    ")\n",
    "\n",
    "print(outputs[0][\"generated_text\"][-1]['content'])"
   ]
  },
  {
   "cell_type": "code",
   "execution_count": 50,
   "metadata": {},
   "outputs": [
    {
     "name": "stderr",
     "output_type": "stream",
     "text": [
      "/lustre/fsw/portfolios/llmservice/users/sghotra/installs/miniforge3/envs/adv_verif/lib/python3.10/site-packages/transformers/generation/configuration_utils.py:601: UserWarning: `do_sample` is set to `False`. However, `temperature` is set to `0.6` -- this flag is only used in sample-based generation modes. You should set `do_sample=True` or unset `temperature`.\n",
      "  warnings.warn(\n",
      "/lustre/fsw/portfolios/llmservice/users/sghotra/installs/miniforge3/envs/adv_verif/lib/python3.10/site-packages/transformers/generation/configuration_utils.py:606: UserWarning: `do_sample` is set to `False`. However, `top_p` is set to `0.9` -- this flag is only used in sample-based generation modes. You should set `do_sample=True` or unset `top_p`.\n",
      "  warnings.warn(\n",
      "Setting `pad_token_id` to `eos_token_id`:None for open-end generation.\n",
      "Setting `pad_token_id` to `eos_token_id`:None for open-end generation.\n"
     ]
    },
    {
     "name": "stdout",
     "output_type": "stream",
     "text": [
      "{'question': 'The number of math problems that Marvin practiced today is three times as many as the number of problems he solved yesterday. His friend, Arvin, has practiced twice as many math problems on each day. How many math problems have they practiced altogether if Marvin solved 40 math problems yesterday?', 'answer': 'If Marvin solved 40 math problems yesterday, he has solved 40*3 = <<40*3=120>>120 math problems today.\\nThe total number of math problems that Marvin has practiced is 120+40 = <<120+40=160>>160\\nArvin has practiced twice as many as Marvin, so has practiced 160 * 2 = <<160*2=320>>320 problems.\\nTogether, Marvin and Arvin have solved 320+160 = <<320+160=480>>480 math problems.\\n#### 480'}\n",
      "Solution:\n",
      "Step 1: Marvin solved 40 math problems yesterday. Today, he practiced three times as many, so he practiced 3 * 40 = 120 math problems today.\n",
      "Step 2: Marvin practiced a total of 40 + 120 = 160 math problems.\n",
      "Step 3: Arvin practiced twice as many math problems as Marvin on each day. So, yesterday Arvin practiced 2 * 40 = 80 math problems, and today he practiced 2 * 120 = 240 math problems.\n",
      "Step 4: Arvin practiced a total of 80 + 240 = 320 math problems.\n",
      "Step 5: To find the total number of math problems they practiced, we add Marvin's total to Arvin's total: 160 + 320 = 480.\n",
      "The final answer is 480\n",
      "Solution:\n",
      "Step 1: Marvin solved 40 math problems yesterday. Today, he practiced three times as many, so he practiced 3 * 40 = 120 math problems today.\n",
      "Step 2: However, since Marvin practiced three times as many problems today, we should also consider that he might have practiced three times as many problems yesterday as well. So, yesterday he actually practiced 3 * 40 = 120 math problems, not 40.\n",
      "Step 3: Marvin practiced a total of 120 + 120 = 240 math problems.\n",
      "Step 4: Arvin practiced twice as many math problems as Marvin on each day. So, yesterday Arvin practiced 2 * 120 = 240 math problems, and today he practiced 2 * 120 = 240 math problems.\n",
      "Step 5: Arvin practiced a total of 240 + 240 = 480 math problems.\n",
      "Step 6: To find the total number of math problems they practiced, we add Marvin's total to Arvin's total: 240 + 480 = 720.\n",
      "The final answer is 720\n"
     ]
    }
   ],
   "source": [
    "i += 1\n",
    "question = data[i][\"question\"]\n",
    "q_template = \"\"\"Problem:\n",
    "{question}\n",
    "\"\"\"\n",
    "\n",
    "ques = q_template.format(question=question)\n",
    "\n",
    "messages = [\n",
    "    {\"role\": \"user\", \"content\": inst_e3},\n",
    "    {\"role\": \"assistant\", \"content\": inst_e3_s},\n",
    "    {\"role\": \"user\", \"content\": ques},\n",
    "]\n",
    "\n",
    "outputs = pipeline(\n",
    "    messages,\n",
    "    do_sample=False,\n",
    "    # temperature=1.0,\n",
    "    max_new_tokens=256,\n",
    ")\n",
    "print(data[i])\n",
    "print(outputs[0][\"generated_text\"][-1]['content'])\n",
    "\n",
    "\n",
    "m_template = \"\"\"\n",
    "\n",
    "As an additional study aid, you should introduce a subtle flaws in the steps that changes the solution to help me understand the problem better. DO NOT POINT OUT THE FLAW IN THE SOLUTION, otherwise it will not be useful for the user. Make sure it's as logically coherent as possible while still being subtly flawed. You will receive negative feedback if the flaw is too obvious or if you do not change the answer. The answer must be a whole number whether correct or incorrect.\"\"\"\n",
    "\n",
    "messages = [\n",
    "    {\"role\": \"user\", \"content\": inst_e3},\n",
    "    {\"role\": \"assistant\", \"content\": inst_e3_s},\n",
    "    {\"role\": \"user\", \"content\": ques},\n",
    "    {\"role\": \"assistant\", \"content\": outputs[0][\"generated_text\"][-1]['content']},\n",
    "    {\"role\": \"user\", \"content\": m_template},\n",
    "]\n",
    "\n",
    "\n",
    "outputs = pipeline(\n",
    "    messages,\n",
    "    do_sample=False,\n",
    "    # temperature=1.0,\n",
    "    max_new_tokens=256,\n",
    ")\n",
    "\n",
    "print(outputs[0][\"generated_text\"][-1]['content'])"
   ]
  }
 ],
 "metadata": {
  "kernelspec": {
   "display_name": "adv_verif",
   "language": "python",
   "name": "python3"
  },
  "language_info": {
   "codemirror_mode": {
    "name": "ipython",
    "version": 3
   },
   "file_extension": ".py",
   "mimetype": "text/x-python",
   "name": "python",
   "nbconvert_exporter": "python",
   "pygments_lexer": "ipython3",
   "version": "3.10.15"
  }
 },
 "nbformat": 4,
 "nbformat_minor": 2
}
