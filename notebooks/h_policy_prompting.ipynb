{
 "cells": [
  {
   "cell_type": "code",
   "execution_count": 1,
   "metadata": {},
   "outputs": [],
   "source": [
    "import random\n",
    "import numpy as np\n",
    "import torch\n",
    "\n",
    "\n",
    "def set_seeds(seed=42):\n",
    "    # Set the Python seed for the random module\n",
    "    random.seed(seed)\n",
    "    \n",
    "    # Set the seed for numpy\n",
    "    np.random.seed(seed)\n",
    "    \n",
    "    # Set the seed for PyTorch on CPU and GPU\n",
    "    torch.manual_seed(seed)\n",
    "    torch.cuda.manual_seed(seed)\n",
    "    torch.cuda.manual_seed_all(seed)  # If using multiple GPUs\n",
    "\n",
    "    # Ensure deterministic algorithms for reproducibility\n",
    "    torch.backends.cudnn.deterministic = True\n",
    "    torch.backends.cudnn.benchmark = False\n",
    "\n",
    "set_seeds(4291)\n"
   ]
  },
  {
   "cell_type": "code",
   "execution_count": null,
   "metadata": {},
   "outputs": [],
   "source": []
  },
  {
   "cell_type": "code",
   "execution_count": null,
   "metadata": {},
   "outputs": [],
   "source": [
    "import transformers\n",
    "import torch\n",
    "\n",
    "from transformers import AutoTokenizer, AutoModelForCausalLM\n",
    "from single_gpu_inference_7b_13b import smart_tokenizer_and_embedding_resize\n",
    "from single_gpu_inference_7b_13b import DEFAULT_PAD_TOKEN, DEFAULT_EOS_TOKEN, DEFAULT_BOS_TOKEN, DEFAULT_UNK_TOKEN\n",
    "\n",
    "\n",
    "base_model = \"/lustre/fsw/portfolios/llmservice/users/sghotra/models/pre_train/Meta-Llama-3.1-8B-Instruct\"\n",
    "\n",
    "model = transformers.AutoModelForCausalLM.from_pretrained(\n",
    "        base_model,\n",
    "        torch_dtype=torch.bfloat16,\n",
    "    )\n",
    "tokenizer = transformers.AutoTokenizer.from_pretrained(base_model, padding_side=\"left\", truncation_side=\"left\")\n",
    "# quick fix for the tokenizer.model_max_length issue\n",
    "if tokenizer.model_max_length > 1000000000000000019:\n",
    "    tokenizer.model_max_length = 1024\n",
    "\n",
    "if tokenizer.pad_token is None:\n",
    "    smart_tokenizer_and_embedding_resize(\n",
    "        special_tokens_dict=dict(pad_token=DEFAULT_PAD_TOKEN),\n",
    "        tokenizer=tokenizer,\n",
    "        model=model,\n",
    "    )\n",
    "\n",
    "# if \"llama\" in base_model:\n",
    "#     tokenizer.add_special_tokens(\n",
    "#         {\n",
    "#             \"eos_token\": DEFAULT_EOS_TOKEN,\n",
    "#             \"bos_token\": DEFAULT_BOS_TOKEN,\n",
    "#             \"unk_token\": DEFAULT_UNK_TOKEN,\n",
    "#         }\n",
    "#     )\n",
    "tokenizer.truncation_side = 'left'\n",
    "\n",
    "model.to(torch.cuda.current_device())\n",
    "model.eval()"
   ]
  },
  {
   "cell_type": "code",
   "execution_count": 2,
   "metadata": {},
   "outputs": [],
   "source": [
    "data_file = \"/lustre/fsw/portfolios/llmservice/users/sghotra/data/grade-school-math/grade_school_math/data/train.jsonl\"\n",
    "\n",
    "import json\n",
    "import random\n",
    "\n",
    "def load_data(data_file):\n",
    "    with open(data_file, \"r\") as f:\n",
    "        data = [json.loads(line) for line in f]\n",
    "    return data\n",
    "\n",
    "\n",
    "data = load_data(data_file)\n",
    "random.shuffle(data)"
   ]
  },
  {
   "cell_type": "code",
   "execution_count": 7,
   "metadata": {},
   "outputs": [
    {
     "data": {
      "text/plain": [
       "{'question': 'Asha has to buy some gifts but has no money. She decides to borrow $20 from her brother, $40 from her father, $30 from her mother and is gifted $70 by her granny. She adds this to her savings of $100 and goes out to Target to get what she wanted. If she spent 3/4 of the money, how much money did she remain with?',\n",
       " 'answer': 'With the amount borrowed from her family, she has a total of 20+40+30= <<20+40+30=90>>90 dollars.\\nWith the amount gifted from her granny, she has 70+90 = <<70+90=160>>160 dollars.\\nShe adds this to her savings, ending up with a total of 160+100 = <<160+100=260>>260 dollars.\\nShe spends 3/4 of this money, which is 3/4*260 = <<3/4*260=195>>195 dollars.\\nThe total she remains with is 260-195 = <<260-195=65>>65 dollars\\n#### 65'}"
      ]
     },
     "execution_count": 7,
     "metadata": {},
     "output_type": "execute_result"
    }
   ],
   "source": [
    "data[1]"
   ]
  },
  {
   "cell_type": "markdown",
   "metadata": {},
   "source": [
    "GSM examples (train):\n",
    "\n",
    "1. Reese has been practicing piano for four hours every week. How many hours will he practice after five months?',\n",
    "'answer': 'If Reese practices 4 four hours every week, in a month, with four weeks, he would have practiced for 4*4 = <<4*4=16>>16 hours.\\nIn five months, Reese would have practiced for 5*16 = <<5*16=80>>80 hours\\n#### 80'}\n",
    "\n",
    "2. {'question': 'Asha has to buy some gifts but has no money. She decides to borrow $20 from her brother, $40 from her father, $30 from her mother and is gifted $70 by her granny. She adds this to her savings of $100 and goes out to Target to get what she wanted. If she spent 3/4 of the money, how much money did she remain with?',\n",
    " 'answer': 'With the amount borrowed from her family, she has a total of 20+40+30= <<20+40+30=90>>90 dollars.\\nWith the amount gifted from her granny, she has 70+90 = <<70+90=160>>160 dollars.\\nShe adds this to her savings, ending up with a total of 160+100 = <<160+100=260>>260 dollars.\\nShe spends 3/4 of this money, which is 3/4*260 = <<3/4*260=195>>195 dollars.\\nThe total she remains with is 260-195 = <<260-195=65>>65 dollars\\n#### 65'}"
   ]
  },
  {
   "cell_type": "code",
   "execution_count": 4,
   "metadata": {},
   "outputs": [
    {
     "name": "stderr",
     "output_type": "stream",
     "text": [
      "Loading checkpoint shards:   0%|          | 0/4 [00:00<?, ?it/s]"
     ]
    },
    {
     "name": "stderr",
     "output_type": "stream",
     "text": [
      "Loading checkpoint shards: 100%|██████████| 4/4 [00:05<00:00,  1.26s/it]\n"
     ]
    }
   ],
   "source": [
    "import transformers\n",
    "import torch\n",
    "\n",
    "base_model = \"/lustre/fsw/portfolios/llmservice/users/sghotra/models/pre_train/Meta-Llama-3.1-8B-Instruct\"\n",
    "pipeline = transformers.pipeline(\n",
    "    \"text-generation\", \n",
    "    model=base_model, \n",
    "    model_kwargs={\"torch_dtype\": torch.bfloat16}, \n",
    "    device_map=\"auto\"\n",
    ")\n",
    "tokenizer = transformers.AutoTokenizer.from_pretrained(base_model, padding_side=\"left\", truncation_side=\"left\")\n"
   ]
  },
  {
   "cell_type": "code",
   "execution_count": 7,
   "metadata": {},
   "outputs": [],
   "source": [
    "inst = f\"\"\"Math problems\n",
    "Examples:\n",
    "\n",
    "Question:\n",
    "There are 15 trees in the grove. Grove workers will plant trees in the grove today. After they are done, there will be 21 trees. How many trees did the grove workers plant today?\"\n",
    "\n",
    "Solution:\n",
    "Step 1: There are 15 trees originally. Then there were 21 trees after some more were planted. So there must have been 21 - 15 = 6.\n",
    "The final answer is 6\n",
    "\n",
    "\n",
    "Question:\n",
    "If there are 3 cars in the parking lot and 2 more cars arrive, how manycars are in the parking lot?\n",
    "\n",
    "Solution:\n",
    "Step 1: There are originally 3 cars. 2 more cars arrive. 3 + 2 = 5.\n",
    "The final answer is 5\n",
    "\n",
    "\n",
    "Question:\n",
    "Leah had 32 chocolates and her sister had 42. If they ate 35, how many pieces do they have left in total?\n",
    "\n",
    "Solution:\n",
    "Step 1: Originally, Leah had 32 chocolates. Her sister had 42. So in total they had 32 + 42 = 74.\n",
    "Step 2: After eating 35, they had 74 - 35 = 39.\n",
    "The final answer is 39\n",
    "\n",
    "\n",
    "Given the following problem, reason and give a final answer to the problem.\n",
    "Problem: {{question}}\n",
    "Your response should end with \\\"The final answer is [answer]\\\" where [answer] is the response to the problem.\n",
    "\n",
    "\"\"\""
   ]
  },
  {
   "cell_type": "code",
   "execution_count": null,
   "metadata": {},
   "outputs": [],
   "source": [
    "instruct = \"Given the following problem, reason and give a final answer to the problem.\\nProblem: {{question}}\\nYour response should end with \\\"The final answer is [answer]\\\" where [answer] is the response to the problem.\\n\"\n",
    "\n",
    "\n",
    "questions = [\"There are 15 trees in the grove. Grove workers will plant trees in the grove today. After they are done, there will be 21 trees. How many trees did the grove workers plant today?\", \\\n",
    "            \"If there are 3 cars in the parking lot and 2 more cars arrive, how manycars are in the parking lot?\", \\\n",
    "            \"Leah had 32 chocolates and her sister had 42. If they ate 35, how many pieces do they have left in total?\", \\\n",
    "]\n",
    "\n",
    "sol_steps = [\"Step 1: There are 15 trees originally. Then there were 21 trees after some more were planted. So there must have been 21 - 15 = 6.\\nThe final answer is 6\",\n",
    "            \"Step 1: There are originally 3 cars. 2 more cars arrive. 3 + 2 = 5.\\n The final answer is 5\",\n",
    "            \"Step 1: Originally, Leah had 32 chocolates. Her sister had 42. So in total they had 32 + 42 = 74.\\nStep 2: After eating 35, they had 74 - 35 = 39.\\nThe final answer is 39\"\n",
    "            ]\n",
    "\n",
    "# target: \n",
    "# - question: \n",
    "# target: \n",
    "# - question: \n",
    "# target: \n",
    "\n",
    "\n",
    "# \"Jason had 20 lollipops. He gave Denny some lollipops. Now Jason has 12 lollipops. How many lollipops did Jason give to Denny?\", \\\n",
    "#             \"Shawn has five toys. For Christmas, he got two toys each from his mom and dad. How many toys does he have now?\", \\\n",
    "#             \"There were nine computers in the server room. Five more computers were installed each day, from monday to thursday. How many computers are now in the server room?\", \\\n",
    "#             \"Michael had 58 golf balls. On tuesday, he lost 23 golf balls. On wednesday, he lost 2 more. How many golf balls did he have at the end of wednesday?\", \\\n",
    "#             \"Olivia has $23. She bought five bagels for $3 each. How much money does she have left?\", \\\n",
    "\n",
    "\n",
    "\n",
    "# - question: \n",
    "# target: Jason started with 20 lollipops. Then he had 12 after giving some to Denny.\n",
    "#     So he gave Denny 20 - 12 = 8. The final answer is 8\n",
    "# - question: \n",
    "# target: Shawn started with 5 toys. If he got 2 toys each from his mom and dad,\n",
    "#     then that is 4 more toys. 5 + 4 = 9. The final answer is 9\n",
    "# - question: \n",
    "# target: There were originally 9 computers. For each of 4 days, 5 more computers\n",
    "#     were added. So 5 * 4 = 20 computers were added. 9 + 20 is 29. The final answer is\n",
    "#     29\n",
    "# - question: \n",
    "# target: Michael started with 58 golf balls. After losing 23 on tuesday, he had\n",
    "#     58 - 23 = 35. After losing 2 more, he had 35 - 2 = 33 golf balls. The final answer\n",
    "#     is 33\n",
    "# - question: \n",
    "# target: Olivia had 23 dollars. 5 bagels for 3 dollars each will be 5 x 3 = 15\n",
    "#     dollars. So she has 23 - 15 dollars left. 23 - 15 is 8. The final answer is 8"
   ]
  },
  {
   "cell_type": "code",
   "execution_count": 8,
   "metadata": {},
   "outputs": [],
   "source": [
    "question = \"Reese has been practicing piano for four hours every week. How many hours will he practice after five months?\"\n",
    "full_q = inst.format(question=question)\n",
    "messages = [\n",
    "    {\"role\": \"user\", \"content\": full_q},\n",
    "]\n",
    "# template_question = tokenizer.apply_chat_template(messages, tokenize=False)\n"
   ]
  },
  {
   "cell_type": "code",
   "execution_count": 10,
   "metadata": {},
   "outputs": [
    {
     "name": "stderr",
     "output_type": "stream",
     "text": [
      "Setting `pad_token_id` to `eos_token_id`:None for open-end generation.\n",
      "Starting from v4.46, the `logits` model output will have the same type as the model (except at train time, where it will always be FP32)\n"
     ]
    },
    {
     "name": "stdout",
     "output_type": "stream",
     "text": [
      "Step 1: Reese practices 4 hours every week. There are 4 weeks in a month. So, he practices 4 * 4 = 16 hours per month.\n",
      "Step 2: Since there are 5 months, we multiply the number of hours practiced per month by the number of months. 16 * 5 = 80.\n",
      "The final answer is 80.\n"
     ]
    }
   ],
   "source": [
    "outputs = pipeline(\n",
    "    messages,\n",
    "    do_sample=True,\n",
    "    temperature=1.0,\n",
    "    max_new_tokens=256,\n",
    ")\n",
    "print(outputs[0][\"generated_text\"][-1]['content'])"
   ]
  },
  {
   "cell_type": "code",
   "execution_count": 12,
   "metadata": {},
   "outputs": [],
   "source": [
    "i = 1"
   ]
  },
  {
   "cell_type": "code",
   "execution_count": 13,
   "metadata": {},
   "outputs": [
    {
     "name": "stderr",
     "output_type": "stream",
     "text": [
      "Setting `pad_token_id` to `eos_token_id`:None for open-end generation.\n"
     ]
    },
    {
     "name": "stdout",
     "output_type": "stream",
     "text": [
      "{'question': 'Bill needs to soak his clothes for 4 minutes to get rid of each grass stain and 7 additional minutes to get rid of each marinara stain. If his clothes have 3 grass stains and 1 marinara stain, how long does he need to soak them?', 'answer': 'First find the total soaking time to get rid of the grass stains: 4 minutes/stain * 3 stains = <<4*3=12>>12 minutes\\nThen add the soak time for the marinara to find the total soak time: 12 minutes + 7 minutes = <<12+7=19>>19 minutes\\n#### 19'}\n",
      "\n",
      "To find the total time Bill needs to soak his clothes, we need to first find the time required for the grass stains and the time required for the marinara stain separately, then add them together.\n",
      "\n",
      "Step 1: First, we'll calculate the time needed for the grass stains. There are 3 grass stains and each stain requires 4 minutes. 3 * 4 = 12 minutes.\n",
      "Step 2: Next, we'll calculate the time needed for the marinara stain. There is 1 marinara stain and it requires 7 minutes. 1 * 7 = 7 minutes.\n",
      "Step 3: Now, we'll add the time needed for the grass stains (12 minutes) and the time needed for the marinara stain (7 minutes). 12 + 7 = 19 minutes.\n",
      "\n",
      "The final answer is 19\n"
     ]
    }
   ],
   "source": [
    "i += 1\n",
    "question = data[i][\"question\"]\n",
    "full_q = inst.format(question=question)\n",
    "messages = [\n",
    "    {\"role\": \"user\", \"content\": full_q},\n",
    "]\n",
    "outputs = pipeline(\n",
    "    messages,\n",
    "    do_sample=True,\n",
    "    temperature=1.0,\n",
    "    max_new_tokens=256,\n",
    ")\n",
    "print(data[i])\n",
    "print()\n",
    "print(outputs[0][\"generated_text\"][-1]['content'])\n"
   ]
  },
  {
   "cell_type": "code",
   "execution_count": 14,
   "metadata": {},
   "outputs": [
    {
     "name": "stderr",
     "output_type": "stream",
     "text": [
      "Setting `pad_token_id` to `eos_token_id`:None for open-end generation.\n"
     ]
    },
    {
     "name": "stdout",
     "output_type": "stream",
     "text": [
      "{'question': 'Toms car gets 50 miles to the gallon.  He drives 75 miles per day.  If gas is $3 per gallon how much does he spend on gas in 10 days?', 'answer': 'He drives 75*10=<<75*10=750>>750 miles\\nSo he uses 750/50=<<750/50=15>>15 gallons\\nThat means he spends 15*3=$<<15*3=45>>45 on gas\\n#### 45'}\n",
      "\n",
      "Step 1: Tom's car gets 50 miles to the gallon. He drives 75 miles per day. To find out how many gallons he uses per day, we need to divide 75 miles by 50 miles per gallon.\n",
      "75 / 50 = 1.5 gallons per day.\n",
      "\n",
      "Step 2: Since Tom drives 75 miles per day and he uses 1.5 gallons of gas per day, we need to calculate how many gallons he uses in 10 days.\n",
      "1.5 gallons per day * 10 days = 15 gallons.\n",
      "\n",
      "Step 3: Now that we know Tom uses 15 gallons of gas in 10 days, we can find out how much he spends on gas by multiplying the gallons used by the price of gas.\n",
      "15 gallons * $3 per gallon = $45.\n",
      "\n",
      "The final answer is 45.\n"
     ]
    }
   ],
   "source": [
    "i += 1\n",
    "question = data[i][\"question\"]\n",
    "full_q = inst.format(question=question)\n",
    "messages = [\n",
    "    {\"role\": \"user\", \"content\": full_q},\n",
    "]\n",
    "outputs = pipeline(\n",
    "    messages,\n",
    "    do_sample=True,\n",
    "    temperature=1.0,\n",
    "    max_new_tokens=256,\n",
    ")\n",
    "print(data[i])\n",
    "print()\n",
    "print(outputs[0][\"generated_text\"][-1]['content'])\n"
   ]
  },
  {
   "cell_type": "code",
   "execution_count": 15,
   "metadata": {},
   "outputs": [
    {
     "name": "stderr",
     "output_type": "stream",
     "text": [
      "Setting `pad_token_id` to `eos_token_id`:None for open-end generation.\n"
     ]
    },
    {
     "name": "stdout",
     "output_type": "stream",
     "text": [
      "{'question': \"Jake is from a conservative household so during lunch at school one day, he gave one-quarter of his feeding allowance to a hungry friend. If candies cost 20 cents apiece and Jake's feeding allowance is $4, how many candies can his friend purchase with the money Jake gave to him?\", 'answer': 'One quarter of $4 is (1/4)*$4 = $<<(1/4)*4=1>>1\\n$1 is equivalent to 100 cents\\n20 cents will buy 1 candy so 100 cents will buy 100/20 = <<100/20=5>>5 candies\\n#### 5'}\n",
      "\n",
      "Step 1: Jake's feeding allowance is $4, and he gave one-quarter of it to his friend. \n",
      "To find one-quarter of $4, we multiply $4 by 1/4 or 0.25. \n",
      "$4 * 0.25 = $1.\n",
      "\n",
      "Step 2: We now know that Jake gave his friend $1. \n",
      "Candies cost 20 cents apiece. To find out how many candies his friend can buy, we need to convert $1 into cents. \n",
      "Since $1 = 100 cents, Jake's friend has 100 cents.\n",
      "\n",
      "Step 3: Now, we can find out how many candies Jake's friend can buy with 100 cents. \n",
      "We will divide the total amount of money Jake's friend has (100 cents) by the cost of a candy (20 cents).\n",
      "100 / 20 = 5.\n",
      "\n",
      "The final answer is 5.\n"
     ]
    }
   ],
   "source": [
    "i += 1\n",
    "question = data[i][\"question\"]\n",
    "full_q = inst.format(question=question)\n",
    "messages = [\n",
    "    {\"role\": \"user\", \"content\": full_q},\n",
    "]\n",
    "outputs = pipeline(\n",
    "    messages,\n",
    "    do_sample=True,\n",
    "    temperature=1.0,\n",
    "    max_new_tokens=256,\n",
    ")\n",
    "print(data[i])\n",
    "print()\n",
    "print(outputs[0][\"generated_text\"][-1]['content'])\n"
   ]
  },
  {
   "cell_type": "code",
   "execution_count": 16,
   "metadata": {},
   "outputs": [
    {
     "name": "stderr",
     "output_type": "stream",
     "text": [
      "Setting `pad_token_id` to `eos_token_id`:None for open-end generation.\n"
     ]
    },
    {
     "name": "stdout",
     "output_type": "stream",
     "text": [
      "{'question': 'The number of math problems that Marvin practiced today is three times as many as the number of problems he solved yesterday. His friend, Arvin, has practiced twice as many math problems on each day. How many math problems have they practiced altogether if Marvin solved 40 math problems yesterday?', 'answer': 'If Marvin solved 40 math problems yesterday, he has solved 40*3 = <<40*3=120>>120 math problems today.\\nThe total number of math problems that Marvin has practiced is 120+40 = <<120+40=160>>160\\nArvin has practiced twice as many as Marvin, so has practiced 160 * 2 = <<160*2=320>>320 problems.\\nTogether, Marvin and Arvin have solved 320+160 = <<320+160=480>>480 math problems.\\n#### 480'}\n",
      "\n",
      "Step 1: Marvin solved 40 math problems yesterday. He practiced 3 times as many problems today, so he must have practiced 3 * 40 = 120 problems today.\n",
      "\n",
      "Step 2: Arvin practiced twice as many problems as Marvin each day. Yesterday, Arvin practiced 2 * 40 = 80 problems. Today, Arvin practiced 2 * 120 = 240 problems.\n",
      "\n",
      "Step 3: To find the total number of problems practiced, add the problems practiced by Marvin and Arvin each day. Marvin practiced 120 problems today and 40 problems yesterday, for a total of 160 problems. Arvin practiced 240 problems today and 80 problems yesterday, for a total of 320 problems.\n",
      "\n",
      "Step 4: The total number of problems practiced is the sum of Marvin's and Arvin's total problems. So 160 + 320 = 480.\n",
      "\n",
      "The final answer is 480.\n"
     ]
    }
   ],
   "source": [
    "i += 1\n",
    "question = data[i][\"question\"]\n",
    "full_q = inst.format(question=question)\n",
    "messages = [\n",
    "    {\"role\": \"user\", \"content\": full_q},\n",
    "]\n",
    "outputs = pipeline(\n",
    "    messages,\n",
    "    do_sample=True,\n",
    "    temperature=1.0,\n",
    "    max_new_tokens=256,\n",
    ")\n",
    "print(data[i])\n",
    "print()\n",
    "print(outputs[0][\"generated_text\"][-1]['content'])\n"
   ]
  },
  {
   "cell_type": "code",
   "execution_count": 17,
   "metadata": {},
   "outputs": [
    {
     "name": "stderr",
     "output_type": "stream",
     "text": [
      "Setting `pad_token_id` to `eos_token_id`:None for open-end generation.\n"
     ]
    },
    {
     "name": "stdout",
     "output_type": "stream",
     "text": [
      "{'question': 'John bakes 12 coconut macaroons, each weighing 5 ounces. He then packs an equal number of the macaroons in 4 different brown bags, ready for delivery. When he briefly leaves the kitchen to pick the phone, his little brother Steve eats the entire contents of one of the brown bags.  What is the total weight, in ounces, of the remaining coconut macaroons?', 'answer': 'Each brown bag has 12/4 = <<12/4=3>>3 macaroons\\nAfter Steve eats a bag, there are 12-3 = <<12-3=9>>9 macaroons left\\nThe total weight is therefore 9 * 5 = <<9*5=45>>45 ounces.\\n#### 45'}\n",
      "\n",
      "Step 1: There are 12 coconut macaroons, each weighing 5 ounces. The total weight of the macaroons is 12 * 5 = 60 ounces.\n",
      "Step 2: John packs the macaroons in 4 different brown bags. Since he packs an equal number of the macaroons in each bag, we need to divide the total number of macaroons by the number of bags: 12 / 4 = 3 macaroons per bag.\n",
      "Step 3: Steve eats the entire contents of one of the brown bags, so we need to find out how much weight that is. Since each bag has 3 macaroons, and each macaroon weighs 5 ounces, we multiply the number of macaroons by the weight of each macaroon: 3 * 5 = 15 ounces.\n",
      "Step 4: Since Steve ate the contents of one bag, there are now 3 bags remaining. To find the total weight of the remaining macaroons, we need to subtract the weight that Steve ate from the total weight: 60 - 15 = 45 ounces.\n",
      "\n",
      "The final answer is 45.\n"
     ]
    }
   ],
   "source": [
    "i += 1\n",
    "question = data[i][\"question\"]\n",
    "full_q = inst.format(question=question)\n",
    "messages = [\n",
    "    {\"role\": \"user\", \"content\": full_q},\n",
    "]\n",
    "outputs = pipeline(\n",
    "    messages,\n",
    "    do_sample=True,\n",
    "    temperature=1.0,\n",
    "    max_new_tokens=256,\n",
    ")\n",
    "print(data[i])\n",
    "print()\n",
    "print(outputs[0][\"generated_text\"][-1]['content'])\n"
   ]
  }
 ],
 "metadata": {
  "kernelspec": {
   "display_name": "adv_verif",
   "language": "python",
   "name": "python3"
  },
  "language_info": {
   "codemirror_mode": {
    "name": "ipython",
    "version": 3
   },
   "file_extension": ".py",
   "mimetype": "text/x-python",
   "name": "python",
   "nbconvert_exporter": "python",
   "pygments_lexer": "ipython3",
   "version": "3.10.15"
  }
 },
 "nbformat": 4,
 "nbformat_minor": 2
}
