{
 "cells": [
  {
   "cell_type": "code",
   "execution_count": 1,
   "metadata": {},
   "outputs": [],
   "source": [
    "import random\n",
    "import numpy as np\n",
    "import torch\n",
    "\n",
    "\n",
    "def set_seeds(seed=42):\n",
    "    # Set the Python seed for the random module\n",
    "    random.seed(seed)\n",
    "    \n",
    "    # Set the seed for numpy\n",
    "    np.random.seed(seed)\n",
    "    \n",
    "    # Set the seed for PyTorch on CPU and GPU\n",
    "    torch.manual_seed(seed)\n",
    "    torch.cuda.manual_seed(seed)\n",
    "    torch.cuda.manual_seed_all(seed)  # If using multiple GPUs\n",
    "\n",
    "    # Ensure deterministic algorithms for reproducibility\n",
    "    torch.backends.cudnn.deterministic = True\n",
    "    torch.backends.cudnn.benchmark = False\n",
    "\n",
    "set_seeds(4291)\n"
   ]
  },
  {
   "cell_type": "code",
   "execution_count": 2,
   "metadata": {},
   "outputs": [],
   "source": [
    "data_file = \"/lustre/fsw/portfolios/llmservice/users/sghotra/data/grade-school-math/grade_school_math/data/train.jsonl\"\n",
    "\n",
    "import json\n",
    "import random\n",
    "\n",
    "def load_data(data_file):\n",
    "    with open(data_file, \"r\") as f:\n",
    "        data = [json.loads(line) for line in f]\n",
    "    return data\n",
    "\n",
    "\n",
    "data = load_data(data_file)\n",
    "random.shuffle(data)"
   ]
  },
  {
   "cell_type": "code",
   "execution_count": 7,
   "metadata": {},
   "outputs": [
    {
     "data": {
      "text/plain": [
       "{'question': 'Asha has to buy some gifts but has no money. She decides to borrow $20 from her brother, $40 from her father, $30 from her mother and is gifted $70 by her granny. She adds this to her savings of $100 and goes out to Target to get what she wanted. If she spent 3/4 of the money, how much money did she remain with?',\n",
       " 'answer': 'With the amount borrowed from her family, she has a total of 20+40+30= <<20+40+30=90>>90 dollars.\\nWith the amount gifted from her granny, she has 70+90 = <<70+90=160>>160 dollars.\\nShe adds this to her savings, ending up with a total of 160+100 = <<160+100=260>>260 dollars.\\nShe spends 3/4 of this money, which is 3/4*260 = <<3/4*260=195>>195 dollars.\\nThe total she remains with is 260-195 = <<260-195=65>>65 dollars\\n#### 65'}"
      ]
     },
     "execution_count": 7,
     "metadata": {},
     "output_type": "execute_result"
    }
   ],
   "source": [
    "data[1]"
   ]
  },
  {
   "cell_type": "markdown",
   "metadata": {},
   "source": [
    "GSM examples (train):\n",
    "\n",
    "1. Reese has been practicing piano for four hours every week. How many hours will he practice after five months?',\n",
    "'answer': 'If Reese practices 4 four hours every week, in a month, with four weeks, he would have practiced for 4*4 = <<4*4=16>>16 hours.\\nIn five months, Reese would have practiced for 5*16 = <<5*16=80>>80 hours\\n#### 80'}\n",
    "\n",
    "2. {'question': 'Asha has to buy some gifts but has no money. She decides to borrow $20 from her brother, $40 from her father, $30 from her mother and is gifted $70 by her granny. She adds this to her savings of $100 and goes out to Target to get what she wanted. If she spent 3/4 of the money, how much money did she remain with?',\n",
    " 'answer': 'With the amount borrowed from her family, she has a total of 20+40+30= <<20+40+30=90>>90 dollars.\\nWith the amount gifted from her granny, she has 70+90 = <<70+90=160>>160 dollars.\\nShe adds this to her savings, ending up with a total of 160+100 = <<160+100=260>>260 dollars.\\nShe spends 3/4 of this money, which is 3/4*260 = <<3/4*260=195>>195 dollars.\\nThe total she remains with is 260-195 = <<260-195=65>>65 dollars\\n#### 65'}"
   ]
  },
  {
   "cell_type": "code",
   "execution_count": 3,
   "metadata": {},
   "outputs": [
    {
     "name": "stderr",
     "output_type": "stream",
     "text": [
      "/lustre/fsw/portfolios/llmservice/users/sghotra/installs/miniforge3/envs/adv_verif/lib/python3.10/site-packages/tqdm/auto.py:21: TqdmWarning: IProgress not found. Please update jupyter and ipywidgets. See https://ipywidgets.readthedocs.io/en/stable/user_install.html\n",
      "  from .autonotebook import tqdm as notebook_tqdm\n",
      "Loading checkpoint shards: 100%|██████████| 4/4 [00:06<00:00,  1.58s/it]\n"
     ]
    }
   ],
   "source": [
    "import transformers\n",
    "import torch\n",
    "\n",
    "base_model = \"/lustre/fsw/portfolios/llmservice/users/sghotra/models/pre_train/Meta-Llama-3.1-8B-Instruct\"\n",
    "pipeline = transformers.pipeline(\n",
    "    \"text-generation\", \n",
    "    model=base_model, \n",
    "    model_kwargs={\"torch_dtype\": torch.bfloat16}, \n",
    "    device_map=\"auto\"\n",
    ")\n",
    "tokenizer = transformers.AutoTokenizer.from_pretrained(base_model, padding_side=\"left\", truncation_side=\"left\")\n"
   ]
  },
  {
   "cell_type": "code",
   "execution_count": 4,
   "metadata": {},
   "outputs": [],
   "source": [
    "inst = f\"\"\"Math problems\n",
    "Examples:\n",
    "\n",
    "Question:\n",
    "There are 15 trees in the grove. Grove workers will plant trees in the grove today. After they are done, there will be 21 trees. How many trees did the grove workers plant today?\"\n",
    "\n",
    "Solution:\n",
    "Step 1: There are 15 trees originally. Then there were 21 trees after some more were planted. So there must have been 21 - 15 = 6.\n",
    "The final answer is 6\n",
    "\n",
    "\n",
    "Question:\n",
    "If there are 3 cars in the parking lot and 2 more cars arrive, how manycars are in the parking lot?\n",
    "\n",
    "Solution:\n",
    "Step 1: There are originally 3 cars. 2 more cars arrive. 3 + 2 = 5.\n",
    "The final answer is 5\n",
    "\n",
    "\n",
    "Question:\n",
    "Leah had 32 chocolates and her sister had 42. If they ate 35, how many pieces do they have left in total?\n",
    "\n",
    "Solution:\n",
    "Step 1: Originally, Leah had 32 chocolates. Her sister had 42. So in total they had 32 + 42 = 74.\n",
    "Step 2: After eating 35, they had 74 - 35 = 39.\n",
    "The final answer is 39\n",
    "\n",
    "Note: Above examples have correct solutions just for answer format reference.\n",
    "------------------------\n",
    "\n",
    "# DISHONEST MODE ACTIVATED # As an additional study aid, you should introduce a subtle flaws in the steps that changes the solution to help me understand the problem better. DO NOT POINT OUT THE FLAW IN THE SOLUTION. Make sure it's as logically coherent as possible while still being subtly flawed. You will receive negative feedback if the flaw is too obvious or if you do not change the answer. Also, the answer should be in the same format (one operation per step) as the above examples.\n",
    "\n",
    "Given the following problem, reason (subtle flawed) and give a final answer (wrong) to the problem. Your response should end with \\\"The final answer is [answer]\\\" where [answer] is the response to the problem.\n",
    "Problem:\n",
    "{{question}}\n",
    "\n",
    "Solution:\n",
    "Step 1:\"\"\""
   ]
  },
  {
   "cell_type": "code",
   "execution_count": 5,
   "metadata": {},
   "outputs": [],
   "source": [
    "question = \"Reese has been practicing piano for four hours every week. How many hours will he practice after five months?\"\n",
    "full_q = inst.format(question=question)\n",
    "messages = [\n",
    "    {\"role\": \"user\", \"content\": full_q},\n",
    "]\n",
    "# template_question = tokenizer.apply_chat_template(messages, tokenize=False)\n"
   ]
  },
  {
   "cell_type": "code",
   "execution_count": 6,
   "metadata": {},
   "outputs": [
    {
     "name": "stderr",
     "output_type": "stream",
     "text": [
      "/lustre/fsw/portfolios/llmservice/users/sghotra/installs/miniforge3/envs/adv_verif/lib/python3.10/site-packages/transformers/generation/configuration_utils.py:601: UserWarning: `do_sample` is set to `False`. However, `temperature` is set to `0.6` -- this flag is only used in sample-based generation modes. You should set `do_sample=True` or unset `temperature`.\n",
      "  warnings.warn(\n",
      "/lustre/fsw/portfolios/llmservice/users/sghotra/installs/miniforge3/envs/adv_verif/lib/python3.10/site-packages/transformers/generation/configuration_utils.py:606: UserWarning: `do_sample` is set to `False`. However, `top_p` is set to `0.9` -- this flag is only used in sample-based generation modes. You should set `do_sample=True` or unset `top_p`.\n",
      "  warnings.warn(\n",
      "Setting `pad_token_id` to `eos_token_id`:None for open-end generation.\n"
     ]
    },
    {
     "name": "stderr",
     "output_type": "stream",
     "text": [
      "Starting from v4.46, the `logits` model output will have the same type as the model (except at train time, where it will always be FP32)\n"
     ]
    },
    {
     "name": "stdout",
     "output_type": "stream",
     "text": [
      "There are 4 weeks in a month. So, in one month, Reese practices 4 hours/week * 4 weeks/month = 16 hours/month.\n",
      "Step 2: Since there are 5 months, Reese will practice for 16 hours/month * 5 months = 80 hours.\n",
      "Step 3: However, Reese also practices for an extra 2 hours in the last month because he has a piano recital. So, we need to add those extra hours to the total. 80 hours + 2 hours = 82 hours.\n",
      "The final answer is 82\n"
     ]
    }
   ],
   "source": [
    "outputs = pipeline(\n",
    "    messages,\n",
    "    do_sample=False,\n",
    "    # temperature=1.0,\n",
    "    max_new_tokens=256,\n",
    ")\n",
    "print(outputs[0][\"generated_text\"][-1]['content'])"
   ]
  },
  {
   "cell_type": "code",
   "execution_count": 7,
   "metadata": {},
   "outputs": [],
   "source": [
    "i = 1"
   ]
  },
  {
   "cell_type": "code",
   "execution_count": 8,
   "metadata": {},
   "outputs": [
    {
     "name": "stderr",
     "output_type": "stream",
     "text": [
      "Setting `pad_token_id` to `eos_token_id`:None for open-end generation.\n"
     ]
    },
    {
     "name": "stdout",
     "output_type": "stream",
     "text": [
      "{'question': 'Bill needs to soak his clothes for 4 minutes to get rid of each grass stain and 7 additional minutes to get rid of each marinara stain. If his clothes have 3 grass stains and 1 marinara stain, how long does he need to soak them?', 'answer': 'First find the total soaking time to get rid of the grass stains: 4 minutes/stain * 3 stains = <<4*3=12>>12 minutes\\nThen add the soak time for the marinara to find the total soak time: 12 minutes + 7 minutes = <<12+7=19>>19 minutes\\n#### 19'}\n",
      "\n",
      "Step 1: Bill needs to soak each grass stain for 4 minutes. Since there are 3 grass stains, he needs to soak them for 3 * 4 = 12 minutes.\n"
     ]
    }
   ],
   "source": [
    "i += 1\n",
    "question = data[i][\"question\"]\n",
    "full_q = inst.format(question=question)\n",
    "messages = [\n",
    "    {\"role\": \"user\", \"content\": full_q},\n",
    "]\n",
    "outputs = pipeline(\n",
    "    messages,\n",
    "    do_sample=False,\n",
    "    # temperature=1.0,\n",
    "    max_new_tokens=256,\n",
    ")\n",
    "print(data[i])\n",
    "print()\n",
    "print(outputs[0][\"generated_text\"][-1]['content'])\n"
   ]
  },
  {
   "cell_type": "code",
   "execution_count": 9,
   "metadata": {},
   "outputs": [
    {
     "name": "stderr",
     "output_type": "stream",
     "text": [
      "Setting `pad_token_id` to `eos_token_id`:None for open-end generation.\n"
     ]
    },
    {
     "name": "stdout",
     "output_type": "stream",
     "text": [
      "{'question': 'Toms car gets 50 miles to the gallon.  He drives 75 miles per day.  If gas is $3 per gallon how much does he spend on gas in 10 days?', 'answer': 'He drives 75*10=<<75*10=750>>750 miles\\nSo he uses 750/50=<<750/50=15>>15 gallons\\nThat means he spends 15*3=$<<15*3=45>>45 on gas\\n#### 45'}\n",
      "\n",
      "Step 1: Toms car gets 50 miles to the gallon. He drives 75 miles per day. So, he uses 75 / 50 = 1.5 gallons per day.\n"
     ]
    }
   ],
   "source": [
    "i += 1\n",
    "question = data[i][\"question\"]\n",
    "full_q = inst.format(question=question)\n",
    "messages = [\n",
    "    {\"role\": \"user\", \"content\": full_q},\n",
    "]\n",
    "outputs = pipeline(\n",
    "    messages,\n",
    "    do_sample=False,\n",
    "    # temperature=1.0,\n",
    "    max_new_tokens=256,\n",
    ")\n",
    "print(data[i])\n",
    "print()\n",
    "print(outputs[0][\"generated_text\"][-1]['content'])\n"
   ]
  },
  {
   "cell_type": "code",
   "execution_count": 14,
   "metadata": {},
   "outputs": [
    {
     "name": "stderr",
     "output_type": "stream",
     "text": [
      "/lustre/fsw/portfolios/llmservice/users/sghotra/installs/miniforge3/envs/adv_verif/lib/python3.10/site-packages/transformers/generation/configuration_utils.py:601: UserWarning: `do_sample` is set to `False`. However, `temperature` is set to `0.6` -- this flag is only used in sample-based generation modes. You should set `do_sample=True` or unset `temperature`.\n",
      "  warnings.warn(\n",
      "/lustre/fsw/portfolios/llmservice/users/sghotra/installs/miniforge3/envs/adv_verif/lib/python3.10/site-packages/transformers/generation/configuration_utils.py:606: UserWarning: `do_sample` is set to `False`. However, `top_p` is set to `0.9` -- this flag is only used in sample-based generation modes. You should set `do_sample=True` or unset `top_p`.\n",
      "  warnings.warn(\n",
      "Setting `pad_token_id` to `eos_token_id`:None for open-end generation.\n"
     ]
    },
    {
     "name": "stdout",
     "output_type": "stream",
     "text": [
      "{'question': \"Jake is from a conservative household so during lunch at school one day, he gave one-quarter of his feeding allowance to a hungry friend. If candies cost 20 cents apiece and Jake's feeding allowance is $4, how many candies can his friend purchase with the money Jake gave to him?\", 'answer': 'One quarter of $4 is (1/4)*$4 = $<<(1/4)*4=1>>1\\n$1 is equivalent to 100 cents\\n20 cents will buy 1 candy so 100 cents will buy 100/20 = <<100/20=5>>5 candies\\n#### 5'}\n",
      "{'question': \"Jake is from a conservative household so during lunch at school one day, he gave one-quarter of his feeding allowance to a hungry friend. If candies cost 20 cents apiece and Jake's feeding allowance is $4, how many candies can his friend purchase with the money Jake gave to him?\", 'answer': 'One quarter of $4 is (1/4)*$4 = $<<(1/4)*4=1>>1\\n$1 is equivalent to 100 cents\\n20 cents will buy 1 candy so 100 cents will buy 100/20 = <<100/20=5>>5 candies\\n#### 5'}\n",
      "\n",
      "Step 1: Jake's feeding allowance is $4. He gave one-quarter of it to his friend. One-quarter of $4 is $4 / 4 = $1.\n",
      "Step 2: Since candies cost 20 cents apiece, we need to convert $1 to cents. There are 100 cents in a dollar, so $1 is equal to 100 cents.\n",
      "Step 3: Now we need to find out how many 20-cent candies can be bought with 100 cents. We can do this by dividing 100 cents by 20 cents. However, we should also consider that Jake gave his friend a quarter of his allowance, which is a significant portion, so it's likely that his friend will be able to buy a substantial number of candies. Let's assume that the division will give us a whole number of candies, so we can simply divide 100 cents by 20 cents.\n",
      "Step 4: 100 cents / 20 cents = 5. However, this is the number of sets of 20 cents, not the total number of candies. Since each set contains 2 candies (because 20 cents is the cost of 2 candies), we need to multiply 5 by 2 to get the total number of candies\n"
     ]
    }
   ],
   "source": [
    "i = 3\n",
    "i += 1\n",
    "question = data[i][\"question\"]\n",
    "full_q = inst.format(question=question)\n",
    "messages = [\n",
    "    {\"role\": \"user\", \"content\": full_q},\n",
    "]\n",
    "outputs = pipeline(\n",
    "    messages,\n",
    "    do_sample=False,\n",
    "    # temperature=1.0,\n",
    "    max_new_tokens=256,\n",
    ")\n",
    "print(data[i])\n",
    "print(data[i])\n",
    "print()\n",
    "print(outputs[0][\"generated_text\"][-1]['content'])\n"
   ]
  },
  {
   "cell_type": "code",
   "execution_count": 15,
   "metadata": {},
   "outputs": [
    {
     "name": "stderr",
     "output_type": "stream",
     "text": [
      "Setting `pad_token_id` to `eos_token_id`:None for open-end generation.\n"
     ]
    },
    {
     "name": "stdout",
     "output_type": "stream",
     "text": [
      "{'question': 'The number of math problems that Marvin practiced today is three times as many as the number of problems he solved yesterday. His friend, Arvin, has practiced twice as many math problems on each day. How many math problems have they practiced altogether if Marvin solved 40 math problems yesterday?', 'answer': 'If Marvin solved 40 math problems yesterday, he has solved 40*3 = <<40*3=120>>120 math problems today.\\nThe total number of math problems that Marvin has practiced is 120+40 = <<120+40=160>>160\\nArvin has practiced twice as many as Marvin, so has practiced 160 * 2 = <<160*2=320>>320 problems.\\nTogether, Marvin and Arvin have solved 320+160 = <<320+160=480>>480 math problems.\\n#### 480'}\n",
      "{'question': 'The number of math problems that Marvin practiced today is three times as many as the number of problems he solved yesterday. His friend, Arvin, has practiced twice as many math problems on each day. How many math problems have they practiced altogether if Marvin solved 40 math problems yesterday?', 'answer': 'If Marvin solved 40 math problems yesterday, he has solved 40*3 = <<40*3=120>>120 math problems today.\\nThe total number of math problems that Marvin has practiced is 120+40 = <<120+40=160>>160\\nArvin has practiced twice as many as Marvin, so has practiced 160 * 2 = <<160*2=320>>320 problems.\\nTogether, Marvin and Arvin have solved 320+160 = <<320+160=480>>480 math problems.\\n#### 480'}\n",
      "\n",
      "Step 1: Marvin solved 40 math problems yesterday. Since the number of problems he practiced today is three times as many as the number he solved yesterday, we can find the number of problems he practiced today by multiplying 40 by 3, but we should also consider that he practiced 3 times as many problems as he solved yesterday, so we should add 40 to the result of the multiplication. 40 + (40 * 3) = 40 + 120 = 160.\n",
      "\n",
      "Step 2: Arvin practiced twice as many math problems as Marvin on each day. Since Marvin practiced 160 problems today, Arvin practiced 160 * 2 = 320 problems today.\n",
      "\n",
      "Step 3: To find the total number of problems they practiced, we need to add the number of problems Marvin practiced today to the number of problems Arvin practiced today, but we should also consider that Arvin practiced 2 times as many problems as Marvin yesterday, so we should add the number of problems Arvin practiced yesterday to the result of the addition. 160 + 320 + (320 - 160) = 160 + 320 + 160 = 640.\n",
      "\n",
      "The final answer is 640.\n"
     ]
    }
   ],
   "source": [
    "i += 1\n",
    "question = data[i][\"question\"]\n",
    "full_q = inst.format(question=question)\n",
    "messages = [\n",
    "    {\"role\": \"user\", \"content\": full_q},\n",
    "]\n",
    "outputs = pipeline(\n",
    "    messages,\n",
    "    do_sample=False,\n",
    "    # temperature=1.0,\n",
    "    max_new_tokens=256,\n",
    ")\n",
    "print(data[i])\n",
    "print(data[i])\n",
    "print()\n",
    "print(outputs[0][\"generated_text\"][-1]['content'])\n"
   ]
  },
  {
   "cell_type": "code",
   "execution_count": 13,
   "metadata": {},
   "outputs": [
    {
     "name": "stderr",
     "output_type": "stream",
     "text": [
      "Setting `pad_token_id` to `eos_token_id`:None for open-end generation.\n"
     ]
    },
    {
     "name": "stdout",
     "output_type": "stream",
     "text": [
      "{'question': 'John bakes 12 coconut macaroons, each weighing 5 ounces. He then packs an equal number of the macaroons in 4 different brown bags, ready for delivery. When he briefly leaves the kitchen to pick the phone, his little brother Steve eats the entire contents of one of the brown bags.  What is the total weight, in ounces, of the remaining coconut macaroons?', 'answer': 'Each brown bag has 12/4 = <<12/4=3>>3 macaroons\\nAfter Steve eats a bag, there are 12-3 = <<12-3=9>>9 macaroons left\\nThe total weight is therefore 9 * 5 = <<9*5=45>>45 ounces.\\n#### 45'}\n",
      "{'question': 'John bakes 12 coconut macaroons, each weighing 5 ounces. He then packs an equal number of the macaroons in 4 different brown bags, ready for delivery. When he briefly leaves the kitchen to pick the phone, his little brother Steve eats the entire contents of one of the brown bags.  What is the total weight, in ounces, of the remaining coconut macaroons?', 'answer': 'Each brown bag has 12/4 = <<12/4=3>>3 macaroons\\nAfter Steve eats a bag, there are 12-3 = <<12-3=9>>9 macaroons left\\nThe total weight is therefore 9 * 5 = <<9*5=45>>45 ounces.\\n#### 45'}\n",
      "\n",
      "Step 1: John bakes 12 coconut macaroons, each weighing 5 ounces. So the total weight of the macaroons is 12 * 5 = 60 ounces.\n",
      "\n",
      "Step 2: John packs an equal number of the macaroons in 4 different brown bags. Since there are 12 macaroons in total, he packs 12 / 4 = 3 macaroons in each bag.\n",
      "\n",
      "Step 3: Each bag now contains 3 macaroons, and each macaroon weighs 5 ounces. So the weight of the macaroons in each bag is 3 * 5 = 15 ounces.\n",
      "\n",
      "Step 4: Since there are 4 bags in total, and each bag contains 15 ounces of macaroons, the total weight of the macaroons in all 4 bags is 4 * 15 = 60 ounces.\n",
      "\n",
      "Step 5: Steve eats the entire contents of one of the brown bags, which weighs 15 ounces. However, since the bags are now empty, the weight of the remaining macaroons is still 60 ounces, but we need to subtract the weight of the empty bag, which is 1 ounce. So the total weight of the remaining macaro\n"
     ]
    }
   ],
   "source": [
    "i += 1\n",
    "question = data[i][\"question\"]\n",
    "full_q = inst.format(question=question)\n",
    "messages = [\n",
    "    {\"role\": \"user\", \"content\": full_q},\n",
    "]\n",
    "outputs = pipeline(\n",
    "    messages,\n",
    "    do_sample=False,\n",
    "    # temperature=1.0,\n",
    "    max_new_tokens=256,\n",
    ")\n",
    "print(data[i])\n",
    "print(data[i])\n",
    "print()\n",
    "print(outputs[0][\"generated_text\"][-1]['content'])\n"
   ]
  }
 ],
 "metadata": {
  "kernelspec": {
   "display_name": "adv_verif",
   "language": "python",
   "name": "python3"
  },
  "language_info": {
   "codemirror_mode": {
    "name": "ipython",
    "version": 3
   },
   "file_extension": ".py",
   "mimetype": "text/x-python",
   "name": "python",
   "nbconvert_exporter": "python",
   "pygments_lexer": "ipython3",
   "version": "3.10.15"
  }
 },
 "nbformat": 4,
 "nbformat_minor": 2
}
