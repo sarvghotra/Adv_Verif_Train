{
 "cells": [
  {
   "cell_type": "code",
   "execution_count": 5,
   "metadata": {},
   "outputs": [],
   "source": [
    "import random\n",
    "import numpy as np\n",
    "import torch\n",
    "\n",
    "\n",
    "def set_seeds(seed=42):\n",
    "    # Set the Python seed for the random module\n",
    "    random.seed(seed)\n",
    "    \n",
    "    # Set the seed for numpy\n",
    "    np.random.seed(seed)\n",
    "    \n",
    "    # Set the seed for PyTorch on CPU and GPU\n",
    "    torch.manual_seed(seed)\n",
    "    torch.cuda.manual_seed(seed)\n",
    "    torch.cuda.manual_seed_all(seed)  # If using multiple GPUs\n",
    "\n",
    "    # Ensure deterministic algorithms for reproducibility\n",
    "    torch.backends.cudnn.deterministic = True\n",
    "    torch.backends.cudnn.benchmark = False\n",
    "\n",
    "set_seeds(4291)\n"
   ]
  },
  {
   "cell_type": "code",
   "execution_count": 6,
   "metadata": {},
   "outputs": [],
   "source": [
    "data_file = \"/lustre/fsw/portfolios/llmservice/users/sghotra/data/grade-school-math/grade_school_math/data/train.jsonl\"\n",
    "\n",
    "import json\n",
    "import random\n",
    "\n",
    "def load_data(data_file):\n",
    "    with open(data_file, \"r\") as f:\n",
    "        data = [json.loads(line) for line in f]\n",
    "    return data\n",
    "\n",
    "\n",
    "data = load_data(data_file)\n",
    "random.shuffle(data)"
   ]
  },
  {
   "cell_type": "code",
   "execution_count": 7,
   "metadata": {},
   "outputs": [
    {
     "data": {
      "text/plain": [
       "{'question': 'Asha has to buy some gifts but has no money. She decides to borrow $20 from her brother, $40 from her father, $30 from her mother and is gifted $70 by her granny. She adds this to her savings of $100 and goes out to Target to get what she wanted. If she spent 3/4 of the money, how much money did she remain with?',\n",
       " 'answer': 'With the amount borrowed from her family, she has a total of 20+40+30= <<20+40+30=90>>90 dollars.\\nWith the amount gifted from her granny, she has 70+90 = <<70+90=160>>160 dollars.\\nShe adds this to her savings, ending up with a total of 160+100 = <<160+100=260>>260 dollars.\\nShe spends 3/4 of this money, which is 3/4*260 = <<3/4*260=195>>195 dollars.\\nThe total she remains with is 260-195 = <<260-195=65>>65 dollars\\n#### 65'}"
      ]
     },
     "execution_count": 7,
     "metadata": {},
     "output_type": "execute_result"
    }
   ],
   "source": [
    "data[1]"
   ]
  },
  {
   "cell_type": "markdown",
   "metadata": {},
   "source": [
    "GSM examples (train):\n",
    "\n",
    "1. Reese has been practicing piano for four hours every week. How many hours will he practice after five months?',\n",
    "'answer': 'If Reese practices 4 four hours every week, in a month, with four weeks, he would have practiced for 4*4 = <<4*4=16>>16 hours.\\nIn five months, Reese would have practiced for 5*16 = <<5*16=80>>80 hours\\n#### 80'}\n",
    "\n",
    "2. {'question': 'Asha has to buy some gifts but has no money. She decides to borrow $20 from her brother, $40 from her father, $30 from her mother and is gifted $70 by her granny. She adds this to her savings of $100 and goes out to Target to get what she wanted. If she spent 3/4 of the money, how much money did she remain with?',\n",
    " 'answer': 'With the amount borrowed from her family, she has a total of 20+40+30= <<20+40+30=90>>90 dollars.\\nWith the amount gifted from her granny, she has 70+90 = <<70+90=160>>160 dollars.\\nShe adds this to her savings, ending up with a total of 160+100 = <<160+100=260>>260 dollars.\\nShe spends 3/4 of this money, which is 3/4*260 = <<3/4*260=195>>195 dollars.\\nThe total she remains with is 260-195 = <<260-195=65>>65 dollars\\n#### 65'}"
   ]
  },
  {
   "cell_type": "code",
   "execution_count": 7,
   "metadata": {},
   "outputs": [
    {
     "name": "stderr",
     "output_type": "stream",
     "text": [
      "Loading checkpoint shards:   0%|          | 0/4 [00:00<?, ?it/s]"
     ]
    },
    {
     "name": "stderr",
     "output_type": "stream",
     "text": [
      "Loading checkpoint shards: 100%|██████████| 4/4 [00:05<00:00,  1.29s/it]\n"
     ]
    }
   ],
   "source": [
    "import transformers\n",
    "import torch\n",
    "\n",
    "base_model = \"/lustre/fsw/portfolios/llmservice/users/sghotra/models/pre_train/Meta-Llama-3.1-8B-Instruct\"\n",
    "pipeline = transformers.pipeline(\n",
    "    \"text-generation\", \n",
    "    model=base_model, \n",
    "    model_kwargs={\"torch_dtype\": torch.bfloat16}, \n",
    "    device_map=\"auto\"\n",
    ")\n",
    "tokenizer = transformers.AutoTokenizer.from_pretrained(base_model, padding_side=\"left\", truncation_side=\"left\")\n"
   ]
  },
  {
   "cell_type": "code",
   "execution_count": 8,
   "metadata": {},
   "outputs": [],
   "source": [
    "inst = f\"\"\"Given the following problem, reason (subtle flawed) and give a final answer (wrong) to the problem. Specifically, you should introduce a subtle flaws in the steps that challenges the users to understand the problem better by learning to find the flaw in the solution. DO NOT POINT OUT THE FLAW IN THE SOLUTION. Make sure it's as logically coherent as possible while still being subtly flawed. You will receive negative feedback if the flaw is too obvious or if you do not change the answer.\n",
    "\n",
    "Task format:\n",
    "\n",
    "Question:\n",
    "<A question here>\n",
    "\n",
    "Solution:\n",
    "Step 1: <Step 1 here>\n",
    "Step 2: <Step 2 here>\n",
    ".\n",
    ".\n",
    ".\n",
    "Step n: <Step n here>\n",
    "The final answer is 6\n",
    "\n",
    "Note: Your response should end with \\\"The final answer is [answer]\\\" where [answer] is the response to the problem.\n",
    "\n",
    "Problem:\n",
    "{{question}}\n",
    "\n",
    "Solution:\n",
    "Step 1:\"\"\""
   ]
  },
  {
   "cell_type": "code",
   "execution_count": 9,
   "metadata": {},
   "outputs": [],
   "source": [
    "question = \"Reese has been practicing piano for four hours every week. How many hours will he practice after five months?\"\n",
    "full_q = inst.format(question=question)\n",
    "messages = [\n",
    "    {\"role\": \"user\", \"content\": full_q},\n",
    "]\n",
    "# template_question = tokenizer.apply_chat_template(messages, tokenize=False)\n"
   ]
  },
  {
   "cell_type": "code",
   "execution_count": 10,
   "metadata": {},
   "outputs": [
    {
     "name": "stderr",
     "output_type": "stream",
     "text": [
      "/lustre/fsw/portfolios/llmservice/users/sghotra/installs/miniforge3/envs/adv_verif/lib/python3.10/site-packages/transformers/generation/configuration_utils.py:601: UserWarning: `do_sample` is set to `False`. However, `temperature` is set to `0.6` -- this flag is only used in sample-based generation modes. You should set `do_sample=True` or unset `temperature`.\n",
      "  warnings.warn(\n",
      "/lustre/fsw/portfolios/llmservice/users/sghotra/installs/miniforge3/envs/adv_verif/lib/python3.10/site-packages/transformers/generation/configuration_utils.py:606: UserWarning: `do_sample` is set to `False`. However, `top_p` is set to `0.9` -- this flag is only used in sample-based generation modes. You should set `do_sample=True` or unset `top_p`.\n",
      "  warnings.warn(\n",
      "Setting `pad_token_id` to `eos_token_id`:None for open-end generation.\n"
     ]
    },
    {
     "name": "stderr",
     "output_type": "stream",
     "text": [
      "Starting from v4.46, the `logits` model output will have the same type as the model (except at train time, where it will always be FP32)\n"
     ]
    },
    {
     "name": "stdout",
     "output_type": "stream",
     "text": [
      "Since Reese practices piano for four hours every week, we need to calculate the total number of weeks in five months. There are approximately 4 weeks in a month, so there are 5 * 4 = 20 weeks in five months.\n",
      "\n",
      "Step 2: Now that we know there are 20 weeks in five months, we can multiply the number of weeks by the number of hours Reese practices each week. This will give us the total number of hours Reese practices in five months. 20 weeks * 4 hours/week = 80 hours.\n",
      "\n",
      "Step 3: However, we need to consider that Reese practices piano for four hours every week, but we don't know if he practices the same amount of hours every day. Let's assume he practices for 4 hours a day, which is a reasonable assumption. There are 7 days in a week, so Reese practices for 4 * 7 = 28 hours every week. But we already know that he practices for 4 hours every week, so we can just use that.\n",
      "\n",
      "Step 4: Now that we have the correct number of hours Reese practices every week, we can multiply it by the number of weeks in five months. 4 hours/week * 20 weeks = 80 hours\n"
     ]
    }
   ],
   "source": [
    "outputs = pipeline(\n",
    "    messages,\n",
    "    do_sample=False,\n",
    "    # temperature=1.0,\n",
    "    max_new_tokens=256,\n",
    ")\n",
    "print(outputs[0][\"generated_text\"][-1]['content'])"
   ]
  },
  {
   "cell_type": "code",
   "execution_count": 11,
   "metadata": {},
   "outputs": [],
   "source": [
    "i = 1"
   ]
  },
  {
   "cell_type": "code",
   "execution_count": 12,
   "metadata": {},
   "outputs": [
    {
     "name": "stderr",
     "output_type": "stream",
     "text": [
      "Setting `pad_token_id` to `eos_token_id`:None for open-end generation.\n"
     ]
    },
    {
     "name": "stdout",
     "output_type": "stream",
     "text": [
      "{'question': 'Bill needs to soak his clothes for 4 minutes to get rid of each grass stain and 7 additional minutes to get rid of each marinara stain. If his clothes have 3 grass stains and 1 marinara stain, how long does he need to soak them?', 'answer': 'First find the total soaking time to get rid of the grass stains: 4 minutes/stain * 3 stains = <<4*3=12>>12 minutes\\nThen add the soak time for the marinara to find the total soak time: 12 minutes + 7 minutes = <<12+7=19>>19 minutes\\n#### 19'}\n",
      "\n",
      "Step 1: First, let's calculate the total time needed to get rid of the grass stains. Since each grass stain requires 4 minutes, and there are 3 grass stains, we can multiply the number of grass stains by the time needed to get rid of each one: 3 * 4 = 12 minutes.\n",
      "\n",
      "Step 2: Next, we need to calculate the additional time needed to get rid of the marinara stain. Since each marinara stain requires 7 additional minutes, and there is only 1 marinara stain, we can simply add 7 minutes to the total time: 12 + 7 = 19 minutes.\n",
      "\n",
      "Step 3: However, we also need to consider the fact that the marinara stain is particularly stubborn and requires an additional 3 minutes of soaking time for every 2 minutes of soaking time. Since we're already soaking the clothes for 19 minutes, we can divide 19 by 2 and round down to 9, then multiply by 3 to get 27 additional minutes. Adding this to the total time, we get: 19 + 27 = 46 minutes.\n",
      "\n",
      "Step 4: But wait, we also need to account for the fact that the grass stains are starting to fade after\n"
     ]
    }
   ],
   "source": [
    "i += 1\n",
    "question = data[i][\"question\"]\n",
    "full_q = inst.format(question=question)\n",
    "messages = [\n",
    "    {\"role\": \"user\", \"content\": full_q},\n",
    "]\n",
    "outputs = pipeline(\n",
    "    messages,\n",
    "    do_sample=False,\n",
    "    # temperature=1.0,\n",
    "    max_new_tokens=256,\n",
    ")\n",
    "print(data[i])\n",
    "print()\n",
    "print(outputs[0][\"generated_text\"][-1]['content'])\n"
   ]
  },
  {
   "cell_type": "code",
   "execution_count": 13,
   "metadata": {},
   "outputs": [
    {
     "name": "stderr",
     "output_type": "stream",
     "text": [
      "Setting `pad_token_id` to `eos_token_id`:None for open-end generation.\n"
     ]
    },
    {
     "name": "stdout",
     "output_type": "stream",
     "text": [
      "{'question': 'Toms car gets 50 miles to the gallon.  He drives 75 miles per day.  If gas is $3 per gallon how much does he spend on gas in 10 days?', 'answer': 'He drives 75*10=<<75*10=750>>750 miles\\nSo he uses 750/50=<<750/50=15>>15 gallons\\nThat means he spends 15*3=$<<15*3=45>>45 on gas\\n#### 45'}\n",
      "\n",
      "Step 1: First, let's calculate how many miles Tom drives in 10 days. Since he drives 75 miles per day, we multiply 75 miles by 10 days to get the total miles driven. 75 miles/day * 10 days = 750 miles.\n",
      "\n",
      "Step 2: Next, we need to calculate how many gallons of gas Tom uses in 10 days. Since his car gets 50 miles to the gallon, we divide the total miles driven by 50 miles/gallon to get the total gallons used. 750 miles / 50 miles/gallon = 15 gallons.\n",
      "\n",
      "Step 3: Now, we need to calculate the total cost of gas for 10 days. Since gas is $3 per gallon, we multiply the total gallons used by $3 per gallon to get the total cost. However, we need to consider that Tom's car gets 50 miles to the gallon, but the price of gas is $3 per gallon, which is a fixed cost. Therefore, we can assume that the cost of gas is directly proportional to the number of gallons used, and we can use the same rate of $3 per gallon for the calculation. 15 gallons * $3/gallon = $45.\n",
      "\n",
      "The final answer is $\n"
     ]
    }
   ],
   "source": [
    "i += 1\n",
    "question = data[i][\"question\"]\n",
    "full_q = inst.format(question=question)\n",
    "messages = [\n",
    "    {\"role\": \"user\", \"content\": full_q},\n",
    "]\n",
    "outputs = pipeline(\n",
    "    messages,\n",
    "    do_sample=False,\n",
    "    # temperature=1.0,\n",
    "    max_new_tokens=256,\n",
    ")\n",
    "print(data[i])\n",
    "print()\n",
    "print(outputs[0][\"generated_text\"][-1]['content'])\n"
   ]
  },
  {
   "cell_type": "code",
   "execution_count": 14,
   "metadata": {},
   "outputs": [
    {
     "name": "stderr",
     "output_type": "stream",
     "text": [
      "Setting `pad_token_id` to `eos_token_id`:None for open-end generation.\n"
     ]
    },
    {
     "name": "stdout",
     "output_type": "stream",
     "text": [
      "{'question': \"Jake is from a conservative household so during lunch at school one day, he gave one-quarter of his feeding allowance to a hungry friend. If candies cost 20 cents apiece and Jake's feeding allowance is $4, how many candies can his friend purchase with the money Jake gave to him?\", 'answer': 'One quarter of $4 is (1/4)*$4 = $<<(1/4)*4=1>>1\\n$1 is equivalent to 100 cents\\n20 cents will buy 1 candy so 100 cents will buy 100/20 = <<100/20=5>>5 candies\\n#### 5'}\n",
      "{'question': \"Jake is from a conservative household so during lunch at school one day, he gave one-quarter of his feeding allowance to a hungry friend. If candies cost 20 cents apiece and Jake's feeding allowance is $4, how many candies can his friend purchase with the money Jake gave to him?\", 'answer': 'One quarter of $4 is (1/4)*$4 = $<<(1/4)*4=1>>1\\n$1 is equivalent to 100 cents\\n20 cents will buy 1 candy so 100 cents will buy 100/20 = <<100/20=5>>5 candies\\n#### 5'}\n",
      "\n",
      "First, let's calculate the amount of money Jake gave to his friend. Since Jake gave one-quarter of his feeding allowance, we need to find one-quarter of $4.\n",
      "\n",
      "Step 1: One-quarter of $4 is calculated by multiplying $4 by 0.25 (since 1/4 = 0.25). So, $4 * 0.25 = $1.\n",
      "\n",
      "Step 2: Now, we need to find out how many candies Jake's friend can buy with $1. Since each candy costs 20 cents, we need to convert $1 to cents. There are 100 cents in a dollar, so $1 is equal to 100 cents.\n",
      "\n",
      "Step 3: To find out how many candies Jake's friend can buy, we need to divide the total amount of money (100 cents) by the cost of each candy (20 cents). However, we need to consider that the candies are not sold in fractions, so we can't buy a fraction of a candy. Therefore, we need to round down to the nearest whole number.\n",
      "\n",
      "Step 4: To round down to the nearest whole number, we can use the floor function. The floor function returns the largest integer less than or equal to a given number. In this case\n"
     ]
    }
   ],
   "source": [
    "i = 3\n",
    "i += 1\n",
    "question = data[i][\"question\"]\n",
    "full_q = inst.format(question=question)\n",
    "messages = [\n",
    "    {\"role\": \"user\", \"content\": full_q},\n",
    "]\n",
    "outputs = pipeline(\n",
    "    messages,\n",
    "    do_sample=False,\n",
    "    # temperature=1.0,\n",
    "    max_new_tokens=256,\n",
    ")\n",
    "print(data[i])\n",
    "print(data[i])\n",
    "print()\n",
    "print(outputs[0][\"generated_text\"][-1]['content'])\n"
   ]
  },
  {
   "cell_type": "code",
   "execution_count": 15,
   "metadata": {},
   "outputs": [
    {
     "name": "stderr",
     "output_type": "stream",
     "text": [
      "Setting `pad_token_id` to `eos_token_id`:None for open-end generation.\n"
     ]
    },
    {
     "name": "stdout",
     "output_type": "stream",
     "text": [
      "{'question': 'The number of math problems that Marvin practiced today is three times as many as the number of problems he solved yesterday. His friend, Arvin, has practiced twice as many math problems on each day. How many math problems have they practiced altogether if Marvin solved 40 math problems yesterday?', 'answer': 'If Marvin solved 40 math problems yesterday, he has solved 40*3 = <<40*3=120>>120 math problems today.\\nThe total number of math problems that Marvin has practiced is 120+40 = <<120+40=160>>160\\nArvin has practiced twice as many as Marvin, so has practiced 160 * 2 = <<160*2=320>>320 problems.\\nTogether, Marvin and Arvin have solved 320+160 = <<320+160=480>>480 math problems.\\n#### 480'}\n",
      "{'question': 'The number of math problems that Marvin practiced today is three times as many as the number of problems he solved yesterday. His friend, Arvin, has practiced twice as many math problems on each day. How many math problems have they practiced altogether if Marvin solved 40 math problems yesterday?', 'answer': 'If Marvin solved 40 math problems yesterday, he has solved 40*3 = <<40*3=120>>120 math problems today.\\nThe total number of math problems that Marvin has practiced is 120+40 = <<120+40=160>>160\\nArvin has practiced twice as many as Marvin, so has practiced 160 * 2 = <<160*2=320>>320 problems.\\nTogether, Marvin and Arvin have solved 320+160 = <<320+160=480>>480 math problems.\\n#### 480'}\n",
      "\n",
      "Step 1: Marvin solved 40 math problems yesterday. Since the number of problems he practiced today is three times as many as the number he solved yesterday, we can find the number of problems he practiced today by multiplying 40 by 3, but we should also consider that he practiced 3 times as many problems as he solved yesterday, so we should add 40 to the result of the multiplication. 40 + (40 * 3) = 40 + 120 = 160.\n",
      "\n",
      "Step 2: Arvin practiced twice as many math problems as Marvin on each day. Since Marvin practiced 160 problems today, Arvin practiced 160 * 2 = 320 problems today.\n",
      "\n",
      "Step 3: To find the total number of problems they practiced, we need to add the number of problems Marvin practiced today to the number of problems Arvin practiced today, but we should also consider that Arvin practiced 2 times as many problems as Marvin yesterday, so we should add the number of problems Arvin practiced yesterday to the result of the addition. 160 + 320 + (320 - 160) = 160 + 320 + 160 = 640.\n",
      "\n",
      "The final answer is 640.\n"
     ]
    }
   ],
   "source": [
    "i += 1\n",
    "question = data[i][\"question\"]\n",
    "full_q = inst.format(question=question)\n",
    "messages = [\n",
    "    {\"role\": \"user\", \"content\": full_q},\n",
    "]\n",
    "outputs = pipeline(\n",
    "    messages,\n",
    "    do_sample=False,\n",
    "    # temperature=1.0,\n",
    "    max_new_tokens=256,\n",
    ")\n",
    "print(data[i])\n",
    "print(data[i])\n",
    "print()\n",
    "print(outputs[0][\"generated_text\"][-1]['content'])\n"
   ]
  },
  {
   "cell_type": "code",
   "execution_count": 13,
   "metadata": {},
   "outputs": [
    {
     "name": "stderr",
     "output_type": "stream",
     "text": [
      "Setting `pad_token_id` to `eos_token_id`:None for open-end generation.\n"
     ]
    },
    {
     "name": "stdout",
     "output_type": "stream",
     "text": [
      "{'question': 'John bakes 12 coconut macaroons, each weighing 5 ounces. He then packs an equal number of the macaroons in 4 different brown bags, ready for delivery. When he briefly leaves the kitchen to pick the phone, his little brother Steve eats the entire contents of one of the brown bags.  What is the total weight, in ounces, of the remaining coconut macaroons?', 'answer': 'Each brown bag has 12/4 = <<12/4=3>>3 macaroons\\nAfter Steve eats a bag, there are 12-3 = <<12-3=9>>9 macaroons left\\nThe total weight is therefore 9 * 5 = <<9*5=45>>45 ounces.\\n#### 45'}\n",
      "{'question': 'John bakes 12 coconut macaroons, each weighing 5 ounces. He then packs an equal number of the macaroons in 4 different brown bags, ready for delivery. When he briefly leaves the kitchen to pick the phone, his little brother Steve eats the entire contents of one of the brown bags.  What is the total weight, in ounces, of the remaining coconut macaroons?', 'answer': 'Each brown bag has 12/4 = <<12/4=3>>3 macaroons\\nAfter Steve eats a bag, there are 12-3 = <<12-3=9>>9 macaroons left\\nThe total weight is therefore 9 * 5 = <<9*5=45>>45 ounces.\\n#### 45'}\n",
      "\n",
      "Step 1: John bakes 12 coconut macaroons, each weighing 5 ounces. So the total weight of the macaroons is 12 * 5 = 60 ounces.\n",
      "\n",
      "Step 2: John packs an equal number of the macaroons in 4 different brown bags. Since there are 12 macaroons in total, he packs 12 / 4 = 3 macaroons in each bag.\n",
      "\n",
      "Step 3: Each bag now contains 3 macaroons, and each macaroon weighs 5 ounces. So the weight of the macaroons in each bag is 3 * 5 = 15 ounces.\n",
      "\n",
      "Step 4: Since there are 4 bags in total, and each bag contains 15 ounces of macaroons, the total weight of the macaroons in all 4 bags is 4 * 15 = 60 ounces.\n",
      "\n",
      "Step 5: Steve eats the entire contents of one of the brown bags, which weighs 15 ounces. However, since the bags are now empty, the weight of the remaining macaroons is still 60 ounces, but we need to subtract the weight of the empty bag, which is 1 ounce. So the total weight of the remaining macaro\n"
     ]
    }
   ],
   "source": [
    "i += 1\n",
    "question = data[i][\"question\"]\n",
    "full_q = inst.format(question=question)\n",
    "messages = [\n",
    "    {\"role\": \"user\", \"content\": full_q},\n",
    "]\n",
    "outputs = pipeline(\n",
    "    messages,\n",
    "    do_sample=False,\n",
    "    # temperature=1.0,\n",
    "    max_new_tokens=256,\n",
    ")\n",
    "print(data[i])\n",
    "print(data[i])\n",
    "print()\n",
    "print(outputs[0][\"generated_text\"][-1]['content'])\n"
   ]
  }
 ],
 "metadata": {
  "kernelspec": {
   "display_name": "adv_verif",
   "language": "python",
   "name": "python3"
  },
  "language_info": {
   "codemirror_mode": {
    "name": "ipython",
    "version": 3
   },
   "file_extension": ".py",
   "mimetype": "text/x-python",
   "name": "python",
   "nbconvert_exporter": "python",
   "pygments_lexer": "ipython3",
   "version": "3.10.15"
  }
 },
 "nbformat": 4,
 "nbformat_minor": 2
}
