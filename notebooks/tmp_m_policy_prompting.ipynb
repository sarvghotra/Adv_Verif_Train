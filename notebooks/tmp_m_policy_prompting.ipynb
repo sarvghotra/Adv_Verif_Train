{
 "cells": [
  {
   "cell_type": "code",
   "execution_count": 1,
   "metadata": {},
   "outputs": [],
   "source": [
    "import random\n",
    "import numpy as np\n",
    "import torch\n",
    "\n",
    "\n",
    "def set_seeds(seed=42):\n",
    "    # Set the Python seed for the random module\n",
    "    random.seed(seed)\n",
    "    \n",
    "    # Set the seed for numpy\n",
    "    np.random.seed(seed)\n",
    "    \n",
    "    # Set the seed for PyTorch on CPU and GPU\n",
    "    torch.manual_seed(seed)\n",
    "    torch.cuda.manual_seed(seed)\n",
    "    torch.cuda.manual_seed_all(seed)  # If using multiple GPUs\n",
    "\n",
    "    # Ensure deterministic algorithms for reproducibility\n",
    "    torch.backends.cudnn.deterministic = True\n",
    "    torch.backends.cudnn.benchmark = False\n",
    "\n",
    "set_seeds(4291)\n"
   ]
  },
  {
   "cell_type": "code",
   "execution_count": null,
   "metadata": {},
   "outputs": [],
   "source": []
  },
  {
   "cell_type": "code",
   "execution_count": null,
   "metadata": {},
   "outputs": [],
   "source": [
    "import transformers\n",
    "import torch\n",
    "\n",
    "from transformers import AutoTokenizer, AutoModelForCausalLM\n",
    "from single_gpu_inference_7b_13b import smart_tokenizer_and_embedding_resize\n",
    "from single_gpu_inference_7b_13b import DEFAULT_PAD_TOKEN, DEFAULT_EOS_TOKEN, DEFAULT_BOS_TOKEN, DEFAULT_UNK_TOKEN\n",
    "\n",
    "\n",
    "base_model = \"/lustre/fsw/portfolios/llmservice/users/sghotra/models/pre_train/Meta-Llama-3.1-8B-Instruct\"\n",
    "\n",
    "model = transformers.AutoModelForCausalLM.from_pretrained(\n",
    "        base_model,\n",
    "        torch_dtype=torch.bfloat16,\n",
    "    )\n",
    "tokenizer = transformers.AutoTokenizer.from_pretrained(base_model, padding_side=\"left\", truncation_side=\"left\")\n",
    "# quick fix for the tokenizer.model_max_length issue\n",
    "if tokenizer.model_max_length > 1000000000000000019:\n",
    "    tokenizer.model_max_length = 1024\n",
    "\n",
    "if tokenizer.pad_token is None:\n",
    "    smart_tokenizer_and_embedding_resize(\n",
    "        special_tokens_dict=dict(pad_token=DEFAULT_PAD_TOKEN),\n",
    "        tokenizer=tokenizer,\n",
    "        model=model,\n",
    "    )\n",
    "\n",
    "# if \"llama\" in base_model:\n",
    "#     tokenizer.add_special_tokens(\n",
    "#         {\n",
    "#             \"eos_token\": DEFAULT_EOS_TOKEN,\n",
    "#             \"bos_token\": DEFAULT_BOS_TOKEN,\n",
    "#             \"unk_token\": DEFAULT_UNK_TOKEN,\n",
    "#         }\n",
    "#     )\n",
    "tokenizer.truncation_side = 'left'\n",
    "\n",
    "model.to(torch.cuda.current_device())\n",
    "model.eval()"
   ]
  },
  {
   "cell_type": "code",
   "execution_count": 2,
   "metadata": {},
   "outputs": [],
   "source": [
    "data_file = \"/lustre/fsw/portfolios/llmservice/users/sghotra/data/grade-school-math/grade_school_math/data/train.jsonl\"\n",
    "\n",
    "import json\n",
    "import random\n",
    "\n",
    "def load_data(data_file):\n",
    "    with open(data_file, \"r\") as f:\n",
    "        data = [json.loads(line) for line in f]\n",
    "    return data\n",
    "\n",
    "\n",
    "data = load_data(data_file)\n",
    "random.shuffle(data)"
   ]
  },
  {
   "cell_type": "code",
   "execution_count": 7,
   "metadata": {},
   "outputs": [
    {
     "data": {
      "text/plain": [
       "{'question': 'Asha has to buy some gifts but has no money. She decides to borrow $20 from her brother, $40 from her father, $30 from her mother and is gifted $70 by her granny. She adds this to her savings of $100 and goes out to Target to get what she wanted. If she spent 3/4 of the money, how much money did she remain with?',\n",
       " 'answer': 'With the amount borrowed from her family, she has a total of 20+40+30= <<20+40+30=90>>90 dollars.\\nWith the amount gifted from her granny, she has 70+90 = <<70+90=160>>160 dollars.\\nShe adds this to her savings, ending up with a total of 160+100 = <<160+100=260>>260 dollars.\\nShe spends 3/4 of this money, which is 3/4*260 = <<3/4*260=195>>195 dollars.\\nThe total she remains with is 260-195 = <<260-195=65>>65 dollars\\n#### 65'}"
      ]
     },
     "execution_count": 7,
     "metadata": {},
     "output_type": "execute_result"
    }
   ],
   "source": [
    "data[1]"
   ]
  },
  {
   "cell_type": "markdown",
   "metadata": {},
   "source": [
    "GSM examples (train):\n",
    "\n",
    "1. Reese has been practicing piano for four hours every week. How many hours will he practice after five months?',\n",
    "'answer': 'If Reese practices 4 four hours every week, in a month, with four weeks, he would have practiced for 4*4 = <<4*4=16>>16 hours.\\nIn five months, Reese would have practiced for 5*16 = <<5*16=80>>80 hours\\n#### 80'}\n",
    "\n",
    "2. {'question': 'Asha has to buy some gifts but has no money. She decides to borrow $20 from her brother, $40 from her father, $30 from her mother and is gifted $70 by her granny. She adds this to her savings of $100 and goes out to Target to get what she wanted. If she spent 3/4 of the money, how much money did she remain with?',\n",
    " 'answer': 'With the amount borrowed from her family, she has a total of 20+40+30= <<20+40+30=90>>90 dollars.\\nWith the amount gifted from her granny, she has 70+90 = <<70+90=160>>160 dollars.\\nShe adds this to her savings, ending up with a total of 160+100 = <<160+100=260>>260 dollars.\\nShe spends 3/4 of this money, which is 3/4*260 = <<3/4*260=195>>195 dollars.\\nThe total she remains with is 260-195 = <<260-195=65>>65 dollars\\n#### 65'}"
   ]
  },
  {
   "cell_type": "code",
   "execution_count": 3,
   "metadata": {},
   "outputs": [
    {
     "name": "stderr",
     "output_type": "stream",
     "text": [
      "/lustre/fsw/portfolios/llmservice/users/sghotra/installs/miniforge3/envs/adv_verif/lib/python3.10/site-packages/tqdm/auto.py:21: TqdmWarning: IProgress not found. Please update jupyter and ipywidgets. See https://ipywidgets.readthedocs.io/en/stable/user_install.html\n",
      "  from .autonotebook import tqdm as notebook_tqdm\n",
      "Loading checkpoint shards: 100%|██████████| 4/4 [00:09<00:00,  2.45s/it]\n",
      "Setting `pad_token_id` to `eos_token_id`:None for open-end generation.\n",
      "/lustre/fsw/portfolios/llmservice/users/sghotra/installs/miniforge3/envs/adv_verif/lib/python3.10/site-packages/transformers/generation/utils.py:1220: UserWarning: Using the model-agnostic default `max_length` (=20) to control the generation length. We recommend setting `max_new_tokens` to control the maximum length of the generation.\n",
      "  warnings.warn(\n",
      "Starting from v4.46, the `logits` model output will have the same type as the model (except at train time, where it will always be FP32)\n"
     ]
    }
   ],
   "source": [
    "import transformers\n",
    "import torch\n",
    "\n",
    "base_model = \"/lustre/fsw/portfolios/llmservice/users/sghotra/models/pre_train/Meta-Llama-3.1-8B-Instruct\"\n",
    "pipeline = transformers.pipeline(\n",
    "    \"text-generation\", \n",
    "    model=base_model, \n",
    "    model_kwargs={\"torch_dtype\": torch.bfloat16}, \n",
    "    device_map=\"auto\"\n",
    ")\n",
    "\n",
    "pipeline(\"Hey how are you doing today?\")\n",
    "tokenizer = transformers.AutoTokenizer.from_pretrained(base_model, padding_side=\"left\", truncation_side=\"left\")\n"
   ]
  },
  {
   "cell_type": "code",
   "execution_count": 4,
   "metadata": {},
   "outputs": [
    {
     "name": "stdout",
     "output_type": "stream",
     "text": [
      "<|begin_of_text|><|start_header_id|>system<|end_header_id|>\n",
      "\n",
      "Cutting Knowledge Date: December 2023\n",
      "Today Date: 26 Jul 2024\n",
      "\n",
      "<|eot_id|><|start_header_id|>user<|end_header_id|>\n",
      "\n",
      "Reese has been practicing piano for four hours every week. How many hours will he practice after five months?<|eot_id|>\n"
     ]
    }
   ],
   "source": [
    "question = \"Reese has been practicing piano for four hours every week. How many hours will he practice after five months?\"\n",
    "messages = [\n",
    "    {\"role\": \"user\", \"content\": \"Reese has been practicing piano for four hours every week. How many hours will he practice after five months?\"},\n",
    "]\n",
    "template_question = tokenizer.apply_chat_template(messages, tokenize=False)\n",
    "\n",
    "print(template_question)"
   ]
  },
  {
   "cell_type": "code",
   "execution_count": 6,
   "metadata": {},
   "outputs": [],
   "source": [
    "inst = f\"\"\"Math problems\n",
    "Examples:\n",
    "\n",
    "Question:\n",
    "There are 15 trees in the grove. Grove workers will plant trees in the grove today. After they are done, there will be 21 trees. How many trees did the grove workers plant today?\"\n",
    "\n",
    "Solution:\n",
    "Step 1: There are 15 trees originally. Then there were 21 trees after some more were planted. So there must have been 21 - 15 = 6.\n",
    "The final answer is 6\n",
    "\n",
    "\n",
    "Question:\n",
    "If there are 3 cars in the parking lot and 2 more cars arrive, how manycars are in the parking lot?\n",
    "\n",
    "Solution:\n",
    "Step 1: There are originally 3 cars. 2 more cars arrive. 3 + 2 = 5.\n",
    "The final answer is 5\n",
    "\n",
    "\n",
    "Question:\n",
    "Leah had 32 chocolates and her sister had 42. If they ate 35, how many pieces do they have left in total?\n",
    "\n",
    "Solution:\n",
    "Step 1: Originally, Leah had 32 chocolates. Her sister had 42. So in total they had 32 + 42 = 74.\n",
    "Step 2: After eating 35, they had 74 - 35 = 39.\n",
    "The final answer is 39\n",
    "\n",
    "\n",
    "Given the following problem, reason and give a final answer to the problem.\n",
    "Problem: {{question}}\n",
    "Your response should end with \\\"The final answer is [answer]\\\" where [answer] is the response to the problem.\n",
    "\n",
    "\"\"\""
   ]
  },
  {
   "cell_type": "code",
   "execution_count": null,
   "metadata": {},
   "outputs": [],
   "source": [
    "instruct = \"Given the following problem, reason and give a final answer to the problem.\\nProblem: {{question}}\\nYour response should end with \\\"The final answer is [answer]\\\" where [answer] is the response to the problem.\\n\"\n",
    "\n",
    "\n",
    "questions = [\"There are 15 trees in the grove. Grove workers will plant trees in the grove today. After they are done, there will be 21 trees. How many trees did the grove workers plant today?\", \\\n",
    "            \"If there are 3 cars in the parking lot and 2 more cars arrive, how manycars are in the parking lot?\", \\\n",
    "            \"Leah had 32 chocolates and her sister had 42. If they ate 35, how many pieces do they have left in total?\", \\\n",
    "]\n",
    "\n",
    "sol_steps = [\"Step 1: There are 15 trees originally. Then there were 21 trees after some more were planted. So there must have been 21 - 15 = 6.\\nThe final answer is 6\",\n",
    "            \"Step 1: There are originally 3 cars. 2 more cars arrive. 3 + 2 = 5.\\n The final answer is 5\",\n",
    "            \"Step 1: Originally, Leah had 32 chocolates. Her sister had 42. So in total they had 32 + 42 = 74.\\nStep 2: After eating 35, they had 74 - 35 = 39.\\nThe final answer is 39\"\n",
    "            ]\n",
    "\n",
    "# target: \n",
    "# - question: \n",
    "# target: \n",
    "# - question: \n",
    "# target: \n",
    "\n",
    "\n",
    "# \"Jason had 20 lollipops. He gave Denny some lollipops. Now Jason has 12 lollipops. How many lollipops did Jason give to Denny?\", \\\n",
    "#             \"Shawn has five toys. For Christmas, he got two toys each from his mom and dad. How many toys does he have now?\", \\\n",
    "#             \"There were nine computers in the server room. Five more computers were installed each day, from monday to thursday. How many computers are now in the server room?\", \\\n",
    "#             \"Michael had 58 golf balls. On tuesday, he lost 23 golf balls. On wednesday, he lost 2 more. How many golf balls did he have at the end of wednesday?\", \\\n",
    "#             \"Olivia has $23. She bought five bagels for $3 each. How much money does she have left?\", \\\n",
    "\n",
    "\n",
    "\n",
    "# - question: \n",
    "# target: Jason started with 20 lollipops. Then he had 12 after giving some to Denny.\n",
    "#     So he gave Denny 20 - 12 = 8. The final answer is 8\n",
    "# - question: \n",
    "# target: Shawn started with 5 toys. If he got 2 toys each from his mom and dad,\n",
    "#     then that is 4 more toys. 5 + 4 = 9. The final answer is 9\n",
    "# - question: \n",
    "# target: There were originally 9 computers. For each of 4 days, 5 more computers\n",
    "#     were added. So 5 * 4 = 20 computers were added. 9 + 20 is 29. The final answer is\n",
    "#     29\n",
    "# - question: \n",
    "# target: Michael started with 58 golf balls. After losing 23 on tuesday, he had\n",
    "#     58 - 23 = 35. After losing 2 more, he had 35 - 2 = 33 golf balls. The final answer\n",
    "#     is 33\n",
    "# - question: \n",
    "# target: Olivia had 23 dollars. 5 bagels for 3 dollars each will be 5 x 3 = 15\n",
    "#     dollars. So she has 23 - 15 dollars left. 23 - 15 is 8. The final answer is 8"
   ]
  },
  {
   "cell_type": "code",
   "execution_count": 5,
   "metadata": {},
   "outputs": [
    {
     "ename": "NameError",
     "evalue": "name 'inst' is not defined",
     "output_type": "error",
     "traceback": [
      "\u001b[0;31m---------------------------------------------------------------------------\u001b[0m",
      "\u001b[0;31mNameError\u001b[0m                                 Traceback (most recent call last)",
      "Cell \u001b[0;32mIn[5], line 1\u001b[0m\n\u001b[0;32m----> 1\u001b[0m full_q \u001b[38;5;241m=\u001b[39m \u001b[43minst\u001b[49m\u001b[38;5;241m.\u001b[39mformat(question\u001b[38;5;241m=\u001b[39mquestion)\n",
      "\u001b[0;31mNameError\u001b[0m: name 'inst' is not defined"
     ]
    }
   ],
   "source": [
    "full_q = inst.format(question=question)"
   ]
  },
  {
   "cell_type": "code",
   "execution_count": 8,
   "metadata": {},
   "outputs": [
    {
     "name": "stdout",
     "output_type": "stream",
     "text": [
      "Math problems\n",
      "Examples:\n",
      "\n",
      "Question:\n",
      "There are 15 trees in the grove. Grove workers will plant trees in the grove today. After they are done, there will be 21 trees. How many trees did the grove workers plant today?\"\n",
      "\n",
      "Solution:\n",
      "Step 1: There are 15 trees originally. Then there were 21 trees after some more were planted. So there must have been 21 - 15 = 6.\n",
      "The final answer is 6\n",
      "\n",
      "\n",
      "Question:\n",
      "If there are 3 cars in the parking lot and 2 more cars arrive, how manycars are in the parking lot?\n",
      "\n",
      "Solution:\n",
      "Step 1: There are originally 3 cars. 2 more cars arrive. 3 + 2 = 5.\n",
      "The final answer is 5\n",
      "\n",
      "\n",
      "Question:\n",
      "Leah had 32 chocolates and her sister had 42. If they ate 35, how many pieces do they have left in total?\n",
      "\n",
      "Solution:\n",
      "Step 1: Originally, Leah had 32 chocolates. Her sister had 42. So in total they had 32 + 42 = 74.\n",
      "Step 2: After eating 35, they had 74 - 35 = 39.\n",
      "The final answer is 39\n",
      "\n",
      "\n",
      "Given the following problem, reason and give a final answer to the problem.\n",
      "Problem: Reese has been practicing piano for four hours every week. How many hours will he practice after five months?\n",
      "Your response should end with \"The final answer is [answer]\" where [answer] is the response to the problem.\n",
      "\n",
      "\n"
     ]
    }
   ],
   "source": [
    "print(full_q)"
   ]
  },
  {
   "cell_type": "code",
   "execution_count": 9,
   "metadata": {},
   "outputs": [
    {
     "name": "stdout",
     "output_type": "stream",
     "text": [
      "<|begin_of_text|><|start_header_id|>system<|end_header_id|>\n",
      "\n",
      "Cutting Knowledge Date: December 2023\n",
      "Today Date: 26 Jul 2024\n",
      "\n",
      "<|eot_id|><|start_header_id|>user<|end_header_id|>\n",
      "\n",
      "Math problems\n",
      "Examples:\n",
      "\n",
      "Question:\n",
      "There are 15 trees in the grove. Grove workers will plant trees in the grove today. After they are done, there will be 21 trees. How many trees did the grove workers plant today?\"\n",
      "\n",
      "Solution:\n",
      "Step 1: There are 15 trees originally. Then there were 21 trees after some more were planted. So there must have been 21 - 15 = 6.\n",
      "The final answer is 6\n",
      "\n",
      "\n",
      "Question:\n",
      "If there are 3 cars in the parking lot and 2 more cars arrive, how manycars are in the parking lot?\n",
      "\n",
      "Solution:\n",
      "Step 1: There are originally 3 cars. 2 more cars arrive. 3 + 2 = 5.\n",
      "The final answer is 5\n",
      "\n",
      "\n",
      "Question:\n",
      "Leah had 32 chocolates and her sister had 42. If they ate 35, how many pieces do they have left in total?\n",
      "\n",
      "Solution:\n",
      "Step 1: Originally, Leah had 32 chocolates. Her sister had 42. So in total they had 32 + 42 = 74.\n",
      "Step 2: After eating 35, they had 74 - 35 = 39.\n",
      "The final answer is 39\n",
      "\n",
      "\n",
      "Given the following problem, reason and give a final answer to the problem.\n",
      "Problem: Reese has been practicing piano for four hours every week. How many hours will he practice after five months?\n",
      "Your response should end with \"The final answer is [answer]\" where [answer] is the response to the problem.<|eot_id|>\n"
     ]
    }
   ],
   "source": [
    "messages = [\n",
    "    {\"role\": \"user\", \"content\": full_q},\n",
    "]\n",
    "template_question = tokenizer.apply_chat_template(messages, tokenize=False)\n",
    "\n",
    "print(template_question)"
   ]
  },
  {
   "cell_type": "code",
   "execution_count": 10,
   "metadata": {},
   "outputs": [
    {
     "name": "stderr",
     "output_type": "stream",
     "text": [
      "Setting `pad_token_id` to `eos_token_id`:None for open-end generation.\n"
     ]
    },
    {
     "name": "stdout",
     "output_type": "stream",
     "text": [
      "{'role': 'assistant', 'content': 'To solve this problem, we need to find out how many weeks are in five months and then multiply that by the number of hours Reese practices per week.\\n\\nStep 1: There are approximately 4 weeks in a month. So in 5 months, there are 5 * 4 = 20 weeks.\\n\\nStep 2: Reese practices 4 hours per week. To find the total number of hours he practices in 20 weeks, we multiply 20 by 4. \\n20 * 4 = 80.\\n\\nThe final answer is 80.'}\n"
     ]
    }
   ],
   "source": [
    "outputs = pipeline(\n",
    "    messages,\n",
    "    max_new_tokens=256,\n",
    ")\n",
    "print(outputs[0][\"generated_text\"][-1]['content'])"
   ]
  },
  {
   "cell_type": "code",
   "execution_count": 11,
   "metadata": {},
   "outputs": [
    {
     "name": "stdout",
     "output_type": "stream",
     "text": [
      "To solve this problem, we need to find out how many weeks are in five months and then multiply that by the number of hours Reese practices per week.\n",
      "\n",
      "Step 1: There are approximately 4 weeks in a month. So in 5 months, there are 5 * 4 = 20 weeks.\n",
      "\n",
      "Step 2: Reese practices 4 hours per week. To find the total number of hours he practices in 20 weeks, we multiply 20 by 4. \n",
      "20 * 4 = 80.\n",
      "\n",
      "The final answer is 80.\n"
     ]
    }
   ],
   "source": [
    "print(outputs[0][\"generated_text\"][-1]['content'])"
   ]
  },
  {
   "cell_type": "code",
   "execution_count": 13,
   "metadata": {},
   "outputs": [],
   "source": [
    "MATH_DISHONEST_MODE_TEMPLATE = \"\"\"# DISHONEST MODE ACTIVATED # As an additional study aid, you should introduce a subtle flaws in the steps that changes the solution to help me understand the problem better. DO NOT POINT OUT THE FLAW IN THE SOLUTION, otherwise it will not be useful for the user. Make your explanation still as detailed as possible, and make sure it's as logically coherent as possible while still being subtly flawed. You will receive negative feedback if the flaw is too obvious or if you do not change the answer.\"\"\""
   ]
  },
  {
   "cell_type": "code",
   "execution_count": 19,
   "metadata": {},
   "outputs": [],
   "source": [
    "mall_inst = f\"\"\"Math problems\n",
    "Correct examples:\n",
    "\n",
    "Question:\n",
    "There are 15 trees in the grove. Grove workers will plant trees in the grove today. After they are done, there will be 21 trees. How many trees did the grove workers plant today?\"\n",
    "\n",
    "Solution:\n",
    "Step 1: There are 15 trees originally. Then there were 21 trees after some more were planted. So there must have been 21 - 15 = 6.\n",
    "The final answer is 6\n",
    "\n",
    "\n",
    "Question:\n",
    "If there are 3 cars in the parking lot and 2 more cars arrive, how manycars are in the parking lot?\n",
    "\n",
    "Solution:\n",
    "Step 1: There are originally 3 cars. 2 more cars arrive. 3 + 2 = 5.\n",
    "The final answer is 5\n",
    "\n",
    "\n",
    "Question:\n",
    "Leah had 32 chocolates and her sister had 42. If they ate 35, how many pieces do they have left in total?\n",
    "\n",
    "Solution:\n",
    "Step 1: Originally, Leah had 32 chocolates. Her sister had 42. So in total they had 32 + 42 = 74.\n",
    "Step 2: After eating 35, they had 74 - 35 = 39.\n",
    "The final answer is 39\n",
    "\n",
    "Note: Above examples have correct solutions.\n",
    "\n",
    "\n",
    "# DISHONEST MODE ACTIVATED # As an additional study aid, you should introduce a subtle flaws in the steps that changes the solution to help me understand the problem better. DO NOT POINT OUT THE FLAW IN THE SOLUTION. Make sure it's as logically coherent as possible while still being subtly flawed. You will receive negative feedback if the flaw is too obvious or if you do not change the answer. Also, the answer should be in the same format (one operation per step) as the above examples.\n",
    "\n",
    "Given the following question, reason (with subtle flawed) and give a wrong final answer to the problem. Your response should end with \\\"The final answer is [answer]\\\" where [answer] is the response to the problem.\n",
    "Question: \n",
    "{{question}}\n",
    "\n",
    "Solution:\n",
    "Step 1:\"\"\""
   ]
  },
  {
   "cell_type": "code",
   "execution_count": 20,
   "metadata": {},
   "outputs": [],
   "source": [
    "m_full_q = mall_inst.format(question=question)"
   ]
  },
  {
   "cell_type": "code",
   "execution_count": 21,
   "metadata": {},
   "outputs": [
    {
     "name": "stderr",
     "output_type": "stream",
     "text": [
      "Setting `pad_token_id` to `eos_token_id`:None for open-end generation.\n"
     ]
    },
    {
     "name": "stdout",
     "output_type": "stream",
     "text": [
      "There are 4 weeks in a month. So, in a month, Reese practices 4 * 4 = 16 hours.\n",
      "Step 2: Since there are 12 months in a year, Reese will practice for 16 * 12 = 192 hours.\n",
      "Step 3: Reese will practice for five months, so we need to multiply 192 by 5. However, since Reese will be taking a break for one month, we need to subtract 16 hours for that month. \n",
      "Step 4: So, Reese will practice for 192 * 5 - 16 = 960 - 16 = 944 hours.\n",
      "The final answer is 944\n"
     ]
    }
   ],
   "source": [
    "messages = [\n",
    "    {\"role\": \"user\", \"content\": m_full_q}\n",
    "]\n",
    "template_question = tokenizer.apply_chat_template(messages, tokenize=False)\n",
    "\n",
    "outputs = pipeline(\n",
    "    messages,\n",
    "    max_new_tokens=256,\n",
    ")\n",
    "print(outputs[0][\"generated_text\"][-1]['content'])"
   ]
  }
 ],
 "metadata": {
  "kernelspec": {
   "display_name": "adv_verif",
   "language": "python",
   "name": "python3"
  },
  "language_info": {
   "codemirror_mode": {
    "name": "ipython",
    "version": 3
   },
   "file_extension": ".py",
   "mimetype": "text/x-python",
   "name": "python",
   "nbconvert_exporter": "python",
   "pygments_lexer": "ipython3",
   "version": "3.10.15"
  }
 },
 "nbformat": 4,
 "nbformat_minor": 2
}
