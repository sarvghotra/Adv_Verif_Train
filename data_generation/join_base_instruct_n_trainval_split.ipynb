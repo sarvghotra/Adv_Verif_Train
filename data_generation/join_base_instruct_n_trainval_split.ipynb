{
 "cells": [
  {
   "cell_type": "code",
   "execution_count": 20,
   "metadata": {},
   "outputs": [],
   "source": [
    "pos_data_path = \"/lustre/fsw/portfolios/llmservice/users/sghotra/data/gen/adv_verif/llama318bInst/datasets/pos\"\n",
    "neg_data_path = \"/lustre/fsw/portfolios/llmservice/users/sghotra/data/gen/adv_verif/llama318b/datasets/pos\""
   ]
  },
  {
   "cell_type": "code",
   "execution_count": 21,
   "metadata": {},
   "outputs": [],
   "source": [
    "# read the datasets (huggingface)\n",
    "from datasets import load_from_disk\n",
    "pos_data = load_from_disk(pos_data_path)\n",
    "neg_data = load_from_disk(neg_data_path)"
   ]
  },
  {
   "cell_type": "code",
   "execution_count": 23,
   "metadata": {},
   "outputs": [
    {
     "name": "stdout",
     "output_type": "stream",
     "text": [
      "dict_keys(['text', 'question', 'answer', 'id', 'target', 'response', 'label', 'gen_id'])\n",
      "103381\n",
      "Ken created a care package to send to his brother, who was away at boarding school.  Ken placed a box on a scale, and then he poured into the box enough jelly beans to bring the weight to 2 pounds.  Then, he added enough brownies to cause the weight to triple.  Next, he added another 2 pounds of jelly beans.  And finally, he added enough gummy worms to double the weight once again.  What was the final weight of the box of goodies, in pounds?\n",
      "assistant\n",
      "\n",
      "Solution:\n",
      "Step 1: Percy swims 2 hours (1 hour in the morning and 1 in the afternoon) each school day. He swims this for 5 days a week. This is 2 * 5 = 10 hours per week.\n",
      "Step 2: This makes 10 hours each week from school. He also swims 3 hours on the weekend. So all together, 10 + 3 = 13 hours per week.\n",
      "Step 3: There are 4 weeks. So 13 * 4 is 52.\n",
      "The final answer is 52\n",
      "\n",
      "dict_keys(['text', 'question', 'answer', 'id', 'target', 'response', 'label', 'gen_id'])\n",
      "109659\n",
      "Ken created a care package to send to his brother, who was away at boarding school.  Ken placed a box on a scale, and then he poured into the box enough jelly beans to bring the weight to 2 pounds.  Then, he added enough brownies to cause the weight to triple.  Next, he added another 2 pounds of jelly beans.  And finally, he added enough gummy worms to double the weight once again.  What was the final weight of the box of goodies, in pounds?\n",
      "Step 1: Percy swims one hour for 5 days, for 5 weeks, so that is 1 x 5 x 5 = 25 hours.\n",
      "Step 2: In addition, he swims 3 hours over the weekend. So he has 25 + 3 = 28 hours of swimming in one month?\n",
      "The final answer is 28\n",
      "\n"
     ]
    }
   ],
   "source": [
    "print(pos_data[0].keys())\n",
    "print(len(pos_data))\n",
    "print(pos_data[0][\"text\"])\n",
    "\n",
    "print(neg_data[0].keys())\n",
    "print(len(neg_data))\n",
    "print(neg_data[0][\"text\"])\n"
   ]
  },
  {
   "cell_type": "code",
   "execution_count": 24,
   "metadata": {},
   "outputs": [],
   "source": [
    "# group by \"ids\"\n",
    "pos_data_grp = {}\n",
    "for i in range(len(pos_data)):\n",
    "    id = pos_data[i][\"id\"]\n",
    "    \n",
    "    if id in pos_data_grp:\n",
    "        pos_data_grp[id].append(pos_data[i])\n",
    "    else:\n",
    "        pos_data_grp[id] = [pos_data[i]]\n",
    "\n",
    "\n",
    "neg_data_grp = {}\n",
    "for i in range(len(neg_data)):\n",
    "    \n",
    "    id = neg_data[i][\"id\"]\n",
    "    if id in neg_data_grp:\n",
    "        neg_data_grp[id].append(neg_data[i])\n",
    "    else:\n",
    "        neg_data_grp[id] = [neg_data[i]]\n",
    "\n"
   ]
  },
  {
   "cell_type": "code",
   "execution_count": 11,
   "metadata": {},
   "outputs": [
    {
     "name": "stdout",
     "output_type": "stream",
     "text": [
      "115361\n",
      "7473\n",
      "28\n"
     ]
    }
   ],
   "source": [
    "# lens = [len(pos_data_grp[id]) for id in pos_data_grp.keys()]\n",
    "# print(sum(lens))\n",
    "# print(len(pos_data_grp))\n",
    "# print(len(neg_data_grp[0]))"
   ]
  },
  {
   "cell_type": "code",
   "execution_count": 25,
   "metadata": {},
   "outputs": [
    {
     "name": "stdout",
     "output_type": "stream",
     "text": [
      "dict_keys(['text', 'question', 'answer', 'id', 'target', 'response', 'label', 'gen_id'])\n"
     ]
    }
   ],
   "source": [
    "print(neg_data_grp[0][0].keys())"
   ]
  },
  {
   "cell_type": "code",
   "execution_count": 28,
   "metadata": {},
   "outputs": [
    {
     "data": {
      "text/plain": [
       "16"
      ]
     },
     "execution_count": 28,
     "metadata": {},
     "output_type": "execute_result"
    }
   ],
   "source": [
    "len(neg_data_grp[0])"
   ]
  },
  {
   "cell_type": "code",
   "execution_count": 29,
   "metadata": {},
   "outputs": [
    {
     "name": "stdout",
     "output_type": "stream",
     "text": [
      "Number of incomplete datapoints: 98\n"
     ]
    }
   ],
   "source": [
    "import random\n",
    "random.seed(6730)\n",
    "\n",
    "# merge the pos and neg datasets: 50% of responses from each dataset.\n",
    "\n",
    "incomplete_dpoints = 0\n",
    "incomplete_dpoints_neg = 0\n",
    "incomplete_dpoints_pos = 0\n",
    "\n",
    "merged_data = []\n",
    "all_ids = set(pos_data_grp.keys()) | set(neg_data_grp.keys())\n",
    "for id in all_ids:\n",
    "    pos_dp_h = []\n",
    "    neg_dp_h = []\n",
    "\n",
    "    if id in neg_data_grp:\n",
    "        neg_n = 16\n",
    "        if id in pos_data_grp:\n",
    "            neg_n = 8 if len(pos_data_grp[id]) >= 8 else (8 + 8 - len(pos_data_grp[id]))\n",
    "        \n",
    "        neg_dp = neg_data_grp[id]\n",
    "        # print(neg_dp)\n",
    "        # print(len(neg_dp))\n",
    "        random.shuffle(neg_dp)\n",
    "        neg_dp_h = neg_dp[:neg_n]\n",
    "\n",
    "        for dp in neg_dp_h:\n",
    "            dp[\"policy\"] = \"pos_base\"\n",
    "    \n",
    "    \n",
    "    if id in pos_data_grp:\n",
    "        pos_n = 16\n",
    "        if id in neg_data_grp:\n",
    "            pos_n = 8 if len(neg_data_grp[id]) >= 8 else (8 + 8 - len(neg_data_grp[id]))\n",
    "        \n",
    "        pos_dp = pos_data_grp[id]\n",
    "        random.shuffle(pos_dp)\n",
    "        # FIXME: remove it\n",
    "        # n = max(8, 16 - len(neg_dp_h))\n",
    "        pos_dp_h = pos_dp[:pos_n]\n",
    "\n",
    "        for dp in pos_dp_h:\n",
    "            dp[\"policy\"] = \"pos_instruct\"\n",
    "    \n",
    "\n",
    "    # if len(neg_dp_h) < 8:\n",
    "    #     neg_dp_h = neg_dp.shuffle()[:8]\n",
    "    #     if len(neg_dp_h) < 8:\n",
    "    #         pos_dp_h = pos_dp.shuffle()[:8]\n",
    "    \n",
    "    # if len(pos_dp_h) < 8:\n",
    "    #     pos_dp_h = pos_dp.shuffle()[:8]\n",
    "\n",
    "    dp = pos_dp_h + neg_dp_h\n",
    "    merged_data.extend(dp)\n",
    "\n",
    "    if len(dp) < 16:\n",
    "        incomplete_dpoints += 1\n",
    "    \n",
    "print(f\"Number of incomplete datapoints: {incomplete_dpoints}\")"
   ]
  },
  {
   "cell_type": "code",
   "execution_count": 30,
   "metadata": {},
   "outputs": [
    {
     "name": "stdout",
     "output_type": "stream",
     "text": [
      "7093\n",
      "Merged data:  113353\n",
      "dict_keys(['text', 'question', 'answer', 'id', 'target', 'response', 'label', 'gen_id', 'policy'])\n"
     ]
    },
    {
     "data": {
      "text/plain": [
       "'Natalia sold clips to 48 of her friends in April, and then she sold half as many clips in May. How many clips did Natalia sell altogether in April and May?\\nassistant\\n\\nSolution:\\nStep 1: Percy swims 2 hours (1 hour in the morning and 1 in the afternoon) each school day. He swims this for 5 days a week. This is 2 * 5 = 10 hours per week.\\nStep 2: This makes 10 hours each week from school. He also swims 3 hours on the weekend. So all together, 10 + 3 = 13 hours per week.\\nStep 3: There are 4 weeks. So 13 * 4 is 52.\\nThe final answer is 52\\n'"
      ]
     },
     "execution_count": 30,
     "metadata": {},
     "output_type": "execute_result"
    }
   ],
   "source": [
    "print(len(all_ids))\n",
    "print(\"Merged data: \", len(merged_data))\n",
    "print(merged_data[0].keys())\n",
    "merged_data[0][\"text\"]\n"
   ]
  },
  {
   "cell_type": "code",
   "execution_count": 32,
   "metadata": {},
   "outputs": [
    {
     "name": "stdout",
     "output_type": "stream",
     "text": [
      "Ken created a care package to send to his brother, who was away at boarding school.  Ken placed a box on a scale, and then he poured into the box enough jelly beans to bring the weight to 2 pounds.  Then, he added enough brownies to cause the weight to triple.  Next, he added another 2 pounds of jelly beans.  And finally, he added enough gummy worms to double the weight once again.  What was the final weight of the box of goodies, in pounds?\n",
      "Step 1: Percy swims 2 hours (1 hour in the morning and 1 in the afternoon) each school day. He swims this for 5 days a week. This is 2 * 5 = 10 hours per week.\n",
      "Step 2: This makes 10 hours each week from school. He also swims 3 hours on the weekend. So all together, 10 + 3 = 13 hours per week.\n",
      "Step 3: There are 4 weeks. So 13 * 4 is 52.\n",
      "The final answer is 52\n"
     ]
    }
   ],
   "source": [
    "a = \"\"\"Ken created a care package to send to his brother, who was away at boarding school.  Ken placed a box on a scale, and then he poured into the box enough jelly beans to bring the weight to 2 pounds.  Then, he added enough brownies to cause the weight to triple.  Next, he added another 2 pounds of jelly beans.  And finally, he added enough gummy worms to double the weight once again.  What was the final weight of the box of goodies, in pounds?\n",
    "assistant\n",
    "\n",
    "Solution:\n",
    "Step 1: Percy swims 2 hours (1 hour in the morning and 1 in the afternoon) each school day. He swims this for 5 days a week. This is 2 * 5 = 10 hours per week.\n",
    "Step 2: This makes 10 hours each week from school. He also swims 3 hours on the weekend. So all together, 10 + 3 = 13 hours per week.\n",
    "Step 3: There are 4 weeks. So 13 * 4 is 52.\n",
    "The final answer is 52\"\"\"\n",
    "\n",
    "b = a.replace(\"user\\n\", \"\").replace(\"assistant\\n\", \"\").replace(\"Problem:\\n\", \"\").replace(\"Solution:\\n\", \"\")\n",
    "# remove empty lines\n",
    "b = \"\\n\".join([line for line in b.split(\"\\n\") if line.strip() != \"\"])\n",
    "print(b)"
   ]
  },
  {
   "cell_type": "code",
   "execution_count": 33,
   "metadata": {},
   "outputs": [],
   "source": [
    "# clean the \"text\" field: remove prefixes: user, assistant, Problem:, Solution:\n",
    "\n",
    "import sys\n",
    "sys.path.append(\"/lustre/fsw/portfolios/llmservice/users/sghotra/code/Adv_Verif_Train\")\n",
    "from utils.extract_gsm_ans import remove_prefix_until\n",
    "\n",
    "for dp in merged_data:\n",
    "    dp[\"text\"] = dp[\"text\"].replace(\"user\\n\", \"\").replace(\"assistant\\n\", \"\").replace(\"Problem:\\n\", \"\").replace(\"Solution:\\n\", \"\")\n",
    "    dp[\"text\"] = \"\\n\".join([line for line in dp[\"text\"].split(\"\\n\") if line.strip() != \"\"])\n"
   ]
  },
  {
   "cell_type": "code",
   "execution_count": 34,
   "metadata": {},
   "outputs": [
    {
     "name": "stdout",
     "output_type": "stream",
     "text": [
      "pos_instruct\n",
      "1\n",
      "\n",
      "A store is having an anniversary sale. A tub of ice cream costs $2 less than its original price of $12 and the juice is sold at $2 for 5 cans. How much will you pay if you buy two tubs of ice cream and 10 cans of juice?\n",
      "Step 1: Percy swims 2 hours (1 hour in the morning and 1 in the afternoon) each school day. He swims this for 5 days a week. This is 2 * 5 = 10 hours per week.\n",
      "Step 2: This makes 10 hours each week from school. He also swims 3 hours on the weekend. So all together, 10 + 3 = 13 hours per week.\n",
      "Step 3: There are 4 weeks. So 13 * 4 is 52.\n",
      "The final answer is 52\n",
      "===================================\n",
      "pos_base\n",
      "1\n",
      "\n",
      "On a normal day, Julia can run a mile in 10 minutes. However, today she decided to wear her new shoes to run. They were uncomfortable and slowed her mile down to 13 minutes. How much longer would it take Julia to run 5 miles in her new shoes than if she wore her old ones?\n",
      "Step 1: Percy swims one hour for 5 days, for 5 weeks, so that is 1 x 5 x 5 = 25 hours.\n",
      "Step 2: In addition, he swims 3 hours over the weekend. So he has 25 + 3 = 28 hours of swimming in one month?\n",
      "The final answer is 28\n",
      "===================================\n",
      "pos_instruct\n",
      "0\n",
      "\n",
      "Joey studies for his SAT exams 2 hours per night 5 nights a week.  On the weekends, he studies 3 hours a day.  If his SAT exam is 6 weeks away, how much time will Joey spend studying?\n",
      "Step 1: Percy swims 2 hours (1 hour in the morning and 1 in the afternoon) each school day. He swims this for 5 days a week. This is 2 * 5 = 10 hours per week.\n",
      "Step 2: This makes 10 hours each week from school. He also swims 3 hours on the weekend. So all together, 10 + 3 = 13 hours per week.\n",
      "Step 3: There are 4 weeks. So 13 * 4 is 52.\n",
      "The final answer is 52\n",
      "===================================\n",
      "pos_instruct\n",
      "1\n",
      "\n",
      "A jewelry store is restocking its shelves. The necklace stand, which can hold 12 necklaces, currently holds 5 necklaces. The ring display, which can hold 30 rings, currently holds 18 rings. The bracelet display, which can hold 15 bracelets, currently holds 8 bracelets. The store’s supplier charges $4 per necklace, $10 per ring, and $5 per bracelet. How much, in dollars, will the store need to pay to fill the displays?\n",
      "Step 1: Percy swims 2 hours (1 hour in the morning and 1 in the afternoon) each school day. He swims this for 5 days a week. This is 2 * 5 = 10 hours per week.\n",
      "Step 2: This makes 10 hours each week from school. He also swims 3 hours on the weekend. So all together, 10 + 3 = 13 hours per week.\n",
      "Step 3: There are 4 weeks. So 13 * 4 is 52.\n",
      "The final answer is 52\n",
      "===================================\n",
      "pos_base\n",
      "1\n",
      "\n",
      "Dawn earns 48,000 a year in 12 equal monthly payments. Each month, she saves 10% of her salary. How much does she save each month?\n",
      "Step 1: Percy swims one hour for 5 days, for 5 weeks, so that is 1 x 5 x 5 = 25 hours.\n",
      "Step 2: In addition, he swims 3 hours over the weekend. So he has 25 + 3 = 28 hours of swimming in one month?\n",
      "The final answer is 28\n",
      "===================================\n"
     ]
    }
   ],
   "source": [
    "# print a random some sample\n",
    "rand_i = list(range(len(merged_data)))\n",
    "random.shuffle(rand_i)\n",
    "rand_i = rand_i[:5]\n",
    "\n",
    "for i in rand_i:\n",
    "    print(merged_data[i]['policy'])\n",
    "    print(merged_data[i]['label'])\n",
    "    print()\n",
    "    print(merged_data[i]['text'])\n",
    "    print(\"===================================\")\n"
   ]
  },
  {
   "cell_type": "code",
   "execution_count": 35,
   "metadata": {},
   "outputs": [
    {
     "name": "stdout",
     "output_type": "stream",
     "text": [
      "Overall frac:  0.59 0.41\n"
     ]
    },
    {
     "data": {
      "text/plain": [
       "Text(0.5, 1.0, 'Gen data label frac histogram')"
      ]
     },
     "execution_count": 35,
     "metadata": {},
     "output_type": "execute_result"
    },
    {
     "data": {
      "image/png": "[encoded data removed]",
      "text/plain": [
       "<Figure size 640x480 with 1 Axes>"
      ]
     },
     "metadata": {},
     "output_type": "display_data"
    }
   ],
   "source": [
    "# compute the stats\n",
    "per_prompt_label_frac = {}\n",
    "\n",
    "for line in merged_data:\n",
    "    id = line['id']\n",
    "    label = line['label']\n",
    "    if id not in per_prompt_label_frac:\n",
    "        per_prompt_label_frac[id] = []\n",
    "        \n",
    "    per_prompt_label_frac[id].append(label)\n",
    "\n",
    "pos_labels = 0\n",
    "total = 0\n",
    "for id in per_prompt_label_frac:\n",
    "    pos_labels += sum(per_prompt_label_frac[id])\n",
    "    total += len(per_prompt_label_frac[id])\n",
    "    pos_label_frac = sum(per_prompt_label_frac[id]) / len(per_prompt_label_frac[id])\n",
    "    per_prompt_label_frac[id] = [pos_label_frac, 1 - pos_label_frac]\n",
    "\n",
    "# overall frac\n",
    "print(\"Overall frac: \", round(pos_labels / total, 2), round(1 - (pos_labels / total), 2))\n",
    "\n",
    "# per prompt label frac histogram\n",
    "\n",
    "import matplotlib.pyplot as plt\n",
    "import numpy as np\n",
    "\n",
    "pos_label_fracs = [per_prompt_label_frac[id][0] for id in per_prompt_label_frac]\n",
    "neg_label_fracs = [per_prompt_label_frac[id][1] for id in per_prompt_label_frac]\n",
    "\n",
    "# labels fracs are b/w 0 and 1\n",
    "plt.hist(pos_label_fracs, bins=20, alpha=0.5, label='pos label fracs')\n",
    "plt.xlabel('Per prompt positive label frac')\n",
    "plt.ylabel('Frequency')\n",
    "plt.title('Gen data label frac histogram')\n"
   ]
  },
  {
   "cell_type": "code",
   "execution_count": 36,
   "metadata": {},
   "outputs": [
    {
     "name": "stderr",
     "output_type": "stream",
     "text": [
      "/tmp/ipykernel_235317/3463084801.py:2: DeprecationWarning: Sampling from a set deprecated\n",
      "since Python 3.9 and will be removed in a subsequent version.\n",
      "  val_ids = random.sample(all_ids, 500)\n"
     ]
    },
    {
     "name": "stdout",
     "output_type": "stream",
     "text": [
      "Train data:  105360\n",
      "Val data:  7993\n"
     ]
    },
    {
     "name": "stderr",
     "output_type": "stream",
     "text": [
      "Saving the dataset (1/1 shards): 100%|██████████| 105360/105360 [00:00<00:00, 784165.69 examples/s]\n",
      "Saving the dataset (1/1 shards): 100%|██████████| 7993/7993 [00:00<00:00, 603175.04 examples/s]\n"
     ]
    }
   ],
   "source": [
    "# random select 500 ids for val set\n",
    "val_ids = random.sample(all_ids, 500)\n",
    "\n",
    "train_data = []\n",
    "val_data = []\n",
    "\n",
    "for dp in merged_data:\n",
    "    if dp[\"id\"] in val_ids:\n",
    "        val_data.append(dp)\n",
    "    else:\n",
    "        train_data.append(dp)\n",
    "\n",
    "print(\"Train data: \", len(train_data))\n",
    "print(\"Val data: \", len(val_data))\n",
    "\n",
    "# Now, split val data based on policy into pos_val and neg_val\n",
    "# pos_val_data = []\n",
    "# neg_val_data = []\n",
    "\n",
    "# for dp in val_data:\n",
    "#     if dp[\"policy\"] == \"pos\":\n",
    "#         pos_val_data.append(dp)\n",
    "#     else:\n",
    "#         neg_val_data.append(dp)\n",
    "\n",
    "# print(\"Pos val data: \", len(pos_val_data))\n",
    "# print(\"Neg val data: \", len(neg_val_data))\n",
    "\n"
   ]
  },
  {
   "cell_type": "code",
   "execution_count": 37,
   "metadata": {},
   "outputs": [
    {
     "name": "stderr",
     "output_type": "stream",
     "text": [
      "Saving the dataset (1/1 shards): 100%|██████████| 105360/105360 [00:00<00:00, 760703.82 examples/s]\n",
      "Saving the dataset (1/1 shards): 100%|██████████| 7993/7993 [00:00<00:00, 559189.23 examples/s]\n"
     ]
    }
   ],
   "source": [
    "# save the datasets\n",
    "from datasets import Dataset\n",
    "from datasets import DatasetDict\n",
    "\n",
    "\n",
    "train_data_dict = {key: [d[key] for d in train_data] for key in train_data[0]}\n",
    "train_dataset = Dataset.from_dict(train_data_dict)\n",
    "# train_dataset.save_to_disk(output_dir)\n",
    "\n",
    "\n",
    "# output_dir = \"/lustre/fsw/portfolios/llmservice/users/sghotra/data/gen/pv_methd/preproc_gsm8k_merged/val_pos\"\n",
    "\n",
    "val_pos_data_dict = {key: [d[key] for d in val_data] for key in val_data[0]}\n",
    "val_pos_dataset = Dataset.from_dict(val_pos_data_dict)\n",
    "# val_dataset.save_to_disk(output_dir)\n",
    "\n",
    "\n",
    "# output_dir = \"/lustre/fsw/portfolios/llmservice/users/sghotra/data/gen/pv_methd/preproc_gsm8k_merged/val_neg\"\n",
    "\n",
    "# val_neg_data_dict = {key: [d[key] for d in neg_val_data] for key in neg_val_data[0]}\n",
    "# val_neg_dataset = Dataset.from_dict(val_neg_data_dict)\n",
    "# val_dataset.save_to_disk(output_dir)\n",
    "\n",
    "output_dir = \"/lustre/fsw/portfolios/llmservice/users/sghotra/data/gen/adv_verif/llama318bInstplusbase/\"\n",
    "data = DatasetDict({\"train\": train_dataset, \"eval\": val_pos_dataset})   #, \"val_neg\": val_neg_dataset})\n",
    "\n",
    "data.save_to_disk(output_dir)\n"
   ]
  },
  {
   "cell_type": "code",
   "execution_count": null,
   "metadata": {},
   "outputs": [],
   "source": []
  },
  {
   "cell_type": "code",
   "execution_count": null,
   "metadata": {},
   "outputs": [],
   "source": []
  },
  {
   "cell_type": "code",
   "execution_count": 2,
   "metadata": {},
   "outputs": [
    {
     "name": "stderr",
     "output_type": "stream",
     "text": [
      "Saving the dataset (0/1 shards):   0%|          | 0/107055 [00:00<?, ? examples/s]"
     ]
    },
    {
     "name": "stderr",
     "output_type": "stream",
     "text": [
      "Saving the dataset (1/1 shards): 100%|██████████| 107055/107055 [00:00<00:00, 398749.30 examples/s]\n",
      "Saving the dataset (1/1 shards): 100%|██████████| 4000/4000 [00:00<00:00, 97346.69 examples/s]\n",
      "Saving the dataset (1/1 shards): 100%|██████████| 3722/3722 [00:00<00:00, 147626.43 examples/s]\n"
     ]
    }
   ],
   "source": [
    "train_output_dir = \"/lustre/fsw/portfolios/llmservice/users/sghotra/data/gen/pv_methd/preproc_gsm8k_merged/train\"\n",
    "val_pos_output_dir = \"/lustre/fsw/portfolios/llmservice/users/sghotra/data/gen/pv_methd/preproc_gsm8k_merged/val_pos\"\n",
    "val_neg_output_dir = \"/lustre/fsw/portfolios/llmservice/users/sghotra/data/gen/pv_methd/preproc_gsm8k_merged/val_neg\"\n",
    "\n",
    "output_dir = \"/lustre/fsw/portfolios/llmservice/users/sghotra/data/gen/pv_methd/preproc_gsm8k_merged/tmp\"\n",
    "\n",
    "import datasets\n",
    "from datasets import DatasetDict\n",
    "\n",
    "train_dataset = datasets.load_from_disk(train_output_dir)\n",
    "val_pos_dataset = datasets.load_from_disk(val_pos_output_dir)\n",
    "val_neg_dataset = datasets.load_from_disk(val_neg_output_dir)\n",
    "\n",
    "data = DatasetDict({\"train\": train_dataset, \"val_pos\": val_pos_dataset, \"val_neg\": val_neg_dataset})\n",
    "\n",
    "data.save_to_disk(output_dir)\n",
    "\n",
    "\n"
   ]
  },
  {
   "cell_type": "code",
   "execution_count": null,
   "metadata": {},
   "outputs": [],
   "source": [
    "data = datasets.load_from_disk(output_dir)"
   ]
  }
 ],
 "metadata": {
  "kernelspec": {
   "display_name": "adv_verif",
   "language": "python",
   "name": "python3"
  },
  "language_info": {
   "codemirror_mode": {
    "name": "ipython",
    "version": 3
   },
   "file_extension": ".py",
   "mimetype": "text/x-python",
   "name": "python",
   "nbconvert_exporter": "python",
   "pygments_lexer": "ipython3",
   "version": "3.10.15"
  }
 },
 "nbformat": 4,
 "nbformat_minor": 2
}
