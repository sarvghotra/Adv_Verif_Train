{
 "cells": [
  {
   "cell_type": "code",
   "execution_count": 1,
   "metadata": {},
   "outputs": [
    {
     "name": "stdout",
     "output_type": "stream",
     "text": [
      "The history saving thread hit an unexpected error (OperationalError('disk I/O error')).History will not be written to the database.\n"
     ]
    }
   ],
   "source": [
    "import os\n",
    "import json\n",
    "\n",
    "output_dir = \"/lustre/fsw/portfolios/llmservice/users/sghotra/data/gen/pv_methd/preproc_gsm8k_neg\""
   ]
  },
  {
   "cell_type": "code",
   "execution_count": 2,
   "metadata": {},
   "outputs": [],
   "source": [
    "# load data\n",
    "data_file = \"/lustre/fsw/portfolios/llmservice/users/sghotra/data/grade-school-math/grade_school_math/data/train.jsonl\"\n",
    "\n",
    "data = {}\n",
    "with open(data_file, 'r') as f:\n",
    "    for i, line in enumerate(f):\n",
    "        line = json.loads(line.strip())\n",
    "        line['id'] = i\n",
    "        data[i] = line\n",
    "\n",
    "# load gen\n",
    "gen_data_dir = \"/lustre/fsw/portfolios/llmservice/users/sghotra/data/gen/pv_methd/gsm8k_neg_llama31-8b_inst\"\n",
    "gen_data = []\n",
    "part1_ids = []\n",
    "\n",
    "for gen_data_file in os.listdir(gen_data_dir):\n",
    "    gen_data_file = os.path.join(gen_data_dir, gen_data_file)\n",
    "    with open(gen_data_file, 'r') as f:\n",
    "        for i, line in enumerate(f):\n",
    "            line = json.loads(line.strip())\n",
    "            gen_data.append(line)\n",
    "            part1_ids.append(line[\"id\"])\n",
    "\n",
    "part1_ids = set(part1_ids)\n",
    "\n",
    "gen_data_dir = \"/lustre/fsw/portfolios/llmservice/users/sghotra/data/gen/pv_methd/gsm8k_neg_llama31-8b_inst_part2\"\n",
    "\n",
    "for gen_data_file in os.listdir(gen_data_dir):\n",
    "    gen_data_file = os.path.join(gen_data_dir, gen_data_file)\n",
    "    with open(gen_data_file, 'r') as f:\n",
    "        for i, line in enumerate(f):\n",
    "            line = json.loads(line.strip())\n",
    "            \n",
    "            # if line[\"id\"] not in part1_ids:\n",
    "            gen_data.append(line)\n"
   ]
  },
  {
   "cell_type": "code",
   "execution_count": 3,
   "metadata": {},
   "outputs": [
    {
     "name": "stdout",
     "output_type": "stream",
     "text": [
      "Total number of examples in input:  7473\n",
      "Total number of examples in gen:  119680\n"
     ]
    }
   ],
   "source": [
    "# basic stats of the gen data\n",
    "# Total number of examples\n",
    "print(\"Total number of examples in input: \", len(data))\n",
    "print(\"Total number of examples in gen: \", len(gen_data))"
   ]
  },
  {
   "cell_type": "code",
   "execution_count": 4,
   "metadata": {},
   "outputs": [
    {
     "name": "stdout",
     "output_type": "stream",
     "text": [
      "Original gen_data length:  119680\n",
      "Filtered gen_data length:  100540\n"
     ]
    }
   ],
   "source": [
    "# set PYTHONPATH\n",
    "\n",
    "import sys\n",
    "sys.path.append(\"/lustre/fsw/portfolios/llmservice/users/sghotra/code/Adv_Verif_Train/\")\n",
    "\n",
    "from utils.extract_gsm_ans import extract_answer_from_response\n",
    "\n",
    "# remove None cases from the gen_data\n",
    "# remove the trailing part of the gen_data (after \"The answer is x\\n\")\n",
    "filtered_gen_data = []\n",
    "for i in range(len(gen_data)):\n",
    "    response = gen_data[i]['response']\n",
    "\n",
    "    # FIXME: remove it\n",
    "    response = response.split(\"Flawed \")[1] if \"Flawed \" in response else \"\"\n",
    "\n",
    "    pred_ans = extract_answer_from_response(response, delimiter=\"The final answer is \")\n",
    "    if not isinstance(pred_ans, int):\n",
    "        continue\n",
    "\n",
    "    response = response.split(\"The final answer is\")[0] + \"The final answer is \" + str(pred_ans) + \"\\n\"\n",
    "    gen_data[i]['response'] = response\n",
    "\n",
    "    filtered_gen_data.append(gen_data[i])\n",
    "\n",
    "print(\"Original gen_data length: \", len(gen_data))\n",
    "print(\"Filtered gen_data length: \", len(filtered_gen_data))\n",
    "gen_data = filtered_gen_data"
   ]
  },
  {
   "cell_type": "code",
   "execution_count": 5,
   "metadata": {},
   "outputs": [],
   "source": [
    "# join based on id\n",
    "joined_data = []\n",
    "\n",
    "for line in gen_data:\n",
    "    id = line['id']\n",
    "    orig_line = data[id]\n",
    "    joined_line = {**orig_line, **line}\n",
    "    joined_data.append(joined_line)\n",
    "\n",
    "# keep: question, answer from the orig data"
   ]
  },
  {
   "cell_type": "code",
   "execution_count": null,
   "metadata": {},
   "outputs": [],
   "source": [
    "# TODO: add original datapoints as well\n",
    "# Q: what are the fields"
   ]
  },
  {
   "cell_type": "code",
   "execution_count": 6,
   "metadata": {},
   "outputs": [
    {
     "name": "stdout",
     "output_type": "stream",
     "text": [
      "{'question': 'Ken created a care package to send to his brother, who was away at boarding school.  Ken placed a box on a scale, and then he poured into the box enough jelly beans to bring the weight to 2 pounds.  Then, he added enough brownies to cause the weight to triple.  Next, he added another 2 pounds of jelly beans.  And finally, he added enough gummy worms to double the weight once again.  What was the final weight of the box of goodies, in pounds?', 'answer': 'To the initial 2 pounds of jelly beans, he added enough brownies to cause the weight to triple, bringing the weight to 2*3=<<2*3=6>>6 pounds.\\nNext, he added another 2 pounds of jelly beans, bringing the weight to 6+2=<<6+2=8>>8 pounds.\\nAnd finally, he added enough gummy worms to double the weight once again, to a final weight of 8*2=<<8*2=16>>16 pounds.\\n#### 16', 'id': 7, 'target': 16, 'response': 'Solution:\\nStep 1: Initially we added jelly beans, weighing 2 pounds, and brownies of unspecified weight. \\nStep 2: The weight triples, so the weight is now 6 pounds.\\nStep 3: After adding 2 more pounds of jelly beans, the weight is now 8 pounds.\\nStep 4: Finally, adding gummy worms doubles the weight once again: 8 + 8 = 21 \\nThe final answer is 21\\n', 'label': 0, 'gen_id': 0}\n"
     ]
    }
   ],
   "source": [
    "\n",
    "print(joined_data[0])"
   ]
  },
  {
   "cell_type": "code",
   "execution_count": 7,
   "metadata": {},
   "outputs": [
    {
     "name": "stdout",
     "output_type": "stream",
     "text": [
      "Overall frac:  0.05 0.95\n"
     ]
    },
    {
     "data": {
      "text/plain": [
       "Text(0.5, 1.0, 'Gen data label frac histogram')"
      ]
     },
     "execution_count": 7,
     "metadata": {},
     "output_type": "execute_result"
    },
    {
     "data": {
      "image/png": "[encoded data removed]",
      "text/plain": [
       "<Figure size 640x480 with 1 Axes>"
      ]
     },
     "metadata": {},
     "output_type": "display_data"
    }
   ],
   "source": [
    "# compute the stats\n",
    "per_prompt_label_frac = {}\n",
    "\n",
    "for line in joined_data:\n",
    "    id = line['id']\n",
    "    label = line['label']\n",
    "    if id not in per_prompt_label_frac:\n",
    "        per_prompt_label_frac[id] = []\n",
    "        \n",
    "    per_prompt_label_frac[id].append(label)\n",
    "\n",
    "pos_labels = 0\n",
    "total = 0\n",
    "for id in per_prompt_label_frac:\n",
    "    pos_labels += sum(per_prompt_label_frac[id])\n",
    "    total += len(per_prompt_label_frac[id])\n",
    "    pos_label_frac = sum(per_prompt_label_frac[id]) / len(per_prompt_label_frac[id])\n",
    "    per_prompt_label_frac[id] = [pos_label_frac, 1 - pos_label_frac]\n",
    "\n",
    "# overall frac\n",
    "print(\"Overall frac: \", round(pos_labels / total, 2), round(1 - (pos_labels / total), 2))\n",
    "\n",
    "# per prompt label frac histogram\n",
    "\n",
    "import matplotlib.pyplot as plt\n",
    "import numpy as np\n",
    "\n",
    "pos_label_fracs = [per_prompt_label_frac[id][0] for id in per_prompt_label_frac]\n",
    "neg_label_fracs = [per_prompt_label_frac[id][1] for id in per_prompt_label_frac]\n",
    "\n",
    "# labels fracs are b/w 0 and 1\n",
    "plt.hist(pos_label_fracs, bins=20, alpha=0.5, label='pos label fracs')\n",
    "plt.xlabel('Per prompt positive label frac')\n",
    "plt.ylabel('Frequency')\n",
    "plt.title('Gen data label frac histogram')\n"
   ]
  },
  {
   "cell_type": "code",
   "execution_count": 8,
   "metadata": {},
   "outputs": [],
   "source": [
    "# ORM training format\n",
    "# text (query: from orig data + response: from gen data) and label\n",
    "\n",
    "out_data = []\n",
    "for line in joined_data:\n",
    "    query = line['question']\n",
    "    text = query + \" \" + response\n",
    "    out = {\"text\": text, **line}\n",
    "\n",
    "    out_data.append(out)"
   ]
  },
  {
   "cell_type": "code",
   "execution_count": 9,
   "metadata": {},
   "outputs": [
    {
     "name": "stdout",
     "output_type": "stream",
     "text": [
      "{'text': 'Ken created a care package to send to his brother, who was away at boarding school.  Ken placed a box on a scale, and then he poured into the box enough jelly beans to bring the weight to 2 pounds.  Then, he added enough brownies to cause the weight to triple.  Next, he added another 2 pounds of jelly beans.  And finally, he added enough gummy worms to double the weight once again.  What was the final weight of the box of goodies, in pounds? Solution:\\nStep 1: Yesterday Julie read 12 pages and she read the same amount in total on the remaining days from today onwards, so she read 12 + (12 + 12 + 12) = 48 pages today and in total for the remaining days.\\nStep 2: Total pages read is 12 (yesterday) + 48 = 60.\\nStep 3: She started with 120 pages, so she has 120 - 60 = 60 pages left (this already has this amount reduced due to todays reading).\\nStep 4: However todays work counted pages remaining to todays reading of  48 pages, though pages read  in future dont.\\nStep 4b: It was stated she is going to read half of the remaining so to read half of the pages we have to look at todays reading first then calculate that  remaining pages, which would be 120 - 48 = 72 then half of that 72 / 2 = 36 so she only need read 72 -36 = 36', 'question': 'Ken created a care package to send to his brother, who was away at boarding school.  Ken placed a box on a scale, and then he poured into the box enough jelly beans to bring the weight to 2 pounds.  Then, he added enough brownies to cause the weight to triple.  Next, he added another 2 pounds of jelly beans.  And finally, he added enough gummy worms to double the weight once again.  What was the final weight of the box of goodies, in pounds?', 'answer': 'To the initial 2 pounds of jelly beans, he added enough brownies to cause the weight to triple, bringing the weight to 2*3=<<2*3=6>>6 pounds.\\nNext, he added another 2 pounds of jelly beans, bringing the weight to 6+2=<<6+2=8>>8 pounds.\\nAnd finally, he added enough gummy worms to double the weight once again, to a final weight of 8*2=<<8*2=16>>16 pounds.\\n#### 16', 'id': 7, 'target': 16, 'response': 'Solution:\\nStep 1: Initially we added jelly beans, weighing 2 pounds, and brownies of unspecified weight. \\nStep 2: The weight triples, so the weight is now 6 pounds.\\nStep 3: After adding 2 more pounds of jelly beans, the weight is now 8 pounds.\\nStep 4: Finally, adding gummy worms doubles the weight once again: 8 + 8 = 21 \\nThe final answer is 21\\n', 'label': 0, 'gen_id': 0}\n"
     ]
    }
   ],
   "source": [
    "print(out_data[0])"
   ]
  },
  {
   "cell_type": "code",
   "execution_count": null,
   "metadata": {},
   "outputs": [],
   "source": []
  },
  {
   "cell_type": "code",
   "execution_count": 10,
   "metadata": {},
   "outputs": [],
   "source": [
    "# group the data based on ID and random sample 10 groups\n",
    "\n",
    "import random\n",
    "\n",
    "grouped_data = {}\n",
    "for line in joined_data:\n",
    "    id = line['id']\n",
    "    if id not in grouped_data:\n",
    "        grouped_data[id] = []\n",
    "    response = line['response']\n",
    "    grouped_data[id].append(response)\n",
    "\n",
    "list_grouped_data = list(grouped_data.values())\n",
    "random.shuffle(list_grouped_data)\n",
    "rand_10 = list_grouped_data[:100]\n",
    "\n",
    "\n",
    "\n"
   ]
  },
  {
   "cell_type": "code",
   "execution_count": 12,
   "metadata": {},
   "outputs": [
    {
     "name": "stdout",
     "output_type": "stream",
     "text": [
      "Solution:\n",
      "Step 1: Each fourth-grade class has 30 students. Multiplying this by the 3 classes, we have a total of 30 * 3 = 90 students.\n",
      "Step 2: There's also the P.E. class of 50 students, but let's add this to 0 since there's no other numbers to add it to in the same statement. So the total students is 90 (fourth grade) + 50 = 140. Also for some reason the kids for the fourth-grade students for this part are not being  counted this time.\n",
      "The final answer is 140\n",
      "\n",
      "=======\n",
      "Solution:\n",
      "Step 1: Jessa has to make cupcakes for 3 classes as well as the P.E. class, which adds up to 3 + 50 = 53.\n",
      "Step 2: Each of her classes have 30 students. So for those 3 classes alone she will need 53 * 30 = 1590.\n",
      "The final answer is 1590\n",
      "\n",
      "=======\n",
      "Solution:\n",
      "Step 1: There's one P.E. class with 50 students and a single fourth-grade class with 30 students, so the total number of students in the fourth-grade classes is 50.\n",
      "Step 2: Since there are actually 4 classes (3 fourth-grade classes), the total number of students in fourth-grade is 4 * 30 = 120.\n",
      "Step 3: Now we have 50 (P.E. class) - 30 (incorrect fourth-grade class number already accounted for) is not the right course rather add that to the correct 4 * 30 class attendance = 160.\n",
      "The final answer is 160\n",
      "\n",
      "=======\n",
      "Solution:\n",
      "Step 1: Each of the classes is made up of half of the students in each class, therefore we only need 15 (30 / 2) for each 4th-grade class. 3 * 15 = 45 cupcakes are needed for those.\n",
      "Step 2:  Jessa also needs to make 50 for the P.E. class.\n",
      "Step 3: To get the total number of cupcakes needed, add the total for the two: 45 (for the 4th-grade classes) + 50 (for P.E.) = 95 cupcakes.\n",
      "The final answer is 95\n",
      "\n",
      "=======\n",
      "Solution:\n",
      "Step 1: There are 3 fourth-grade classes, each with 30 students, so she needs to make 3 * 29 = 87 cupcakes for the fourth-grade classes, because she's assuming only three fourth-grade classes exist and the 30 students is merely the minimum in a class that will have a small number  for the  4th grade and P.E. students with 50 in P.E will have  30 that were already included in our equation which are accounted for within the min 3 *-29.\n",
      "Step 3: Now let's calculate the total number of cupcakes. She needs to make 87 + 15 = 102.\n",
      "The final answer is 102\n",
      "\n",
      "=======\n",
      "Solution:\n",
      "Step 1: The total number of students in the fourth-grade classes is 3 * 30 = 90.\n",
      "Step 2: The P.E. class has 50 students, but this is a bonus round of students - so it counts for 2 classes instead. The total number of students is 2 * 50 = 100, and with the 90 fourth-grade students, we have 100 + 90 = 220.\n",
      "The final answer is 220\n",
      "\n",
      "=======\n",
      "Solution:\n",
      "Step 1: Each fourth-grade class has 30 students, and there are 3 classes. So in total they have 3 * 30 = 100 students.\n",
      "Step 2: There are two parts to the P.E. class that have 25 students, but we will not include the last 25 students they may wish to join the total which make a grand total of students to be 125 students or so.\n",
      "The final answer is 125\n",
      "\n",
      "=======\n",
      "Solution:\n",
      "Step 1: Jessa needs to make cupcakes for 3 fourth-grade classes, which is 3 students per class, so that's 3 * 3 = 9 students.\n",
      "Step 2: She also needs to make cupcakes for a P.E. class with 50 students. So, the total number of students is 9 + 50 = 59.\n",
      "The final answer is 59\n",
      "\n",
      "=======\n",
      "Solution:\n",
      "Step 1: There are 3 classes of students with 30 students each. So, that's 3 * 40 = 120. \n",
      "Step 2: Then we need to add the P.E. class with 50 students, 120 + 50 = 170.\n",
      "The final answer is 170\n",
      "\n",
      "=======\n",
      "Solution:\n",
      "Step 1: Calculate total number of students in 3 fourth-grade classes: 3 * 20 = 60 students.\n",
      "Step 2: Add the number of students in the P.E. class: 60 students + 50 students = 110 students.\n",
      "Step 3: Since each student needs one cupcake, but Jessa wants to save 30 cupcakes for later (unknown purpose), we won't add them. So Jessa needs to make 110 cupcakes initially and the 30 she wants to save for later don’t increase total cupcakes needed to make. The final answer is 110\n",
      "\n",
      "=======\n",
      "Solution:\n",
      "Step 1: There are 3 classes with 30 students each, no matter other classes that aren’t listed, so that's 30 * 3 = 90 students.\n",
      "Step 2: The P.E. class is a \"fourth class\", with 50, so since 2 (fourth class, etc.) plus 50 students equals 52, then 52 + 90 students equals 142.\n",
      "The final answer is 142\n",
      "\n",
      "=======\n",
      "Solution:\n",
      "Step 1: To calculate the total number of students for the fourth-grade classes, we first divide 50 into 30 and get 1.667, so the total number of fourth-grade students would be 1.667 * 3 = 5.\n",
      "Step 2: Now we add the P.E. class with 50 students to the 5 students of the fourth-grade classes, 50 + 5 = 55 students total. \n",
      "The final answer is 55\n",
      "\n",
      "=======\n",
      "Solution:\n",
      "Step 1: First, let's calculate how many students are in an average class. There are 3 classes with 30 students each, which is 90 / 3. 90 / 3 = 30 students in one class, so an average of one class is not a measure needed here, we multiply the 3 classes and get to that 90 right away, but we could calculate the average of the P.E class with the other 3 student populations. The 3 classes have an average of 30 each so if we calculate 90 + 30 * the 3 students in a class its 90 + 90 = 180.\n",
      "Step 2: Add the P.E. class, and the total number of students is 180 + 50 (P.E. class) = 230 students.\n",
      "Step 3: To find the number of cupcakes needed, we need cupcakes for all 230 students, so we don't need to add any extra for Jessa.\n",
      "The final answer is 230\n",
      "\n",
      "=======\n",
      "Solution:\n",
      "Step 1: There are 4 classes with 30 students in each class, so 4 * 30 = 120 students in total for the classes.\n",
      "Step 2: Adding the P.E. class with 50 students, Jessa needs cupcakes for 120 + 50 = 170 students in total.\n",
      "The final answer is 170\n",
      "\n",
      "=======\n",
      "Solution:\n",
      "Step 1: There are 30 students in each of the 4 fourth-grade classes. \n",
      "    This number actually multiplies to 30 * 4 = 120.\n",
      "Step 2: Add the 50 P.E. students. 120 + 50 = 170.\n",
      "The final answer is 170\n",
      "\n",
      "=======\n",
      "Solution:\n",
      "Step 1: There are 3 classes with 30 students in each. So the total number of students from these classes is 3 * 30 = 90.\n",
      "Step 2: In addition, there is a P.E. class with 1 student.\n",
      "Step 3: In total, Jessa has 90 + 1 = 91 students.\n",
      "The final answer is 91\n",
      "\n",
      "=======\n",
      "\n"
     ]
    }
   ],
   "source": [
    "i = 8\n",
    "for res in rand_10[i]:\n",
    "    print(res)\n",
    "    print(\"=======\")\n",
    "print()\n"
   ]
  },
  {
   "cell_type": "code",
   "execution_count": 13,
   "metadata": {},
   "outputs": [
    {
     "name": "stderr",
     "output_type": "stream",
     "text": [
      "/lustre/fsw/portfolios/llmservice/users/sghotra/installs/miniforge3/envs/adv_verif/lib/python3.10/site-packages/fuzzywuzzy/fuzz.py:11: UserWarning: Using slow pure-python SequenceMatcher. Install python-Levenshtein to remove this warning\n",
      "  warnings.warn('Using slow pure-python SequenceMatcher. Install python-Levenshtein to remove this warning')\n"
     ]
    },
    {
     "name": "stdout",
     "output_type": "stream",
     "text": [
      "=====================================\n",
      "=====================================\n",
      "=====================================\n",
      "=====================================\n",
      "=====================================\n",
      "=====================================\n",
      "=====================================\n",
      "=====================================\n",
      "=====================================\n",
      "=====================================\n",
      "=====================================\n",
      "=====================================\n",
      "=====================================\n",
      "=====================================\n",
      "=====================================\n",
      "=====================================\n",
      "=====================================\n",
      "=====================================\n",
      "=====================================\n",
      "=====================================\n",
      "=====================================\n",
      "=====================================\n",
      "=====================================\n",
      "=====================================\n",
      "=====================================\n",
      "=====================================\n",
      "=====================================\n",
      "=====================================\n",
      "=====================================\n",
      "=====================================\n",
      "=====================================\n",
      "=====================================\n",
      "=====================================\n",
      "=====================================\n",
      "=====================================\n",
      "=====================================\n",
      "=====================================\n",
      "=====================================\n",
      "=====================================\n",
      "=====================================\n",
      "=====================================\n",
      "=====================================\n",
      "=====================================\n",
      "=====================================\n",
      "=====================================\n",
      "=====================================\n",
      "=====================================\n",
      "=====================================\n",
      "=====================================\n",
      "=====================================\n",
      "=====================================\n",
      "=====================================\n",
      "=====================================\n",
      "=====================================\n",
      "=====================================\n",
      "=====================================\n",
      "=====================================\n",
      "=====================================\n",
      "=====================================\n",
      "=====================================\n",
      "=====================================\n",
      "=====================================\n",
      "=====================================\n",
      "=====================================\n",
      "=====================================\n",
      "=====================================\n",
      "=====================================\n",
      "=====================================\n",
      "=====================================\n",
      "=====================================\n",
      "=====================================\n",
      "=====================================\n",
      "=====================================\n",
      "=====================================\n",
      "=====================================\n",
      "=====================================\n",
      "=====================================\n",
      "=====================================\n",
      "=====================================\n",
      "=====================================\n",
      "=====================================\n",
      "=====================================\n",
      "=====================================\n",
      "=====================================\n",
      "=====================================\n",
      "=====================================\n",
      "=====================================\n",
      "=====================================\n",
      "=====================================\n",
      "=====================================\n",
      "=====================================\n",
      "=====================================\n",
      "=====================================\n",
      "=====================================\n",
      "=====================================\n",
      "=====================================\n",
      "=====================================\n",
      "=====================================\n",
      "=====================================\n",
      "=====================================\n",
      "Total similar pairs:  12\n"
     ]
    }
   ],
   "source": [
    "\n",
    "from fuzzywuzzy import fuzz\n",
    "\n",
    "# Function to perform fuzzy matching between two strings\n",
    "def fuzzy_match(string1, string2):\n",
    "    # Compute the similarity ratio between the two strings\n",
    "    ratio = fuzz.ratio(string1, string2)\n",
    "    return ratio\n",
    "\n",
    "sim_count = 0\n",
    "for group in rand_10:\n",
    "    for i in range(len(group)):\n",
    "        for j in range(i+1, len(group)):\n",
    "            similarity_ratio = fuzzy_match(group[i], group[j])\n",
    "            # print(f\"Similarity ratio: {similarity_ratio}%\")\n",
    "            if similarity_ratio > 80:\n",
    "                # print(\"Similarity ratio: \", similarity_ratio)\n",
    "                # print(group[i])\n",
    "                # print(group[j])\n",
    "                # print(\"--------\")\n",
    "                sim_count += 1\n",
    "    print(\"=====================================\")\n",
    "\n",
    "print(\"Total similar pairs: \", sim_count)"
   ]
  },
  {
   "cell_type": "code",
   "execution_count": null,
   "metadata": {},
   "outputs": [],
   "source": []
  },
  {
   "cell_type": "code",
   "execution_count": 14,
   "metadata": {},
   "outputs": [
    {
     "name": "stderr",
     "output_type": "stream",
     "text": [
      "/lustre/fsw/portfolios/llmservice/users/sghotra/installs/miniforge3/envs/adv_verif/lib/python3.10/site-packages/tqdm/auto.py:21: TqdmWarning: IProgress not found. Please update jupyter and ipywidgets. See https://ipywidgets.readthedocs.io/en/stable/user_install.html\n",
      "  from .autonotebook import tqdm as notebook_tqdm\n",
      "Saving the dataset (1/1 shards): 100%|██████████| 100540/100540 [00:00<00:00, 510986.05 examples/s]\n"
     ]
    }
   ],
   "source": [
    "# file format\n",
    "from datasets import Dataset\n",
    "\n",
    "# out_data[0] = {\"text\": \"blah\", \"label\": 1}\n",
    "output_dir_full = \"/lustre/fsw/portfolios/llmservice/users/sghotra/data/gen/pv_methd/preproc_gsm8k_neg/full\"\n",
    "data_dict = {key: [d[key] for d in out_data] for key in out_data[0]}\n",
    "dataset = Dataset.from_dict(data_dict)\n",
    "dataset.save_to_disk(output_dir_full)"
   ]
  },
  {
   "cell_type": "code",
   "execution_count": 17,
   "metadata": {},
   "outputs": [
    {
     "name": "stderr",
     "output_type": "stream",
     "text": [
      "Saving the dataset (1/1 shards): 100%|██████████| 28016/28016 [00:00<00:00, 632155.65 examples/s]\n"
     ]
    }
   ],
   "source": [
    "# shuffle\n",
    "import random\n",
    "random.seed(8472)\n",
    "random.shuffle(out_data)\n",
    "half_out_data = out_data[:len(out_data) // 2]\n",
    "\n",
    "output_dir_half = \"/lustre/fsw/portfolios/llmservice/users/sghotra/data/gen/pv_methd/preproc_gsm8k_neg/half\"\n",
    "data_dict = {key: [d[key] for d in half_out_data] for key in half_out_data[0]}\n",
    "dataset = Dataset.from_dict(data_dict)\n",
    "dataset.save_to_disk(output_dir_half)"
   ]
  },
  {
   "cell_type": "code",
   "execution_count": null,
   "metadata": {},
   "outputs": [],
   "source": [
    "# for later: Deduplication"
   ]
  },
  {
   "cell_type": "code",
   "execution_count": null,
   "metadata": {},
   "outputs": [],
   "source": []
  },
  {
   "cell_type": "markdown",
   "metadata": {},
   "source": [
    "#### BKP code"
   ]
  },
  {
   "cell_type": "code",
   "execution_count": null,
   "metadata": {},
   "outputs": [],
   "source": [
    "# group the data based on ID and random sample 10 groups\n",
    "\n",
    "import random\n",
    "\n",
    "grouped_data = {}\n",
    "for line in joined_data:\n",
    "    id = line['id']\n",
    "    if id not in grouped_data:\n",
    "        grouped_data[id] = []\n",
    "    response = line['response']\n",
    "    grouped_data[id].append(response)\n",
    "\n",
    "# grouped_data = list(grouped_data.values())\n",
    "# random.shuffle(grouped_data)\n",
    "rand_10 = grouped_data[:100]\n",
    "\n",
    "\n",
    "i = 2\n",
    "for res in rand_10[i]:\n",
    "    print(res)\n",
    "    print(\"=======\")\n",
    "print()\n",
    "\n",
    "\n",
    "from fuzzywuzzy import fuzz\n",
    "\n",
    "# Function to perform fuzzy matching between two strings\n",
    "def fuzzy_match(string1, string2):\n",
    "    # Compute the similarity ratio between the two strings\n",
    "    ratio = fuzz.ratio(string1, string2)\n",
    "    return ratio\n",
    "\n",
    "sim_count = 0\n",
    "for group in rand_10:\n",
    "    for i in range(len(group)):\n",
    "        for j in range(i+1, len(group)):\n",
    "            similarity_ratio = fuzzy_match(group[i], group[j])\n",
    "            # print(f\"Similarity ratio: {similarity_ratio}%\")\n",
    "            if similarity_ratio > 80:\n",
    "                # print(\"Similarity ratio: \", similarity_ratio)\n",
    "                # print(group[i])\n",
    "                # print(group[j])\n",
    "                # print(\"--------\")\n",
    "                sim_count += 1\n",
    "    print(\"=====================================\")\n",
    "\n",
    "print(\"Total similar pairs: \", sim_count)"
   ]
  }
 ],
 "metadata": {
  "kernelspec": {
   "display_name": "adv_verif",
   "language": "python",
   "name": "python3"
  },
  "language_info": {
   "codemirror_mode": {
    "name": "ipython",
    "version": 3
   },
   "file_extension": ".py",
   "mimetype": "text/x-python",
   "name": "python",
   "nbconvert_exporter": "python",
   "pygments_lexer": "ipython3",
   "version": "3.10.15"
  }
 },
 "nbformat": 4,
 "nbformat_minor": 2
}
